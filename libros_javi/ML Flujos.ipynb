{
 "cells": [
  {
   "cell_type": "code",
   "execution_count": 1,
   "metadata": {},
   "outputs": [
    {
     "name": "stderr",
     "output_type": "stream",
     "text": [
      "C:\\Users\\javie\\anaconda3\\lib\\site-packages\\pkg_resources\\__init__.py:1152: DeprecationWarning: Use of .. or absolute path in a resource path is not allowed and will raise exceptions in a future release.\n",
      "  self, resource_name\n",
      "C:\\Users\\javie\\anaconda3\\lib\\site-packages\\ipyleaflet\\leaflet.py:338: DeprecationWarning: metadata {'dtype': None} was set from the constructor. With traitlets 4.1, metadata should be set using the .tag() method, e.g., Int().tag(key1='value1', key2='value2')\n",
      "  data = Dataset().tag(dtype=None, sync=True, to_json=ds_x_to_json)\n"
     ]
    }
   ],
   "source": [
    "import warnings\n",
    "from traffic.data import opensky        # Cargamos opensky para poder descargar los datos\n",
    "from traffic.core import Traffic        # Cargamos la función Traffic de los tipos de aeronaves\n",
    "from datetime import date, timedelta    # Cargamos el fomrato de tiempo para poder trabajar con él\n",
    "import pandas as pd                     # Cargamos la libreria pandas para poder trabajar con ella\n",
    "\n",
    "warnings.filterwarnings(\"ignore\")       # esto nos permite elimnar los avisos"
   ]
  },
  {
   "cell_type": "code",
   "execution_count": 2,
   "metadata": {},
   "outputs": [
    {
     "name": "stdout",
     "output_type": "stream",
     "text": [
      "<class 'pandas.core.frame.DataFrame'>\n",
      "RangeIndex: 5852 entries, 0 to 5851\n",
      "Data columns (total 13 columns):\n",
      " #   Column              Non-Null Count  Dtype  \n",
      "---  ------              --------------  -----  \n",
      " 0   altitude_1          5852 non-null   float64\n",
      " 1   geoaltitude_1       5852 non-null   float64\n",
      " 2   latitude_1          5852 non-null   float64\n",
      " 3   longitude_1         5852 non-null   float64\n",
      " 4   cluster_1           5852 non-null   int64  \n",
      " 5   cluster_2           5852 non-null   int64  \n",
      " 6   Init separation     5852 non-null   float64\n",
      " 7   Init acimut         5852 non-null   float64\n",
      " 8   Var GS Module       5852 non-null   float64\n",
      " 9   Var Track           5852 non-null   float64\n",
      " 10  Var init altitude   5852 non-null   float64\n",
      " 11  Var Vertical speed  5852 non-null   float64\n",
      " 12  Conflicto           5852 non-null   int64  \n",
      "dtypes: float64(10), int64(3)\n",
      "memory usage: 594.5 KB\n"
     ]
    }
   ],
   "source": [
    "# Cargamos la BBDD con la que queremos trabajar. Esta BBDD está en formato csv y debe estar en la misma carpeta que este script\n",
    "# Ahora tenemos que com0probar que el csv es válido y carga los datos con la información y el dtype correspondiente\n",
    "Bilbao = pd.read_csv(\"BBDD_Bilbao_prueba.csv\")     #Cargamos en DataFrame\n",
    "\n",
    "# Eliminamos de la BBDD la columna Unnamed\n",
    "Bilbao = Bilbao.drop(\"Unnamed: 0\", axis = 1)\n",
    "\n",
    "Bilbao.info()\n",
    "# Podemos comprobar que ya no tenemos problemas de formato y de que tenemos todo en float64 e int64 y no tenemos la columna de Unnamed"
   ]
  },
  {
   "cell_type": "markdown",
   "metadata": {},
   "source": [
    "# 1. Conflictos entre los flujos"
   ]
  },
  {
   "cell_type": "code",
   "execution_count": 4,
   "metadata": {},
   "outputs": [],
   "source": [
    "# Vamos a determinar losflujos de tráfico en los que se producen cruces\n",
    "con = Bilbao.loc[(Bilbao['Conflicto'] == 1)]\n",
    "columnas = ['cluster_1', 'cluster_2']\n",
    "# Podemos obtener los flujos que han presentado algún conflicto, se trata de valores únicos por lo que podríamos trabajar solo con estos\n",
    "flujos_con_cruce = con[columnas].drop_duplicates()\n",
    "# Por ejemplo si quiero trabajar con un flujo en particular tengo que seleccionar los valorers de una columna\n",
    "Flujo_1 = flujos_con_cruce.iloc[0]\n",
    "# Donde Flujo_1 es el vector que contiene los flujos a considerar y Flujo_1['cluster_1'] y Flujo_2['cluster_2'] nos indica a que flujos pertenecen"
   ]
  },
  {
   "cell_type": "code",
   "execution_count": 5,
   "metadata": {},
   "outputs": [
    {
     "data": {
      "text/plain": [
       "2       0\n",
       "9       0\n",
       "10      0\n",
       "20      0\n",
       "22      0\n",
       "       ..\n",
       "5747    0\n",
       "5749    0\n",
       "5758    0\n",
       "5760    0\n",
       "5763    0\n",
       "Name: cluster_2, Length: 768, dtype: int64"
      ]
     },
     "execution_count": 5,
     "metadata": {},
     "output_type": "execute_result"
    }
   ],
   "source": [
    "# El siguiente paso es reducir la BBDD de todos los vuelos a solamente aquellos que coinciden con un par de flujos especifícos\n",
    "BBDD_Flujos = Bilbao.loc[Bilbao['cluster_1'] == Flujo_1['cluster_1']]\n",
    "BBDD_Flujos = BBDD_Flujos.loc[Bilbao['cluster_2'] == Flujo_1['cluster_2']]"
   ]
  },
  {
   "cell_type": "markdown",
   "metadata": {},
   "source": [
    "Si no el siguiente paso sería obtener una matriz para cada uno de los flujos conflictos para que se automatice\n",
    "Aquí lo estamos calculando para las aeronaves del flujo 1 con el 0 por ejemplo, pero del 0 al 1 es otro flujo.  \n",
    "```\n",
    "j = 1\n",
    "for i, flow in flujos_con_cruce.iterrows():\n",
    "    # Seleccionamos de la BBDD las filas que cumplen el cluster_1\n",
    "    filas_1 = BBDD_2.loc[BBDD_2['cluster_1'] == flow['cluster_1']]\n",
    "    # Seleccionamos del primer filtrado las filas que cumplen el cluster_2\n",
    "    filas_2 = filas_1.loc[filas_1['cluster_2'] == flow['cluster_2']]\n",
    "    # Le damos un nombre con un número distinto a cada una de las matrices\n",
    "    exec('Flujos{} = filas_2'.format(j))\n",
    "    j = j + 1\n",
    "``` \n",
    "Con este paso ya hemos conseguido programar la subdivisión de los flujos para que lo haga de golpe y nos saquen tantas matrices como necesitamos"
   ]
  },
  {
   "cell_type": "code",
   "execution_count": 61,
   "metadata": {},
   "outputs": [
    {
     "data": {
      "text/html": [
       "<div>\n",
       "<style scoped>\n",
       "    .dataframe tbody tr th:only-of-type {\n",
       "        vertical-align: middle;\n",
       "    }\n",
       "\n",
       "    .dataframe tbody tr th {\n",
       "        vertical-align: top;\n",
       "    }\n",
       "\n",
       "    .dataframe thead th {\n",
       "        text-align: right;\n",
       "    }\n",
       "</style>\n",
       "<table border=\"1\" class=\"dataframe\">\n",
       "  <thead>\n",
       "    <tr style=\"text-align: right;\">\n",
       "      <th></th>\n",
       "      <th>altitude_1</th>\n",
       "      <th>geoaltitude_1</th>\n",
       "      <th>latitude_1</th>\n",
       "      <th>longitude_1</th>\n",
       "      <th>cluster_1</th>\n",
       "      <th>cluster_2</th>\n",
       "      <th>Init separation</th>\n",
       "      <th>Init acimut</th>\n",
       "      <th>Var GS Module</th>\n",
       "      <th>Var Track</th>\n",
       "      <th>Var init altitude</th>\n",
       "      <th>Var Vertical speed</th>\n",
       "      <th>Conflicto</th>\n",
       "    </tr>\n",
       "  </thead>\n",
       "  <tbody>\n",
       "  </tbody>\n",
       "</table>\n",
       "</div>"
      ],
      "text/plain": [
       "Empty DataFrame\n",
       "Columns: [altitude_1, geoaltitude_1, latitude_1, longitude_1, cluster_1, cluster_2, Init separation, Init acimut, Var GS Module, Var Track, Var init altitude, Var Vertical speed, Conflicto]\n",
       "Index: []"
      ]
     },
     "execution_count": 61,
     "metadata": {},
     "output_type": "execute_result"
    }
   ],
   "source": [
    "# Podemos comprobar que no hay ningun vuelo duplicado\n",
    "BBDD_Flujos[BBDD_Flujos.duplicated(keep=False)]"
   ]
  },
  {
   "cell_type": "code",
   "execution_count": 63,
   "metadata": {},
   "outputs": [
    {
     "data": {
      "text/html": [
       "<div>\n",
       "<style scoped>\n",
       "    .dataframe tbody tr th:only-of-type {\n",
       "        vertical-align: middle;\n",
       "    }\n",
       "\n",
       "    .dataframe tbody tr th {\n",
       "        vertical-align: top;\n",
       "    }\n",
       "\n",
       "    .dataframe thead th {\n",
       "        text-align: right;\n",
       "    }\n",
       "</style>\n",
       "<table border=\"1\" class=\"dataframe\">\n",
       "  <thead>\n",
       "    <tr style=\"text-align: right;\">\n",
       "      <th></th>\n",
       "      <th>altitude_1</th>\n",
       "      <th>geoaltitude_1</th>\n",
       "      <th>latitude_1</th>\n",
       "      <th>longitude_1</th>\n",
       "      <th>cluster_1</th>\n",
       "      <th>cluster_2</th>\n",
       "      <th>Init separation</th>\n",
       "      <th>Init acimut</th>\n",
       "      <th>Var GS Module</th>\n",
       "      <th>Var Track</th>\n",
       "      <th>Var init altitude</th>\n",
       "      <th>Var Vertical speed</th>\n",
       "      <th>Conflicto</th>\n",
       "    </tr>\n",
       "  </thead>\n",
       "  <tbody>\n",
       "    <tr>\n",
       "      <th>count</th>\n",
       "      <td>768.000000</td>\n",
       "      <td>768.000000</td>\n",
       "      <td>768.000000</td>\n",
       "      <td>768.000000</td>\n",
       "      <td>768.0</td>\n",
       "      <td>768.0</td>\n",
       "      <td>768.000000</td>\n",
       "      <td>768.000000</td>\n",
       "      <td>768.000000</td>\n",
       "      <td>768.000000</td>\n",
       "      <td>768.000000</td>\n",
       "      <td>768.000000</td>\n",
       "      <td>768.000000</td>\n",
       "    </tr>\n",
       "    <tr>\n",
       "      <th>mean</th>\n",
       "      <td>36472.395833</td>\n",
       "      <td>36074.479167</td>\n",
       "      <td>43.058395</td>\n",
       "      <td>-2.904213</td>\n",
       "      <td>-1.0</td>\n",
       "      <td>0.0</td>\n",
       "      <td>9.590656</td>\n",
       "      <td>-40.372238</td>\n",
       "      <td>199.800944</td>\n",
       "      <td>109.398639</td>\n",
       "      <td>1172.395833</td>\n",
       "      <td>-74.666667</td>\n",
       "      <td>0.003906</td>\n",
       "    </tr>\n",
       "    <tr>\n",
       "      <th>std</th>\n",
       "      <td>2505.609038</td>\n",
       "      <td>2549.952013</td>\n",
       "      <td>0.126834</td>\n",
       "      <td>0.198640</td>\n",
       "      <td>0.0</td>\n",
       "      <td>0.0</td>\n",
       "      <td>9.016226</td>\n",
       "      <td>108.005006</td>\n",
       "      <td>247.605338</td>\n",
       "      <td>144.624876</td>\n",
       "      <td>2889.256454</td>\n",
       "      <td>376.462604</td>\n",
       "      <td>0.062418</td>\n",
       "    </tr>\n",
       "    <tr>\n",
       "      <th>min</th>\n",
       "      <td>31975.000000</td>\n",
       "      <td>31550.000000</td>\n",
       "      <td>42.979028</td>\n",
       "      <td>-3.172302</td>\n",
       "      <td>-1.0</td>\n",
       "      <td>0.0</td>\n",
       "      <td>0.026155</td>\n",
       "      <td>-179.350644</td>\n",
       "      <td>0.999999</td>\n",
       "      <td>-14.571525</td>\n",
       "      <td>-5400.000000</td>\n",
       "      <td>-960.000000</td>\n",
       "      <td>0.000000</td>\n",
       "    </tr>\n",
       "    <tr>\n",
       "      <th>25%</th>\n",
       "      <td>35987.500000</td>\n",
       "      <td>35350.000000</td>\n",
       "      <td>42.982445</td>\n",
       "      <td>-3.017431</td>\n",
       "      <td>-1.0</td>\n",
       "      <td>0.0</td>\n",
       "      <td>2.849829</td>\n",
       "      <td>-105.677328</td>\n",
       "      <td>42.746305</td>\n",
       "      <td>-1.091538</td>\n",
       "      <td>-975.000000</td>\n",
       "      <td>-128.000000</td>\n",
       "      <td>0.000000</td>\n",
       "    </tr>\n",
       "    <tr>\n",
       "      <th>50%</th>\n",
       "      <td>36000.000000</td>\n",
       "      <td>35600.000000</td>\n",
       "      <td>42.987873</td>\n",
       "      <td>-2.922396</td>\n",
       "      <td>-1.0</td>\n",
       "      <td>0.0</td>\n",
       "      <td>5.798042</td>\n",
       "      <td>-90.788564</td>\n",
       "      <td>71.449084</td>\n",
       "      <td>5.112138</td>\n",
       "      <td>800.000000</td>\n",
       "      <td>0.000000</td>\n",
       "      <td>0.000000</td>\n",
       "    </tr>\n",
       "    <tr>\n",
       "      <th>75%</th>\n",
       "      <td>38000.000000</td>\n",
       "      <td>37525.000000</td>\n",
       "      <td>43.058201</td>\n",
       "      <td>-2.841866</td>\n",
       "      <td>-1.0</td>\n",
       "      <td>0.0</td>\n",
       "      <td>17.392139</td>\n",
       "      <td>89.189837</td>\n",
       "      <td>218.748900</td>\n",
       "      <td>289.245024</td>\n",
       "      <td>2050.000000</td>\n",
       "      <td>64.000000</td>\n",
       "      <td>0.000000</td>\n",
       "    </tr>\n",
       "    <tr>\n",
       "      <th>max</th>\n",
       "      <td>43000.000000</td>\n",
       "      <td>42750.000000</td>\n",
       "      <td>43.408539</td>\n",
       "      <td>-2.463045</td>\n",
       "      <td>-1.0</td>\n",
       "      <td>0.0</td>\n",
       "      <td>30.904373</td>\n",
       "      <td>179.208438</td>\n",
       "      <td>865.591535</td>\n",
       "      <td>356.414344</td>\n",
       "      <td>11000.000000</td>\n",
       "      <td>1088.000000</td>\n",
       "      <td>1.000000</td>\n",
       "    </tr>\n",
       "  </tbody>\n",
       "</table>\n",
       "</div>"
      ],
      "text/plain": [
       "         altitude_1  geoaltitude_1  latitude_1  longitude_1  cluster_1  \\\n",
       "count    768.000000     768.000000  768.000000   768.000000      768.0   \n",
       "mean   36472.395833   36074.479167   43.058395    -2.904213       -1.0   \n",
       "std     2505.609038    2549.952013    0.126834     0.198640        0.0   \n",
       "min    31975.000000   31550.000000   42.979028    -3.172302       -1.0   \n",
       "25%    35987.500000   35350.000000   42.982445    -3.017431       -1.0   \n",
       "50%    36000.000000   35600.000000   42.987873    -2.922396       -1.0   \n",
       "75%    38000.000000   37525.000000   43.058201    -2.841866       -1.0   \n",
       "max    43000.000000   42750.000000   43.408539    -2.463045       -1.0   \n",
       "\n",
       "       cluster_2  Init separation  Init acimut  Var GS Module   Var Track  \\\n",
       "count      768.0       768.000000   768.000000     768.000000  768.000000   \n",
       "mean         0.0         9.590656   -40.372238     199.800944  109.398639   \n",
       "std          0.0         9.016226   108.005006     247.605338  144.624876   \n",
       "min          0.0         0.026155  -179.350644       0.999999  -14.571525   \n",
       "25%          0.0         2.849829  -105.677328      42.746305   -1.091538   \n",
       "50%          0.0         5.798042   -90.788564      71.449084    5.112138   \n",
       "75%          0.0        17.392139    89.189837     218.748900  289.245024   \n",
       "max          0.0        30.904373   179.208438     865.591535  356.414344   \n",
       "\n",
       "       Var init altitude  Var Vertical speed   Conflicto  \n",
       "count         768.000000          768.000000  768.000000  \n",
       "mean         1172.395833          -74.666667    0.003906  \n",
       "std          2889.256454          376.462604    0.062418  \n",
       "min         -5400.000000         -960.000000    0.000000  \n",
       "25%          -975.000000         -128.000000    0.000000  \n",
       "50%           800.000000            0.000000    0.000000  \n",
       "75%          2050.000000           64.000000    0.000000  \n",
       "max         11000.000000         1088.000000    1.000000  "
      ]
     },
     "execution_count": 63,
     "metadata": {},
     "output_type": "execute_result"
    }
   ],
   "source": [
    "# Además podemos extraer información estadística de la BBDD\n",
    "BBDD_Flujos.describe()"
   ]
  },
  {
   "cell_type": "code",
   "execution_count": 51,
   "metadata": {},
   "outputs": [
    {
     "name": "stdout",
     "output_type": "stream",
     "text": [
      "768 3\n"
     ]
    },
    {
     "data": {
      "text/html": [
       "<div>\n",
       "<style scoped>\n",
       "    .dataframe tbody tr th:only-of-type {\n",
       "        vertical-align: middle;\n",
       "    }\n",
       "\n",
       "    .dataframe tbody tr th {\n",
       "        vertical-align: top;\n",
       "    }\n",
       "\n",
       "    .dataframe thead th {\n",
       "        text-align: right;\n",
       "    }\n",
       "</style>\n",
       "<table border=\"1\" class=\"dataframe\">\n",
       "  <thead>\n",
       "    <tr style=\"text-align: right;\">\n",
       "      <th></th>\n",
       "      <th>altitude_1</th>\n",
       "      <th>geoaltitude_1</th>\n",
       "      <th>latitude_1</th>\n",
       "      <th>longitude_1</th>\n",
       "      <th>cluster_1</th>\n",
       "      <th>cluster_2</th>\n",
       "      <th>Init separation</th>\n",
       "      <th>Init acimut</th>\n",
       "      <th>Var GS Module</th>\n",
       "      <th>Var Track</th>\n",
       "      <th>Var init altitude</th>\n",
       "      <th>Var Vertical speed</th>\n",
       "      <th>Conflicto</th>\n",
       "    </tr>\n",
       "  </thead>\n",
       "  <tbody>\n",
       "    <tr>\n",
       "      <th>62</th>\n",
       "      <td>37625.0</td>\n",
       "      <td>37350.0</td>\n",
       "      <td>42.979028</td>\n",
       "      <td>-2.944336</td>\n",
       "      <td>-1</td>\n",
       "      <td>0</td>\n",
       "      <td>1.490296</td>\n",
       "      <td>-81.532121</td>\n",
       "      <td>35.227799</td>\n",
       "      <td>3.559972</td>\n",
       "      <td>250.0</td>\n",
       "      <td>64.0</td>\n",
       "      <td>1</td>\n",
       "    </tr>\n",
       "    <tr>\n",
       "      <th>478</th>\n",
       "      <td>39225.0</td>\n",
       "      <td>38625.0</td>\n",
       "      <td>42.982473</td>\n",
       "      <td>-2.974091</td>\n",
       "      <td>-1</td>\n",
       "      <td>0</td>\n",
       "      <td>2.058785</td>\n",
       "      <td>-92.463909</td>\n",
       "      <td>70.035645</td>\n",
       "      <td>-7.430207</td>\n",
       "      <td>2050.0</td>\n",
       "      <td>192.0</td>\n",
       "      <td>1</td>\n",
       "    </tr>\n",
       "    <tr>\n",
       "      <th>3077</th>\n",
       "      <td>36000.0</td>\n",
       "      <td>35700.0</td>\n",
       "      <td>43.020087</td>\n",
       "      <td>-3.024183</td>\n",
       "      <td>-1</td>\n",
       "      <td>0</td>\n",
       "      <td>2.287163</td>\n",
       "      <td>-179.350644</td>\n",
       "      <td>54.817833</td>\n",
       "      <td>0.247659</td>\n",
       "      <td>0.0</td>\n",
       "      <td>0.0</td>\n",
       "      <td>1</td>\n",
       "    </tr>\n",
       "  </tbody>\n",
       "</table>\n",
       "</div>"
      ],
      "text/plain": [
       "      altitude_1  geoaltitude_1  latitude_1  longitude_1  cluster_1  \\\n",
       "62       37625.0        37350.0   42.979028    -2.944336         -1   \n",
       "478      39225.0        38625.0   42.982473    -2.974091         -1   \n",
       "3077     36000.0        35700.0   43.020087    -3.024183         -1   \n",
       "\n",
       "      cluster_2  Init separation  Init acimut  Var GS Module  Var Track  \\\n",
       "62            0         1.490296   -81.532121      35.227799   3.559972   \n",
       "478           0         2.058785   -92.463909      70.035645  -7.430207   \n",
       "3077          0         2.287163  -179.350644      54.817833   0.247659   \n",
       "\n",
       "      Var init altitude  Var Vertical speed  Conflicto  \n",
       "62                250.0                64.0          1  \n",
       "478              2050.0               192.0          1  \n",
       "3077                0.0                 0.0          1  "
      ]
     },
     "execution_count": 51,
     "metadata": {},
     "output_type": "execute_result"
    }
   ],
   "source": [
    "# ¿Cuantos conflictos hay entre todas las posibilidades?\n",
    "print(len(BBDD_Flujos), len(BBDD_Flujos[BBDD_Flujos['Conflicto'] == 1]))\n",
    "\n",
    "# También podemos ver cuantos conflictos tienen entre estos flujos\n",
    "BBDD_Flujos[BBDD_Flujos['Conflicto'] == 1]"
   ]
  },
  {
   "cell_type": "code",
   "execution_count": 19,
   "metadata": {},
   "outputs": [
    {
     "data": {
      "text/html": [
       "<div>\n",
       "<style scoped>\n",
       "    .dataframe tbody tr th:only-of-type {\n",
       "        vertical-align: middle;\n",
       "    }\n",
       "\n",
       "    .dataframe tbody tr th {\n",
       "        vertical-align: top;\n",
       "    }\n",
       "\n",
       "    .dataframe thead th {\n",
       "        text-align: right;\n",
       "    }\n",
       "</style>\n",
       "<table border=\"1\" class=\"dataframe\">\n",
       "  <thead>\n",
       "    <tr style=\"text-align: right;\">\n",
       "      <th></th>\n",
       "      <th>altitude_1</th>\n",
       "      <th>geoaltitude_1</th>\n",
       "      <th>latitude_1</th>\n",
       "      <th>longitude_1</th>\n",
       "      <th>Init separation</th>\n",
       "      <th>Init acimut</th>\n",
       "      <th>Var GS Module</th>\n",
       "      <th>Var Track</th>\n",
       "      <th>Var init altitude</th>\n",
       "      <th>Var Vertical speed</th>\n",
       "    </tr>\n",
       "  </thead>\n",
       "  <tbody>\n",
       "    <tr>\n",
       "      <th>2</th>\n",
       "      <td>37625.0</td>\n",
       "      <td>37350.0</td>\n",
       "      <td>42.979028</td>\n",
       "      <td>-2.944336</td>\n",
       "      <td>1.356611</td>\n",
       "      <td>-90.343315</td>\n",
       "      <td>43.416549</td>\n",
       "      <td>3.946407</td>\n",
       "      <td>1600.0</td>\n",
       "      <td>512.0</td>\n",
       "    </tr>\n",
       "    <tr>\n",
       "      <th>9</th>\n",
       "      <td>37625.0</td>\n",
       "      <td>37350.0</td>\n",
       "      <td>42.979028</td>\n",
       "      <td>-2.944336</td>\n",
       "      <td>1.446362</td>\n",
       "      <td>-88.703679</td>\n",
       "      <td>32.649627</td>\n",
       "      <td>3.625368</td>\n",
       "      <td>625.0</td>\n",
       "      <td>-256.0</td>\n",
       "    </tr>\n",
       "    <tr>\n",
       "      <th>10</th>\n",
       "      <td>37625.0</td>\n",
       "      <td>37350.0</td>\n",
       "      <td>42.979028</td>\n",
       "      <td>-2.944336</td>\n",
       "      <td>0.942923</td>\n",
       "      <td>-79.585217</td>\n",
       "      <td>51.400345</td>\n",
       "      <td>5.125962</td>\n",
       "      <td>1625.0</td>\n",
       "      <td>448.0</td>\n",
       "    </tr>\n",
       "    <tr>\n",
       "      <th>20</th>\n",
       "      <td>37625.0</td>\n",
       "      <td>37350.0</td>\n",
       "      <td>42.979028</td>\n",
       "      <td>-2.944336</td>\n",
       "      <td>0.462716</td>\n",
       "      <td>-79.565758</td>\n",
       "      <td>69.426160</td>\n",
       "      <td>6.614749</td>\n",
       "      <td>3625.0</td>\n",
       "      <td>448.0</td>\n",
       "    </tr>\n",
       "    <tr>\n",
       "      <th>22</th>\n",
       "      <td>37625.0</td>\n",
       "      <td>37350.0</td>\n",
       "      <td>42.979028</td>\n",
       "      <td>-2.944336</td>\n",
       "      <td>3.369445</td>\n",
       "      <td>-87.974453</td>\n",
       "      <td>26.925801</td>\n",
       "      <td>-3.360991</td>\n",
       "      <td>450.0</td>\n",
       "      <td>-384.0</td>\n",
       "    </tr>\n",
       "  </tbody>\n",
       "</table>\n",
       "</div>"
      ],
      "text/plain": [
       "    altitude_1  geoaltitude_1  latitude_1  longitude_1  Init separation  \\\n",
       "2      37625.0        37350.0   42.979028    -2.944336         1.356611   \n",
       "9      37625.0        37350.0   42.979028    -2.944336         1.446362   \n",
       "10     37625.0        37350.0   42.979028    -2.944336         0.942923   \n",
       "20     37625.0        37350.0   42.979028    -2.944336         0.462716   \n",
       "22     37625.0        37350.0   42.979028    -2.944336         3.369445   \n",
       "\n",
       "    Init acimut  Var GS Module  Var Track  Var init altitude  \\\n",
       "2    -90.343315      43.416549   3.946407             1600.0   \n",
       "9    -88.703679      32.649627   3.625368              625.0   \n",
       "10   -79.585217      51.400345   5.125962             1625.0   \n",
       "20   -79.565758      69.426160   6.614749             3625.0   \n",
       "22   -87.974453      26.925801  -3.360991              450.0   \n",
       "\n",
       "    Var Vertical speed  \n",
       "2                512.0  \n",
       "9               -256.0  \n",
       "10               448.0  \n",
       "20               448.0  \n",
       "22              -384.0  "
      ]
     },
     "execution_count": 19,
     "metadata": {},
     "output_type": "execute_result"
    }
   ],
   "source": [
    "# Ahora sobre esta BBDD ya deberíamos poder aplicar los algoritmos de ML\n",
    "# Los traiing son todos menos las labels (Conflictos)\n",
    "column = ['cluster_1', 'cluster_2', 'Conflicto']\n",
    "X = BBDD_Flujos.drop(column, axis = 1)\n",
    "# Las labels son la columna de conflictos\n",
    "y = BBDD_Flujos['Conflicto']\n",
    "# Mostramos la salida de la X\n",
    "X.head()"
   ]
  },
  {
   "cell_type": "markdown",
   "metadata": {},
   "source": [
    "# 2. Aplicación de ML"
   ]
  },
  {
   "cell_type": "code",
   "execution_count": 25,
   "metadata": {},
   "outputs": [
    {
     "data": {
      "text/plain": [
       "62      1\n",
       "478     1\n",
       "3077    1\n",
       "Name: Conflicto, dtype: int64"
      ]
     },
     "execution_count": 25,
     "metadata": {},
     "output_type": "execute_result"
    }
   ],
   "source": [
    "# Podemos comprobar que las label también son 0 y 1 y las posiciones de los conflictos que coinciden con los de la BBDD\n",
    "y[y == 1]"
   ]
  },
  {
   "cell_type": "code",
   "execution_count": 26,
   "metadata": {},
   "outputs": [],
   "source": [
    "# Dividimos la muestra entre datos de training y de testing\n",
    "from sklearn.model_selection import train_test_split\n",
    "X_train, X_test, y_train, y_test = train_test_split(X , y , stratify = y, test_size = 0.2, random_state = 42)\n",
    "\n",
    "# De esta forma tenemos dividia la muestra en un 20% test y 80% train\n",
    "# Lo he comprobado y he visto que los test X e Y siguen en la misma posición, eso no cambia así que bien, están relacionados los datos con la y"
   ]
  },
  {
   "cell_type": "code",
   "execution_count": 35,
   "metadata": {},
   "outputs": [
    {
     "data": {
      "text/plain": [
       "(768, 614, 154, 2, 1)"
      ]
     },
     "execution_count": 35,
     "metadata": {},
     "output_type": "execute_result"
    }
   ],
   "source": [
    "# En este caso podemos ver como han quedado la distribución para las labels en función de que conflictos en que zona\n",
    "len(y), len(y_train), len(y_test), len(y_train[y_train == 1]), len(y_test[y_test == 1])"
   ]
  },
  {
   "cell_type": "code",
   "execution_count": 36,
   "metadata": {},
   "outputs": [
    {
     "data": {
      "text/plain": [
       "Pipeline(memory=None,\n",
       "         steps=[('scaler',\n",
       "                 StandardScaler(copy=True, with_mean=True, with_std=True)),\n",
       "                ('linear_svc',\n",
       "                 LinearSVC(C=1, class_weight=None, dual=True,\n",
       "                           fit_intercept=True, intercept_scaling=1,\n",
       "                           loss='hinge', max_iter=1000, multi_class='ovr',\n",
       "                           penalty='l2', random_state=None, tol=0.0001,\n",
       "                           verbose=0))],\n",
       "         verbose=False)"
      ]
     },
     "execution_count": 36,
     "metadata": {},
     "output_type": "execute_result"
    }
   ],
   "source": [
    "# Vamos a probar con un SVC\n",
    "from sklearn.pipeline import Pipeline\n",
    "from sklearn.preprocessing import StandardScaler\n",
    "from sklearn.svm import LinearSVC\n",
    "\n",
    "svm_clf = Pipeline((\n",
    "    ('scaler', StandardScaler()),\n",
    "    ('linear_svc', LinearSVC(C=1, loss = 'hinge'))\n",
    "))\n",
    "\n",
    "svm_clf.fit(X_train, y_train)"
   ]
  },
  {
   "cell_type": "code",
   "execution_count": 37,
   "metadata": {},
   "outputs": [],
   "source": [
    "from sklearn.model_selection import cross_val_score\n",
    "scores = -1 * cross_val_score(svm_clf, X, y,\n",
    "                             cv = 5,\n",
    "                             scoring = 'neg_mean_absolute_error')"
   ]
  },
  {
   "cell_type": "code",
   "execution_count": 38,
   "metadata": {},
   "outputs": [
    {
     "data": {
      "text/plain": [
       "array([0.00649351, 0.00649351, 0.00649351, 0.        , 0.        ])"
      ]
     },
     "execution_count": 38,
     "metadata": {},
     "output_type": "execute_result"
    }
   ],
   "source": [
    "scores"
   ]
  },
  {
   "cell_type": "code",
   "execution_count": 39,
   "metadata": {},
   "outputs": [],
   "source": [
    "from sklearn.model_selection import cross_val_predict\n",
    "\n",
    "y_train_pred = cross_val_predict(svm_clf, X_train, y_train, cv = 3)"
   ]
  },
  {
   "cell_type": "code",
   "execution_count": 44,
   "metadata": {},
   "outputs": [
    {
     "data": {
      "text/plain": [
       "array([[612,   0],\n",
       "       [  2,   0]], dtype=int64)"
      ]
     },
     "execution_count": 44,
     "metadata": {},
     "output_type": "execute_result"
    }
   ],
   "source": [
    "from sklearn.metrics import confusion_matrix\n",
    "\n",
    "confusion_matrix(y_train, y_train_pred)"
   ]
  },
  {
   "cell_type": "code",
   "execution_count": null,
   "metadata": {},
   "outputs": [],
   "source": []
  }
 ],
 "metadata": {
  "kernelspec": {
   "display_name": "Python 3",
   "language": "python",
   "name": "python3"
  },
  "language_info": {
   "codemirror_mode": {
    "name": "ipython",
    "version": 3
   },
   "file_extension": ".py",
   "mimetype": "text/x-python",
   "name": "python",
   "nbconvert_exporter": "python",
   "pygments_lexer": "ipython3",
   "version": "3.7.8"
  }
 },
 "nbformat": 4,
 "nbformat_minor": 4
}
