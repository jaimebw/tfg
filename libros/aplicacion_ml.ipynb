{
 "cells": [
  {
   "cell_type": "code",
   "execution_count": 11,
   "metadata": {},
   "outputs": [],
   "source": [
    "import traffic\n",
    "import pandas as pd \n",
    "import os\n",
    "from traffic.core import Traffic\n",
    "from biblio_herramienta.herramienta import *\n",
    "from biblio_herramienta.tratardatos import *\n",
    "from biblio_herramienta.ml import *"
   ]
  },
  {
   "cell_type": "code",
   "execution_count": 12,
   "metadata": {},
   "outputs": [],
   "source": [
    "archivoBBDD = r\"/Users/jaimebowen/OneDrive/TFGSeptiembre/libros/datos_sectores/datos_buenos/BBDD2_filtrado.csv\""
   ]
  },
  {
   "cell_type": "code",
   "execution_count": 13,
   "metadata": {},
   "outputs": [],
   "source": [
    "bbdd = pd.read_csv(archivoBBDD)"
   ]
  },
  {
   "cell_type": "code",
   "execution_count": 14,
   "metadata": {},
   "outputs": [
    {
     "data": {
      "text/html": [
       "<div>\n",
       "<style scoped>\n",
       "    .dataframe tbody tr th:only-of-type {\n",
       "        vertical-align: middle;\n",
       "    }\n",
       "\n",
       "    .dataframe tbody tr th {\n",
       "        vertical-align: top;\n",
       "    }\n",
       "\n",
       "    .dataframe thead th {\n",
       "        text-align: right;\n",
       "    }\n",
       "</style>\n",
       "<table border=\"1\" class=\"dataframe\">\n",
       "  <thead>\n",
       "    <tr style=\"text-align: right;\">\n",
       "      <th></th>\n",
       "      <th>Unnamed: 0</th>\n",
       "      <th>altitude_1</th>\n",
       "      <th>geoaltitude_1</th>\n",
       "      <th>latitude_1</th>\n",
       "      <th>longitude_1</th>\n",
       "      <th>track_unwrapped_1</th>\n",
       "      <th>cluster_1</th>\n",
       "      <th>track_unwrapped_2</th>\n",
       "      <th>cluster_2</th>\n",
       "      <th>Init separation</th>\n",
       "      <th>Init acimut</th>\n",
       "      <th>Var GS Module</th>\n",
       "      <th>Var Track</th>\n",
       "      <th>Var init altitude</th>\n",
       "      <th>Var Vertical speed</th>\n",
       "      <th>Conflicto</th>\n",
       "      <th>MinDis</th>\n",
       "      <th>Timetoconf</th>\n",
       "    </tr>\n",
       "  </thead>\n",
       "  <tbody>\n",
       "    <tr>\n",
       "      <th>0</th>\n",
       "      <td>0</td>\n",
       "      <td>35025.0</td>\n",
       "      <td>35000.0</td>\n",
       "      <td>44.375129</td>\n",
       "      <td>-3.97484</td>\n",
       "      <td>187.314737</td>\n",
       "      <td>3</td>\n",
       "      <td>23.372108</td>\n",
       "      <td>6</td>\n",
       "      <td>104.868237</td>\n",
       "      <td>-156.321253</td>\n",
       "      <td>912.002645</td>\n",
       "      <td>163.942628</td>\n",
       "      <td>-975.0</td>\n",
       "      <td>-64.0</td>\n",
       "      <td>0</td>\n",
       "      <td>10.0</td>\n",
       "      <td>10000</td>\n",
       "    </tr>\n",
       "    <tr>\n",
       "      <th>1</th>\n",
       "      <td>1</td>\n",
       "      <td>35025.0</td>\n",
       "      <td>35000.0</td>\n",
       "      <td>44.375129</td>\n",
       "      <td>-3.97484</td>\n",
       "      <td>187.314737</td>\n",
       "      <td>3</td>\n",
       "      <td>183.321476</td>\n",
       "      <td>3</td>\n",
       "      <td>1.104216</td>\n",
       "      <td>89.266358</td>\n",
       "      <td>50.057158</td>\n",
       "      <td>3.993261</td>\n",
       "      <td>25.0</td>\n",
       "      <td>-64.0</td>\n",
       "      <td>0</td>\n",
       "      <td>10.0</td>\n",
       "      <td>10000</td>\n",
       "    </tr>\n",
       "    <tr>\n",
       "      <th>2</th>\n",
       "      <td>2</td>\n",
       "      <td>35025.0</td>\n",
       "      <td>35000.0</td>\n",
       "      <td>44.375129</td>\n",
       "      <td>-3.97484</td>\n",
       "      <td>187.314737</td>\n",
       "      <td>3</td>\n",
       "      <td>22.853767</td>\n",
       "      <td>4</td>\n",
       "      <td>130.363624</td>\n",
       "      <td>159.469960</td>\n",
       "      <td>893.772561</td>\n",
       "      <td>164.460969</td>\n",
       "      <td>-975.0</td>\n",
       "      <td>-64.0</td>\n",
       "      <td>0</td>\n",
       "      <td>10.0</td>\n",
       "      <td>10000</td>\n",
       "    </tr>\n",
       "    <tr>\n",
       "      <th>3</th>\n",
       "      <td>3</td>\n",
       "      <td>35025.0</td>\n",
       "      <td>35000.0</td>\n",
       "      <td>44.375129</td>\n",
       "      <td>-3.97484</td>\n",
       "      <td>187.314737</td>\n",
       "      <td>3</td>\n",
       "      <td>187.867927</td>\n",
       "      <td>3</td>\n",
       "      <td>0.155850</td>\n",
       "      <td>-101.368558</td>\n",
       "      <td>85.107283</td>\n",
       "      <td>-0.553190</td>\n",
       "      <td>-3975.0</td>\n",
       "      <td>-64.0</td>\n",
       "      <td>0</td>\n",
       "      <td>10.0</td>\n",
       "      <td>10000</td>\n",
       "    </tr>\n",
       "    <tr>\n",
       "      <th>4</th>\n",
       "      <td>4</td>\n",
       "      <td>35025.0</td>\n",
       "      <td>35000.0</td>\n",
       "      <td>44.375129</td>\n",
       "      <td>-3.97484</td>\n",
       "      <td>187.314737</td>\n",
       "      <td>3</td>\n",
       "      <td>12.617341</td>\n",
       "      <td>4</td>\n",
       "      <td>125.026066</td>\n",
       "      <td>164.574815</td>\n",
       "      <td>907.033171</td>\n",
       "      <td>174.697396</td>\n",
       "      <td>500.0</td>\n",
       "      <td>-960.0</td>\n",
       "      <td>0</td>\n",
       "      <td>10.0</td>\n",
       "      <td>10000</td>\n",
       "    </tr>\n",
       "  </tbody>\n",
       "</table>\n",
       "</div>"
      ],
      "text/plain": [
       "   Unnamed: 0  altitude_1  geoaltitude_1  latitude_1  longitude_1  \\\n",
       "0           0     35025.0        35000.0   44.375129     -3.97484   \n",
       "1           1     35025.0        35000.0   44.375129     -3.97484   \n",
       "2           2     35025.0        35000.0   44.375129     -3.97484   \n",
       "3           3     35025.0        35000.0   44.375129     -3.97484   \n",
       "4           4     35025.0        35000.0   44.375129     -3.97484   \n",
       "\n",
       "   track_unwrapped_1  cluster_1  track_unwrapped_2  cluster_2  \\\n",
       "0         187.314737          3          23.372108          6   \n",
       "1         187.314737          3         183.321476          3   \n",
       "2         187.314737          3          22.853767          4   \n",
       "3         187.314737          3         187.867927          3   \n",
       "4         187.314737          3          12.617341          4   \n",
       "\n",
       "   Init separation  Init acimut  Var GS Module   Var Track  Var init altitude  \\\n",
       "0       104.868237  -156.321253     912.002645  163.942628             -975.0   \n",
       "1         1.104216    89.266358      50.057158    3.993261               25.0   \n",
       "2       130.363624   159.469960     893.772561  164.460969             -975.0   \n",
       "3         0.155850  -101.368558      85.107283   -0.553190            -3975.0   \n",
       "4       125.026066   164.574815     907.033171  174.697396              500.0   \n",
       "\n",
       "   Var Vertical speed  Conflicto  MinDis  Timetoconf  \n",
       "0               -64.0          0    10.0       10000  \n",
       "1               -64.0          0    10.0       10000  \n",
       "2               -64.0          0    10.0       10000  \n",
       "3               -64.0          0    10.0       10000  \n",
       "4              -960.0          0    10.0       10000  "
      ]
     },
     "execution_count": 14,
     "metadata": {},
     "output_type": "execute_result"
    }
   ],
   "source": [
    "bbdd.head()"
   ]
  },
  {
   "cell_type": "code",
   "execution_count": 15,
   "metadata": {},
   "outputs": [
    {
     "data": {
      "text/html": [
       "<div>\n",
       "<style scoped>\n",
       "    .dataframe tbody tr th:only-of-type {\n",
       "        vertical-align: middle;\n",
       "    }\n",
       "\n",
       "    .dataframe tbody tr th {\n",
       "        vertical-align: top;\n",
       "    }\n",
       "\n",
       "    .dataframe thead th {\n",
       "        text-align: right;\n",
       "    }\n",
       "</style>\n",
       "<table border=\"1\" class=\"dataframe\">\n",
       "  <thead>\n",
       "    <tr style=\"text-align: right;\">\n",
       "      <th></th>\n",
       "      <th>altitude_1</th>\n",
       "      <th>geoaltitude_1</th>\n",
       "      <th>latitude_1</th>\n",
       "      <th>longitude_1</th>\n",
       "      <th>track_unwrapped_1</th>\n",
       "      <th>cluster_1</th>\n",
       "      <th>track_unwrapped_2</th>\n",
       "      <th>cluster_2</th>\n",
       "      <th>Init separation</th>\n",
       "      <th>Init acimut</th>\n",
       "      <th>Var GS Module</th>\n",
       "      <th>Var Track</th>\n",
       "      <th>Var init altitude</th>\n",
       "      <th>Var Vertical speed</th>\n",
       "      <th>Conflicto</th>\n",
       "      <th>MinDis</th>\n",
       "      <th>Timetoconf</th>\n",
       "    </tr>\n",
       "  </thead>\n",
       "  <tbody>\n",
       "    <tr>\n",
       "      <th>0</th>\n",
       "      <td>35025.0</td>\n",
       "      <td>35000.0</td>\n",
       "      <td>44.375129</td>\n",
       "      <td>-3.97484</td>\n",
       "      <td>187.314737</td>\n",
       "      <td>3</td>\n",
       "      <td>23.372108</td>\n",
       "      <td>6</td>\n",
       "      <td>104.868237</td>\n",
       "      <td>-156.321253</td>\n",
       "      <td>912.002645</td>\n",
       "      <td>163.942628</td>\n",
       "      <td>-975.0</td>\n",
       "      <td>-64.0</td>\n",
       "      <td>0</td>\n",
       "      <td>10.0</td>\n",
       "      <td>10000</td>\n",
       "    </tr>\n",
       "    <tr>\n",
       "      <th>1</th>\n",
       "      <td>35025.0</td>\n",
       "      <td>35000.0</td>\n",
       "      <td>44.375129</td>\n",
       "      <td>-3.97484</td>\n",
       "      <td>187.314737</td>\n",
       "      <td>3</td>\n",
       "      <td>183.321476</td>\n",
       "      <td>3</td>\n",
       "      <td>1.104216</td>\n",
       "      <td>89.266358</td>\n",
       "      <td>50.057158</td>\n",
       "      <td>3.993261</td>\n",
       "      <td>25.0</td>\n",
       "      <td>-64.0</td>\n",
       "      <td>0</td>\n",
       "      <td>10.0</td>\n",
       "      <td>10000</td>\n",
       "    </tr>\n",
       "    <tr>\n",
       "      <th>2</th>\n",
       "      <td>35025.0</td>\n",
       "      <td>35000.0</td>\n",
       "      <td>44.375129</td>\n",
       "      <td>-3.97484</td>\n",
       "      <td>187.314737</td>\n",
       "      <td>3</td>\n",
       "      <td>22.853767</td>\n",
       "      <td>4</td>\n",
       "      <td>130.363624</td>\n",
       "      <td>159.469960</td>\n",
       "      <td>893.772561</td>\n",
       "      <td>164.460969</td>\n",
       "      <td>-975.0</td>\n",
       "      <td>-64.0</td>\n",
       "      <td>0</td>\n",
       "      <td>10.0</td>\n",
       "      <td>10000</td>\n",
       "    </tr>\n",
       "    <tr>\n",
       "      <th>3</th>\n",
       "      <td>35025.0</td>\n",
       "      <td>35000.0</td>\n",
       "      <td>44.375129</td>\n",
       "      <td>-3.97484</td>\n",
       "      <td>187.314737</td>\n",
       "      <td>3</td>\n",
       "      <td>187.867927</td>\n",
       "      <td>3</td>\n",
       "      <td>0.155850</td>\n",
       "      <td>-101.368558</td>\n",
       "      <td>85.107283</td>\n",
       "      <td>-0.553190</td>\n",
       "      <td>-3975.0</td>\n",
       "      <td>-64.0</td>\n",
       "      <td>0</td>\n",
       "      <td>10.0</td>\n",
       "      <td>10000</td>\n",
       "    </tr>\n",
       "    <tr>\n",
       "      <th>4</th>\n",
       "      <td>35025.0</td>\n",
       "      <td>35000.0</td>\n",
       "      <td>44.375129</td>\n",
       "      <td>-3.97484</td>\n",
       "      <td>187.314737</td>\n",
       "      <td>3</td>\n",
       "      <td>12.617341</td>\n",
       "      <td>4</td>\n",
       "      <td>125.026066</td>\n",
       "      <td>164.574815</td>\n",
       "      <td>907.033171</td>\n",
       "      <td>174.697396</td>\n",
       "      <td>500.0</td>\n",
       "      <td>-960.0</td>\n",
       "      <td>0</td>\n",
       "      <td>10.0</td>\n",
       "      <td>10000</td>\n",
       "    </tr>\n",
       "  </tbody>\n",
       "</table>\n",
       "</div>"
      ],
      "text/plain": [
       "   altitude_1  geoaltitude_1  latitude_1  longitude_1  track_unwrapped_1  \\\n",
       "0     35025.0        35000.0   44.375129     -3.97484         187.314737   \n",
       "1     35025.0        35000.0   44.375129     -3.97484         187.314737   \n",
       "2     35025.0        35000.0   44.375129     -3.97484         187.314737   \n",
       "3     35025.0        35000.0   44.375129     -3.97484         187.314737   \n",
       "4     35025.0        35000.0   44.375129     -3.97484         187.314737   \n",
       "\n",
       "   cluster_1  track_unwrapped_2  cluster_2  Init separation  Init acimut  \\\n",
       "0          3          23.372108          6       104.868237  -156.321253   \n",
       "1          3         183.321476          3         1.104216    89.266358   \n",
       "2          3          22.853767          4       130.363624   159.469960   \n",
       "3          3         187.867927          3         0.155850  -101.368558   \n",
       "4          3          12.617341          4       125.026066   164.574815   \n",
       "\n",
       "   Var GS Module   Var Track  Var init altitude  Var Vertical speed  \\\n",
       "0     912.002645  163.942628             -975.0               -64.0   \n",
       "1      50.057158    3.993261               25.0               -64.0   \n",
       "2     893.772561  164.460969             -975.0               -64.0   \n",
       "3      85.107283   -0.553190            -3975.0               -64.0   \n",
       "4     907.033171  174.697396              500.0              -960.0   \n",
       "\n",
       "   Conflicto  MinDis  Timetoconf  \n",
       "0          0    10.0       10000  \n",
       "1          0    10.0       10000  \n",
       "2          0    10.0       10000  \n",
       "3          0    10.0       10000  \n",
       "4          0    10.0       10000  "
      ]
     },
     "execution_count": 15,
     "metadata": {},
     "output_type": "execute_result"
    }
   ],
   "source": [
    "bbdd.drop(columns = [\"Unnamed: 0\"],axis = 1, inplace = True)\n",
    "bbdd.head()"
   ]
  },
  {
   "cell_type": "markdown",
   "metadata": {},
   "source": [
    "# 2. Generación de los datatsets\n",
    "Con los datos cargados, ahora se van a generar dos BBDD:\n",
    "* La que se va a usar para entrenar al modelo\n",
    "* La que se va a usar para saber si el modelo ha sido bien entrenado"
   ]
  },
  {
   "cell_type": "code",
   "execution_count": 17,
   "metadata": {},
   "outputs": [],
   "source": [
    "X = bbdd.drop(columns = [\"Conflicto\"],axis =1)\n",
    "y = bbdd[\"Conflicto\"]\n",
    "from sklearn.model_selection import train_test_split\n",
    "X_train, X_test, y_train, y_test = train_test_split(X , y , stratify = y, test_size = 0.2, random_state = 42)"
   ]
  },
  {
   "cell_type": "markdown",
   "metadata": {},
   "source": [
    "# 3. Generación de Pipelines \n",
    "Como se comenta en el apartado 2 el TFG, se va a usar varios método para realizar las predicciones de los datos obtenidos y probar cual es aquel que tiene mayor precisión.  \n"
   ]
  },
  {
   "cell_type": "markdown",
   "metadata": {},
   "source": [
    "## 3.1 Modelos lineales\n",
    "### 3.1.1 Clasificadro Ridge"
   ]
  },
  {
   "cell_type": "code",
   "execution_count": 19,
   "metadata": {},
   "outputs": [],
   "source": [
    "from sklearn.pipeline import Pipeline\n",
    "from sklearn.preprocessing import StandardScaler\n",
    "from sklearn.linear_model import RidgeClassifier\n",
    "\n",
    "# Clasificador Ridge\n",
    "ridge_pipe = Pipeline([\n",
    "    ('scaler',StandardScaler()),\n",
    "    ('ridge_classifier',RidgeClassifier(alpha = 1))\n",
    "\n",
    "\n",
    "])\n",
    "\n",
    "# Clasificador "
   ]
  },
  {
   "cell_type": "code",
   "execution_count": 20,
   "metadata": {},
   "outputs": [
    {
     "data": {
      "text/plain": [
       "Pipeline(steps=[('scaler', StandardScaler()),\n",
       "                ('ridge_classifier', RidgeClassifier(alpha=1))])"
      ]
     },
     "execution_count": 20,
     "metadata": {},
     "output_type": "execute_result"
    }
   ],
   "source": [
    "ridge_pipe.fit(X_train,y_train)"
   ]
  },
  {
   "cell_type": "code",
   "execution_count": 22,
   "metadata": {},
   "outputs": [
    {
     "data": {
      "text/plain": [
       "1.0"
      ]
     },
     "execution_count": 22,
     "metadata": {},
     "output_type": "execute_result"
    }
   ],
   "source": [
    "ridge_pipe.score(X_test,y_test)"
   ]
  },
  {
   "cell_type": "markdown",
   "metadata": {},
   "source": [
    "### 3.1.1 Clasificadro SVM"
   ]
  },
  {
   "cell_type": "code",
   "execution_count": 25,
   "metadata": {},
   "outputs": [],
   "source": [
    "from sklearn.svm import LinearSVC\n",
    "svm_pipe = Pipeline((\n",
    "    ('scaler', StandardScaler()),\n",
    "    ('linear_svc', LinearSVC(C=1, loss = 'hinge'))\n",
    "))"
   ]
  },
  {
   "cell_type": "code",
   "execution_count": 26,
   "metadata": {},
   "outputs": [
    {
     "data": {
      "text/plain": [
       "Pipeline(steps=[('scaler', StandardScaler()),\n",
       "                ('linear_svc', LinearSVC(C=1, loss='hinge'))])"
      ]
     },
     "execution_count": 26,
     "metadata": {},
     "output_type": "execute_result"
    }
   ],
   "source": [
    "svm_pipe.fit(X_train,y_train)"
   ]
  },
  {
   "cell_type": "code",
   "execution_count": 27,
   "metadata": {},
   "outputs": [
    {
     "ename": "SyntaxError",
     "evalue": "invalid syntax (<ipython-input-27-ca9043000fe2>, line 1)",
     "output_type": "error",
     "traceback": [
      "\u001b[0;36m  File \u001b[0;32m\"<ipython-input-27-ca9043000fe2>\"\u001b[0;36m, line \u001b[0;32m1\u001b[0m\n\u001b[0;31m    svm_pipe..score(X_test,y_test)\u001b[0m\n\u001b[0m             ^\u001b[0m\n\u001b[0;31mSyntaxError\u001b[0m\u001b[0;31m:\u001b[0m invalid syntax\n"
     ]
    }
   ],
   "source": [
    "svm_pipe.score(X_test,y_test)"
   ]
  },
  {
   "cell_type": "code",
   "execution_count": null,
   "metadata": {},
   "outputs": [],
   "source": []
  }
 ],
 "metadata": {
  "kernelspec": {
   "display_name": "Python 3",
   "language": "python",
   "name": "python3"
  },
  "language_info": {
   "codemirror_mode": {
    "name": "ipython",
    "version": 3
   },
   "file_extension": ".py",
   "mimetype": "text/x-python",
   "name": "python",
   "nbconvert_exporter": "python",
   "pygments_lexer": "ipython3",
   "version": "3.7.8"
  }
 },
 "nbformat": 4,
 "nbformat_minor": 4
}
