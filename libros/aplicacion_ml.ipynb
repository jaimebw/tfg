{
 "cells": [
  {
   "cell_type": "code",
   "execution_count": 2,
   "metadata": {},
   "outputs": [],
   "source": [
    "import traffic\n",
    "import pandas as pd \n",
    "import os\n",
    "import time\n",
    "from traffic.core import Traffic\n",
    "from sklearn.metrics import accuracy_score,f1_score,recall_score,balanced_accuracy_score,precision_score,plot_roc_curve,confusion_matrix\n",
    "from sklearn.pipeline import Pipeline\n",
    "from sklearn.preprocessing import StandardScaler,LabelBinarizer\n",
    "from sklearn.linear_model import RidgeClassifier,LogisticRegression, SGDClassifier\n",
    "from sklearn.svm import LinearSVC\n",
    "from sklearn.neighbors import KNeighborsClassifier\n",
    "from sklearn.gaussian_process import GaussianProcessClassifier\n",
    "from sklearn.naive_bayes import GaussianNB\n",
    "from sklearn.tree import DecisionTreeClassifier\n",
    "from biblio_herramienta.herramienta import *\n",
    "from biblio_herramienta.tratardatos import *\n",
    "from biblio_herramienta.ml import *"
   ]
  },
  {
   "cell_type": "code",
   "execution_count": 3,
   "metadata": {},
   "outputs": [],
   "source": [
    "archivoBBDD = r\"/Users/jaimebowen/OneDrive/TFGSeptiembre/libros_a_scripts/datos_sectores/BBDD_bilbao.csv\""
   ]
  },
  {
   "cell_type": "code",
   "execution_count": 4,
   "metadata": {},
   "outputs": [],
   "source": [
    "archivoPRUEBA = r\"/Users/jaimebowen/OneDrive/TFGSeptiembre/libros/datos_sectores/datos_f_c_pares_bilbao_magnitudes.csv\""
   ]
  },
  {
   "cell_type": "code",
   "execution_count": 5,
   "metadata": {},
   "outputs": [],
   "source": [
    "bbdd = pd.read_csv(archivoBBDD)"
   ]
  },
  {
   "cell_type": "code",
   "execution_count": 6,
   "metadata": {},
   "outputs": [
    {
     "name": "stdout",
     "output_type": "stream",
     "text": [
      "<class 'pandas.core.frame.DataFrame'>\n",
      "RangeIndex: 463080 entries, 0 to 463079\n",
      "Data columns (total 39 columns):\n",
      " #   Column              Non-Null Count   Dtype  \n",
      "---  ------              --------------   -----  \n",
      " 0   Unnamed: 0          463080 non-null  int64  \n",
      " 1   Unnamed: 0.1        463080 non-null  int64  \n",
      " 2   ave1                463080 non-null  object \n",
      " 3   ave2                463080 non-null  object \n",
      " 4   Unnamed: 0_1        463080 non-null  int64  \n",
      " 5   Unnamed: 0.1_1      463080 non-null  int64  \n",
      " 6   Unnamed: 0.1.1_1    463080 non-null  int64  \n",
      " 7   altitude_1          463080 non-null  float64\n",
      " 8   geoaltitude_1       463080 non-null  float64\n",
      " 9   groundspeed_1       463080 non-null  float64\n",
      " 10  latitude_1          463080 non-null  float64\n",
      " 11  longitude_1         463080 non-null  float64\n",
      " 12  timestamp_1         463080 non-null  object \n",
      " 13  track_1             463080 non-null  float64\n",
      " 14  vertical_rate_1     463080 non-null  float64\n",
      " 15  track_unwrapped_1   463080 non-null  float64\n",
      " 16  cluster_1           463080 non-null  int64  \n",
      " 17  Unnamed: 0_2        463080 non-null  int64  \n",
      " 18  Unnamed: 0.1_2      463080 non-null  int64  \n",
      " 19  Unnamed: 0.1.1_2    463080 non-null  int64  \n",
      " 20  altitude_2          463080 non-null  float64\n",
      " 21  geoaltitude_2       463080 non-null  float64\n",
      " 22  groundspeed_2       463080 non-null  float64\n",
      " 23  latitude_2          463080 non-null  float64\n",
      " 24  longitude_2         463080 non-null  float64\n",
      " 25  timestamp_2         463080 non-null  object \n",
      " 26  track_2             463080 non-null  float64\n",
      " 27  vertical_rate_2     463080 non-null  float64\n",
      " 28  track_unwrapped_2   463080 non-null  float64\n",
      " 29  cluster_2           463080 non-null  int64  \n",
      " 30  Init separation     463080 non-null  float64\n",
      " 31  Init acimut         463080 non-null  float64\n",
      " 32  Var GS Module       463080 non-null  float64\n",
      " 33  Var Track           463080 non-null  float64\n",
      " 34  Var init altitude   463080 non-null  float64\n",
      " 35  Var Vertical speed  463080 non-null  float64\n",
      " 36  Conflicto           463080 non-null  int64  \n",
      " 37  MinDis              463080 non-null  float64\n",
      " 38  Timetoconf          463080 non-null  int64  \n",
      "dtypes: float64(23), int64(12), object(4)\n",
      "memory usage: 137.8+ MB\n"
     ]
    }
   ],
   "source": [
    "bbdd.info()"
   ]
  },
  {
   "cell_type": "code",
   "execution_count": 7,
   "metadata": {},
   "outputs": [
    {
     "name": "stdout",
     "output_type": "stream",
     "text": [
      "<class 'pandas.core.frame.DataFrame'>\n",
      "RangeIndex: 463080 entries, 0 to 463079\n",
      "Data columns (total 19 columns):\n",
      " #   Column              Non-Null Count   Dtype  \n",
      "---  ------              --------------   -----  \n",
      " 0   altitude_1          463080 non-null  float64\n",
      " 1   groundspeed_1       463080 non-null  float64\n",
      " 2   latitude_1          463080 non-null  float64\n",
      " 3   longitude_1         463080 non-null  float64\n",
      " 4   vertical_rate_1     463080 non-null  float64\n",
      " 5   track_unwrapped_1   463080 non-null  float64\n",
      " 6   altitude_2          463080 non-null  float64\n",
      " 7   groundspeed_2       463080 non-null  float64\n",
      " 8   latitude_2          463080 non-null  float64\n",
      " 9   longitude_2         463080 non-null  float64\n",
      " 10  vertical_rate_2     463080 non-null  float64\n",
      " 11  track_unwrapped_2   463080 non-null  float64\n",
      " 12  Init separation     463080 non-null  float64\n",
      " 13  Init acimut         463080 non-null  float64\n",
      " 14  Var GS Module       463080 non-null  float64\n",
      " 15  Var Track           463080 non-null  float64\n",
      " 16  Var init altitude   463080 non-null  float64\n",
      " 17  Var Vertical speed  463080 non-null  float64\n",
      " 18  Conflicto           463080 non-null  int64  \n",
      "dtypes: float64(18), int64(1)\n",
      "memory usage: 67.1 MB\n"
     ]
    }
   ],
   "source": [
    "cols = [0,1,2,3,4,5,6,8,12,13,16,17,18,21,25,26,19,29,37,38]\n",
    "bbdd.drop(bbdd.columns[cols],axis=1,inplace= True)\n",
    "bbdd.info()"
   ]
  },
  {
   "cell_type": "code",
   "execution_count": 8,
   "metadata": {},
   "outputs": [
    {
     "data": {
      "text/plain": [
       "0    462963\n",
       "1       117\n",
       "Name: Conflicto, dtype: int64"
      ]
     },
     "execution_count": 8,
     "metadata": {},
     "output_type": "execute_result"
    }
   ],
   "source": [
    "bbdd.Conflicto.value_counts()"
   ]
  },
  {
   "cell_type": "code",
   "execution_count": 9,
   "metadata": {},
   "outputs": [],
   "source": [
    "bbdd[\"Diff lat\"] = bbdd[\"latitude_1\"] -bbdd[\"latitude_2\"] "
   ]
  },
  {
   "cell_type": "code",
   "execution_count": 10,
   "metadata": {},
   "outputs": [],
   "source": [
    "bbdd[\"Diff long\"] = bbdd[\"longitude_1\"] - bbdd[\"longitude_2\"] \n",
    "bbdd[\"Diff alt\"] = bbdd[\"altitude_1\"] - bbdd[\"altitude_2\"] "
   ]
  },
  {
   "cell_type": "code",
   "execution_count": 11,
   "metadata": {},
   "outputs": [
    {
     "data": {
      "text/html": [
       "<div>\n",
       "<style scoped>\n",
       "    .dataframe tbody tr th:only-of-type {\n",
       "        vertical-align: middle;\n",
       "    }\n",
       "\n",
       "    .dataframe tbody tr th {\n",
       "        vertical-align: top;\n",
       "    }\n",
       "\n",
       "    .dataframe thead th {\n",
       "        text-align: right;\n",
       "    }\n",
       "</style>\n",
       "<table border=\"1\" class=\"dataframe\">\n",
       "  <thead>\n",
       "    <tr style=\"text-align: right;\">\n",
       "      <th></th>\n",
       "      <th>altitude_1</th>\n",
       "      <th>groundspeed_1</th>\n",
       "      <th>latitude_1</th>\n",
       "      <th>longitude_1</th>\n",
       "      <th>vertical_rate_1</th>\n",
       "      <th>track_unwrapped_1</th>\n",
       "      <th>altitude_2</th>\n",
       "      <th>groundspeed_2</th>\n",
       "      <th>latitude_2</th>\n",
       "      <th>longitude_2</th>\n",
       "      <th>...</th>\n",
       "      <th>Init separation</th>\n",
       "      <th>Init acimut</th>\n",
       "      <th>Var GS Module</th>\n",
       "      <th>Var Track</th>\n",
       "      <th>Var init altitude</th>\n",
       "      <th>Var Vertical speed</th>\n",
       "      <th>Conflicto</th>\n",
       "      <th>Diff lat</th>\n",
       "      <th>Diff long</th>\n",
       "      <th>Diff alt</th>\n",
       "    </tr>\n",
       "  </thead>\n",
       "  <tbody>\n",
       "    <tr>\n",
       "      <th>0</th>\n",
       "      <td>35025.0</td>\n",
       "      <td>487.0</td>\n",
       "      <td>44.375129</td>\n",
       "      <td>-3.97484</td>\n",
       "      <td>-64.0</td>\n",
       "      <td>187.314737</td>\n",
       "      <td>36000.0</td>\n",
       "      <td>434.0</td>\n",
       "      <td>42.770194</td>\n",
       "      <td>-4.927751</td>\n",
       "      <td>...</td>\n",
       "      <td>104.868237</td>\n",
       "      <td>-156.321253</td>\n",
       "      <td>912.002645</td>\n",
       "      <td>163.942628</td>\n",
       "      <td>-975.0</td>\n",
       "      <td>-64.0</td>\n",
       "      <td>0</td>\n",
       "      <td>1.604935</td>\n",
       "      <td>0.952911</td>\n",
       "      <td>-975.0</td>\n",
       "    </tr>\n",
       "    <tr>\n",
       "      <th>1</th>\n",
       "      <td>35025.0</td>\n",
       "      <td>487.0</td>\n",
       "      <td>44.375129</td>\n",
       "      <td>-3.97484</td>\n",
       "      <td>-64.0</td>\n",
       "      <td>187.314737</td>\n",
       "      <td>35000.0</td>\n",
       "      <td>449.0</td>\n",
       "      <td>44.375362</td>\n",
       "      <td>-3.949183</td>\n",
       "      <td>...</td>\n",
       "      <td>1.104216</td>\n",
       "      <td>89.266358</td>\n",
       "      <td>50.057158</td>\n",
       "      <td>3.993261</td>\n",
       "      <td>25.0</td>\n",
       "      <td>-64.0</td>\n",
       "      <td>0</td>\n",
       "      <td>-0.000233</td>\n",
       "      <td>-0.025657</td>\n",
       "      <td>25.0</td>\n",
       "    </tr>\n",
       "    <tr>\n",
       "      <th>2</th>\n",
       "      <td>35025.0</td>\n",
       "      <td>487.0</td>\n",
       "      <td>44.375129</td>\n",
       "      <td>-3.97484</td>\n",
       "      <td>-64.0</td>\n",
       "      <td>187.314737</td>\n",
       "      <td>36000.0</td>\n",
       "      <td>415.0</td>\n",
       "      <td>42.335303</td>\n",
       "      <td>-2.947657</td>\n",
       "      <td>...</td>\n",
       "      <td>130.363624</td>\n",
       "      <td>159.469960</td>\n",
       "      <td>893.772561</td>\n",
       "      <td>164.460969</td>\n",
       "      <td>-975.0</td>\n",
       "      <td>-64.0</td>\n",
       "      <td>0</td>\n",
       "      <td>2.039826</td>\n",
       "      <td>-1.027183</td>\n",
       "      <td>-975.0</td>\n",
       "    </tr>\n",
       "    <tr>\n",
       "      <th>3</th>\n",
       "      <td>35025.0</td>\n",
       "      <td>487.0</td>\n",
       "      <td>44.375129</td>\n",
       "      <td>-3.97484</td>\n",
       "      <td>-64.0</td>\n",
       "      <td>187.314737</td>\n",
       "      <td>39000.0</td>\n",
       "      <td>402.0</td>\n",
       "      <td>44.374617</td>\n",
       "      <td>-3.978391</td>\n",
       "      <td>...</td>\n",
       "      <td>0.155850</td>\n",
       "      <td>-101.368558</td>\n",
       "      <td>85.107283</td>\n",
       "      <td>-0.553190</td>\n",
       "      <td>-3975.0</td>\n",
       "      <td>-64.0</td>\n",
       "      <td>0</td>\n",
       "      <td>0.000512</td>\n",
       "      <td>0.003550</td>\n",
       "      <td>-3975.0</td>\n",
       "    </tr>\n",
       "    <tr>\n",
       "      <th>4</th>\n",
       "      <td>35025.0</td>\n",
       "      <td>487.0</td>\n",
       "      <td>44.375129</td>\n",
       "      <td>-3.97484</td>\n",
       "      <td>-64.0</td>\n",
       "      <td>187.314737</td>\n",
       "      <td>34525.0</td>\n",
       "      <td>421.0</td>\n",
       "      <td>42.363561</td>\n",
       "      <td>-3.227362</td>\n",
       "      <td>...</td>\n",
       "      <td>125.026066</td>\n",
       "      <td>164.574815</td>\n",
       "      <td>907.033171</td>\n",
       "      <td>174.697396</td>\n",
       "      <td>500.0</td>\n",
       "      <td>-960.0</td>\n",
       "      <td>0</td>\n",
       "      <td>2.011569</td>\n",
       "      <td>-0.747478</td>\n",
       "      <td>500.0</td>\n",
       "    </tr>\n",
       "  </tbody>\n",
       "</table>\n",
       "<p>5 rows × 22 columns</p>\n",
       "</div>"
      ],
      "text/plain": [
       "   altitude_1  groundspeed_1  latitude_1  longitude_1  vertical_rate_1  \\\n",
       "0     35025.0          487.0   44.375129     -3.97484            -64.0   \n",
       "1     35025.0          487.0   44.375129     -3.97484            -64.0   \n",
       "2     35025.0          487.0   44.375129     -3.97484            -64.0   \n",
       "3     35025.0          487.0   44.375129     -3.97484            -64.0   \n",
       "4     35025.0          487.0   44.375129     -3.97484            -64.0   \n",
       "\n",
       "   track_unwrapped_1  altitude_2  groundspeed_2  latitude_2  longitude_2  ...  \\\n",
       "0         187.314737     36000.0          434.0   42.770194    -4.927751  ...   \n",
       "1         187.314737     35000.0          449.0   44.375362    -3.949183  ...   \n",
       "2         187.314737     36000.0          415.0   42.335303    -2.947657  ...   \n",
       "3         187.314737     39000.0          402.0   44.374617    -3.978391  ...   \n",
       "4         187.314737     34525.0          421.0   42.363561    -3.227362  ...   \n",
       "\n",
       "   Init separation  Init acimut  Var GS Module   Var Track  Var init altitude  \\\n",
       "0       104.868237  -156.321253     912.002645  163.942628             -975.0   \n",
       "1         1.104216    89.266358      50.057158    3.993261               25.0   \n",
       "2       130.363624   159.469960     893.772561  164.460969             -975.0   \n",
       "3         0.155850  -101.368558      85.107283   -0.553190            -3975.0   \n",
       "4       125.026066   164.574815     907.033171  174.697396              500.0   \n",
       "\n",
       "   Var Vertical speed  Conflicto  Diff lat  Diff long  Diff alt  \n",
       "0               -64.0          0  1.604935   0.952911    -975.0  \n",
       "1               -64.0          0 -0.000233  -0.025657      25.0  \n",
       "2               -64.0          0  2.039826  -1.027183    -975.0  \n",
       "3               -64.0          0  0.000512   0.003550   -3975.0  \n",
       "4              -960.0          0  2.011569  -0.747478     500.0  \n",
       "\n",
       "[5 rows x 22 columns]"
      ]
     },
     "execution_count": 11,
     "metadata": {},
     "output_type": "execute_result"
    }
   ],
   "source": [
    "bbdd.head()"
   ]
  },
  {
   "cell_type": "markdown",
   "metadata": {},
   "source": [
    "# 2. Generación de los datatsets\n",
    "Con los datos cargados, ahora se van a generar dos BBDD:\n",
    "* La que se va a usar para entrenar al modelo\n",
    "* La que se va a usar para saber si el modelo ha sido bien entrenado"
   ]
  },
  {
   "cell_type": "code",
   "execution_count": 12,
   "metadata": {},
   "outputs": [],
   "source": [
    "X = bbdd.drop(columns = [\"Conflicto\",\"altitude_1\",\"altitude_2\",\"latitude_1\",\"latitude_2\",\"longitude_2\",\"longitude_1\"],axis =1)\n",
    "y = bbdd[\"Conflicto\"].to_numpy()\n",
    "lb = LabelBinarizer()\n",
    "y = lb.fit_transform(y).ravel()\n",
    "\n",
    "\n",
    "\n",
    "\n",
    "from sklearn.model_selection import train_test_split\n",
    "X_train, X_test, y_train, y_test = train_test_split(X , y , stratify = y, test_size = 0.2, random_state = 42)"
   ]
  },
  {
   "cell_type": "code",
   "execution_count": 34,
   "metadata": {},
   "outputs": [
    {
     "name": "stdout",
     "output_type": "stream",
     "text": [
      "<class 'pandas.core.frame.DataFrame'>\n",
      "RangeIndex: 463080 entries, 0 to 463079\n",
      "Data columns (total 15 columns):\n",
      " #   Column              Non-Null Count   Dtype  \n",
      "---  ------              --------------   -----  \n",
      " 0   groundspeed_1       463080 non-null  float64\n",
      " 1   vertical_rate_1     463080 non-null  float64\n",
      " 2   track_unwrapped_1   463080 non-null  float64\n",
      " 3   groundspeed_2       463080 non-null  float64\n",
      " 4   vertical_rate_2     463080 non-null  float64\n",
      " 5   track_unwrapped_2   463080 non-null  float64\n",
      " 6   Init separation     463080 non-null  float64\n",
      " 7   Init acimut         463080 non-null  float64\n",
      " 8   Var GS Module       463080 non-null  float64\n",
      " 9   Var Track           463080 non-null  float64\n",
      " 10  Var init altitude   463080 non-null  float64\n",
      " 11  Var Vertical speed  463080 non-null  float64\n",
      " 12  Diff lat            463080 non-null  float64\n",
      " 13  Diff long           463080 non-null  float64\n",
      " 14  Diff alt            463080 non-null  float64\n",
      "dtypes: float64(15)\n",
      "memory usage: 53.0 MB\n"
     ]
    }
   ],
   "source": [
    "X.info()"
   ]
  },
  {
   "cell_type": "code",
   "execution_count": 35,
   "metadata": {},
   "outputs": [
    {
     "data": {
      "text/plain": [
       "array([0, 0, 0, ..., 0, 0, 0])"
      ]
     },
     "execution_count": 35,
     "metadata": {},
     "output_type": "execute_result"
    }
   ],
   "source": [
    "y"
   ]
  },
  {
   "cell_type": "markdown",
   "metadata": {},
   "source": [
    "# 3. Generación de Pipelines \n",
    "Como se comenta en el apartado 2 el TFG, se va a usar varios método para realizar las predicciones de los datos obtenidos y probar cual es aquel que tiene mayor precisión.  \n"
   ]
  },
  {
   "cell_type": "markdown",
   "metadata": {},
   "source": [
    "## 3.1 Modelos lineales"
   ]
  },
  {
   "cell_type": "code",
   "execution_count": 41,
   "metadata": {},
   "outputs": [],
   "source": [
    "# Clasificador Ridge\n",
    "\n",
    "ridge_pipe = Pipeline([\n",
    "    ('scaler',StandardScaler()),\n",
    "    ('ridge_classifier',RidgeClassifier(alpha = 0.5))\n",
    "])\n",
    "\n",
    "\n",
    "# Clasificador Logísitico\n",
    "\n",
    "logistic_pipe = Pipeline([\n",
    "    ('scaler',StandardScaler()),\n",
    "    ('logistic_classifier',LogisticRegression(random_state = 55))\n",
    "])\n",
    "\n",
    "# Clasificador Gradiante Estocastico\n",
    "\n",
    "sgdc_pipe = Pipeline((\n",
    "    ('scaler', StandardScaler()),\n",
    "    ('linear_sgdc', SGDClassifier(random_state = 55)))\n",
    ")\n",
    "\n",
    "\n",
    "#pipes = [ridge_pipe ,logistic_pipe ,svm_pipe ,sgdc_pipe , kvecinos_pipe, gauss_pipe, bayes_pipe, arbol_pipe]\n",
    "lin_pipes = [ridge_pipe ,logistic_pipe ,sgdc_pipe]"
   ]
  },
  {
   "cell_type": "code",
   "execution_count": 44,
   "metadata": {},
   "outputs": [
    {
     "name": "stderr",
     "output_type": "stream",
     "text": [
      "/Users/jaimebowen/opt/miniconda3/envs/tfgpaquetes/lib/python3.7/site-packages/sklearn/metrics/_classification.py:1221: UndefinedMetricWarning: Precision is ill-defined and being set to 0.0 due to no predicted samples. Use `zero_division` parameter to control this behavior.\n",
      "  _warn_prf(average, modifier, msg_start, len(result))\n",
      "/Users/jaimebowen/opt/miniconda3/envs/tfgpaquetes/lib/python3.7/site-packages/sklearn/metrics/_classification.py:1221: UndefinedMetricWarning: Precision is ill-defined and being set to 0.0 due to no predicted samples. Use `zero_division` parameter to control this behavior.\n",
      "  _warn_prf(average, modifier, msg_start, len(result))\n",
      "/Users/jaimebowen/opt/miniconda3/envs/tfgpaquetes/lib/python3.7/site-packages/sklearn/metrics/_classification.py:1221: UndefinedMetricWarning: Precision is ill-defined and being set to 0.0 due to no predicted samples. Use `zero_division` parameter to control this behavior.\n",
      "  _warn_prf(average, modifier, msg_start, len(result))\n"
     ]
    },
    {
     "data": {
      "text/html": [
       "<div>\n",
       "<style scoped>\n",
       "    .dataframe tbody tr th:only-of-type {\n",
       "        vertical-align: middle;\n",
       "    }\n",
       "\n",
       "    .dataframe tbody tr th {\n",
       "        vertical-align: top;\n",
       "    }\n",
       "\n",
       "    .dataframe thead th {\n",
       "        text-align: right;\n",
       "    }\n",
       "</style>\n",
       "<table border=\"1\" class=\"dataframe\">\n",
       "  <thead>\n",
       "    <tr style=\"text-align: right;\">\n",
       "      <th></th>\n",
       "      <th>Clasificador</th>\n",
       "      <th>Exactitud</th>\n",
       "      <th>Precision</th>\n",
       "      <th>Sensibilidad</th>\n",
       "      <th>F1</th>\n",
       "    </tr>\n",
       "  </thead>\n",
       "  <tbody>\n",
       "    <tr>\n",
       "      <th>0</th>\n",
       "      <td>Ridge</td>\n",
       "      <td>0.999746</td>\n",
       "      <td>0.0</td>\n",
       "      <td>0.0</td>\n",
       "      <td>0.0</td>\n",
       "    </tr>\n",
       "    <tr>\n",
       "      <th>1</th>\n",
       "      <td>Logistico</td>\n",
       "      <td>0.999746</td>\n",
       "      <td>0.0</td>\n",
       "      <td>0.0</td>\n",
       "      <td>0.0</td>\n",
       "    </tr>\n",
       "    <tr>\n",
       "      <th>2</th>\n",
       "      <td>SGD</td>\n",
       "      <td>0.999746</td>\n",
       "      <td>0.0</td>\n",
       "      <td>0.0</td>\n",
       "      <td>0.0</td>\n",
       "    </tr>\n",
       "  </tbody>\n",
       "</table>\n",
       "</div>"
      ],
      "text/plain": [
       "  Clasificador  Exactitud  Precision  Sensibilidad   F1\n",
       "0        Ridge   0.999746        0.0           0.0  0.0\n",
       "1    Logistico   0.999746        0.0           0.0  0.0\n",
       "2          SGD   0.999746        0.0           0.0  0.0"
      ]
     },
     "execution_count": 44,
     "metadata": {},
     "output_type": "execute_result"
    }
   ],
   "source": [
    "nombres_algoritmos_lineal = [\"Ridge\",\"Logistico\",\"SGD\"]\n",
    "dlineal = metricasp(lin_pipes,X_train, y_train,nombres_algoritmos_lineal)\n",
    "dlineal.to_csv(\"modelos_ml/dlineal.csv\")\n",
    "dlineal"
   ]
  },
  {
   "cell_type": "markdown",
   "metadata": {},
   "source": [
    "# 3.2 SVM"
   ]
  },
  {
   "cell_type": "code",
   "execution_count": 24,
   "metadata": {},
   "outputs": [],
   "source": [
    "from sklearn.svm import LinearSVC,SVC\n",
    "\n",
    "svm_lineal_pipe = Pipeline((\n",
    "    ('scaler', StandardScaler()),\n",
    "    ('linear_svc', LinearSVC(random_state = 55,max_iter=4000))\n",
    "    \n",
    "))\n",
    "\n",
    "\n",
    "svm_pipe = Pipeline((\n",
    "    ('scaler', StandardScaler()),\n",
    "    ('svc',SVC(random_state = 55,gamma = \"auto\"))\n",
    "))\n",
    "pipes_svm = [svm_lineal_pipe,svm_pipe ]"
   ]
  },
  {
   "cell_type": "code",
   "execution_count": null,
   "metadata": {},
   "outputs": [],
   "source": [
    "start_time = time.time()\n",
    "pipes_svm_entrenadas=[]\n",
    "for index, i in enumerate(pipes_svm):\n",
    "    i.fit(X_train,y_train)\n",
    "    pipes_svm_entrenadas.append(i)\n",
    "    \n",
    "print(\"--- %s seconds ---\" % (time.time() - start_time))"
   ]
  },
  {
   "cell_type": "code",
   "execution_count": 47,
   "metadata": {},
   "outputs": [
    {
     "name": "stderr",
     "output_type": "stream",
     "text": [
      "/Users/jaimebowen/opt/miniconda3/envs/tfgpaquetes/lib/python3.7/site-packages/sklearn/metrics/_classification.py:1221: UndefinedMetricWarning: Precision is ill-defined and being set to 0.0 due to no predicted samples. Use `zero_division` parameter to control this behavior.\n",
      "  _warn_prf(average, modifier, msg_start, len(result))\n",
      "/Users/jaimebowen/opt/miniconda3/envs/tfgpaquetes/lib/python3.7/site-packages/sklearn/metrics/_classification.py:1221: UndefinedMetricWarning: Precision is ill-defined and being set to 0.0 due to no predicted samples. Use `zero_division` parameter to control this behavior.\n",
      "  _warn_prf(average, modifier, msg_start, len(result))\n"
     ]
    }
   ],
   "source": [
    "nombres_algoritmos_svm = [\"SVM Lineal\",\"SVM Estandar\"]\n",
    "dsvm = metricas(pipes_svm_entrenadas,X_test,y_test,nombres_algoritmos_svm)\n",
    "dsvm.to_csv(\"modelos_ml/dsvm.csv\")\n",
    "dsvm"
   ]
  },
  {
   "cell_type": "code",
   "execution_count": 48,
   "metadata": {},
   "outputs": [
    {
     "name": "stdout",
     "output_type": "stream",
     "text": [
      "[[370370      0]\n",
      " [    94      0]]\n",
      "[[370370      0]\n",
      " [    94      0]]\n"
     ]
    }
   ],
   "source": [
    "for i in pipes_svm_entrenadas:\n",
    "    y_train_pred = cross_val_predict(i, X_train, y_train, cv=7)\n",
    "    print(confusion_matrix(y_train, y_train_pred))"
   ]
  },
  {
   "cell_type": "markdown",
   "metadata": {},
   "source": [
    "## 3.3 Clasificador vecinos cercanops"
   ]
  },
  {
   "cell_type": "code",
   "execution_count": 13,
   "metadata": {},
   "outputs": [],
   "source": [
    "# Clasificador Veciones cercanos\n",
    "\n",
    "kvecinos_pipe = Pipeline((\n",
    "    ('scaler', StandardScaler()),\n",
    "    ('kveciones_clas', KNeighborsClassifier(weights= \"distance\"))\n",
    "))\n",
    "\n",
    "kvecinos_pipe1 = Pipeline((\n",
    "    ('scaler', StandardScaler()),\n",
    "    ('kveciones_clas', KNeighborsClassifier())\n",
    "))\n",
    "\n",
    "kvecinos_pipes =[kvecinos_pipe,kvecinos_pipe1]"
   ]
  },
  {
   "cell_type": "code",
   "execution_count": 14,
   "metadata": {},
   "outputs": [
    {
     "name": "stdout",
     "output_type": "stream",
     "text": [
      "--- 293.16506814956665 seconds ---\n"
     ]
    }
   ],
   "source": [
    "start_time = time.time()\n",
    "pipes_kvecinos_entrenadas=[]\n",
    "for index, i in enumerate(kvecinos_pipes):\n",
    "    i.fit(X_train,y_train)\n",
    "    pipes_kvecinos_entrenadas.append(i)\n",
    "    \n",
    "print(\"--- %s seconds ---\" % (time.time() - start_time))"
   ]
  },
  {
   "cell_type": "code",
   "execution_count": 15,
   "metadata": {},
   "outputs": [
    {
     "name": "stderr",
     "output_type": "stream",
     "text": [
      "/Users/jaimebowen/opt/miniconda3/envs/tfgpaquetes/lib/python3.7/site-packages/sklearn/metrics/_classification.py:1221: UndefinedMetricWarning: Precision is ill-defined and being set to 0.0 due to no predicted samples. Use `zero_division` parameter to control this behavior.\n",
      "  _warn_prf(average, modifier, msg_start, len(result))\n"
     ]
    }
   ],
   "source": [
    "nombres_algoritmos_kvecino = [\"Vecinos Cercanos Dist\",\"Vecinos Cercanos Weight\"]\n",
    "dkvecinos = metricas(pipes_kvecinos_entrenadas,X_test,y_test,nombres_algoritmos_kvecino)\n",
    "dkvecinos.to_csv(\"modelos_ml/dvcerca.csv\")\n",
    "dkvecinos"
   ]
  },
  {
   "cell_type": "code",
   "execution_count": 16,
   "metadata": {},
   "outputs": [
    {
     "name": "stdout",
     "output_type": "stream",
     "text": [
      "[[370359     11]\n",
      " [    94      0]]\n",
      "[[370370      0]\n",
      " [    94      0]]\n"
     ]
    }
   ],
   "source": [
    "for i in pipes_kvecinos_entrenadas:\n",
    "    y_train_pred = cross_val_predict(i, X_train, y_train, cv=7)\n",
    "    print(confusion_matrix(y_train, y_train_pred))"
   ]
  },
  {
   "cell_type": "markdown",
   "metadata": {},
   "source": [
    "## 3.4 Clasificador por proceso gausiano"
   ]
  },
  {
   "cell_type": "code",
   "execution_count": 17,
   "metadata": {},
   "outputs": [],
   "source": [
    "gauss_pipe = Pipeline((\n",
    "    ('scaler', StandardScaler()),\n",
    "    ('gauss_class', GaussianProcessClassifier(random_state = 55))\n",
    "))\n",
    "gauss_pipes = [gauss_pipe]"
   ]
  },
  {
   "cell_type": "code",
   "execution_count": null,
   "metadata": {},
   "outputs": [],
   "source": [
    "gauss_pipe.fit(X_train,y_train)"
   ]
  },
  {
   "cell_type": "code",
   "execution_count": null,
   "metadata": {},
   "outputs": [],
   "source": [
    "#start_time = time.time()\n",
    "pipes_gauss_entrenados=[]\n",
    "for index, i in enumerate(gauss_pipes):\n",
    "    i.fit(X_train,y_train)\n",
    "    pipes_gauss_entrenados.append(i)\n",
    "    \n",
    "#print(\"--- %s seconds ---\" % (time.time() - start_time))"
   ]
  },
  {
   "cell_type": "code",
   "execution_count": null,
   "metadata": {},
   "outputs": [],
   "source": [
    "nombres_algoritmos_gauss = [\"Gauss\"]\n",
    "dgauss = metricas(pipes_gauss_entrenados,X_test,y_test,nombres_algoritmos_gauss )\n",
    "dgauss.to_csv(\"modelos_ml/dgauss.csv\")"
   ]
  },
  {
   "cell_type": "markdown",
   "metadata": {},
   "source": [
    "## 3.5 Clasificación Naiva-Bayes"
   ]
  },
  {
   "cell_type": "code",
   "execution_count": 13,
   "metadata": {},
   "outputs": [],
   "source": [
    "bayes_pipe = Pipeline((\n",
    "    ('scaler', StandardScaler()),\n",
    "    ('naive_class', GaussianNB()))\n",
    ")\n",
    "bayes_pipes = [bayes_pipe]"
   ]
  },
  {
   "cell_type": "code",
   "execution_count": 17,
   "metadata": {},
   "outputs": [
    {
     "data": {
      "text/html": [
       "<div>\n",
       "<style scoped>\n",
       "    .dataframe tbody tr th:only-of-type {\n",
       "        vertical-align: middle;\n",
       "    }\n",
       "\n",
       "    .dataframe tbody tr th {\n",
       "        vertical-align: top;\n",
       "    }\n",
       "\n",
       "    .dataframe thead th {\n",
       "        text-align: right;\n",
       "    }\n",
       "</style>\n",
       "<table border=\"1\" class=\"dataframe\">\n",
       "  <thead>\n",
       "    <tr style=\"text-align: right;\">\n",
       "      <th></th>\n",
       "      <th>Clasificador</th>\n",
       "      <th>Exactitud</th>\n",
       "      <th>Precision</th>\n",
       "      <th>Sensibilidad</th>\n",
       "      <th>F1</th>\n",
       "    </tr>\n",
       "  </thead>\n",
       "  <tbody>\n",
       "    <tr>\n",
       "      <th>0</th>\n",
       "      <td>Naive-Bayes gaussiano</td>\n",
       "      <td>0.969228</td>\n",
       "      <td>0.001499</td>\n",
       "      <td>0.180851</td>\n",
       "      <td>0.002974</td>\n",
       "    </tr>\n",
       "  </tbody>\n",
       "</table>\n",
       "</div>"
      ],
      "text/plain": [
       "            Clasificador  Exactitud  Precision  Sensibilidad        F1\n",
       "0  Naive-Bayes gaussiano   0.969228   0.001499      0.180851  0.002974"
      ]
     },
     "execution_count": 17,
     "metadata": {},
     "output_type": "execute_result"
    }
   ],
   "source": [
    "nombres_algoritmos_bayes = [\"Naive-Bayes gaussiano\"]\n",
    "dbayes = metricas(bayes_pipes,X_train, y_train,nombres_algoritmos_bayes)\n",
    "dbayes.to_csv(\"modelos_ml/dbayes.csv\")\n",
    "dbayes"
   ]
  },
  {
   "cell_type": "code",
   "execution_count": 23,
   "metadata": {},
   "outputs": [],
   "source": [
    "pipes_bayes_entrenados=[]\n",
    "for index, i in enumerate(bayes_pipes):\n",
    "    i.fit(X_train,y_train)\n",
    "    pipes_bayes_entrenados.append(i)"
   ]
  },
  {
   "cell_type": "code",
   "execution_count": 45,
   "metadata": {},
   "outputs": [
    {
     "name": "stdout",
     "output_type": "stream",
     "text": [
      "[[359047  11323]\n",
      " [    77     17]]\n"
     ]
    }
   ],
   "source": [
    "for i in bayes_pipes :\n",
    "    y_train_pred = cross_val_predict(i, X_train, y_train, cv=7)\n",
    "    print(confusion_matrix(y_train, y_train_pred))"
   ]
  },
  {
   "cell_type": "code",
   "execution_count": 22,
   "metadata": {},
   "outputs": [
    {
     "data": {
      "text/plain": [
       "<sklearn.metrics._plot.roc_curve.RocCurveDisplay at 0x7f8d00194890>"
      ]
     },
     "execution_count": 22,
     "metadata": {},
     "output_type": "execute_result"
    },
    {
     "data": {
      "image/png": "[encoded data removed]",
      "text/plain": [
       "<Figure size 432x288 with 1 Axes>"
      ]
     },
     "metadata": {
      "needs_background": "light"
     },
     "output_type": "display_data"
    }
   ],
   "source": [
    "plot_roc_curve(pipes_bayes_entrenados[0], X_test, y_test)"
   ]
  },
  {
   "cell_type": "markdown",
   "metadata": {},
   "source": [
    "## 3.6 Arbol de decisiones"
   ]
  },
  {
   "cell_type": "code",
   "execution_count": 18,
   "metadata": {},
   "outputs": [],
   "source": [
    "arbol_pipe = Pipeline((\n",
    "    ('scaler', StandardScaler()),\n",
    "    ('arbol_class', DecisionTreeClassifier(random_state=55,)))\n",
    ")\n",
    "arbol_pipes = [arbol_pipe]"
   ]
  },
  {
   "cell_type": "code",
   "execution_count": 19,
   "metadata": {},
   "outputs": [
    {
     "name": "stdout",
     "output_type": "stream",
     "text": [
      "--- 2.769727945327759 seconds ---\n"
     ]
    }
   ],
   "source": [
    "start_time = time.time()\n",
    "pipes_arbol_entrenados=[]\n",
    "for index, i in enumerate(arbol_pipes ):\n",
    "    i.fit(X_train,y_train)\n",
    "    pipes_arbol_entrenados.append(i)\n",
    "    \n",
    "print(\"--- %s seconds ---\" % (time.time() - start_time))\n"
   ]
  },
  {
   "cell_type": "code",
   "execution_count": 20,
   "metadata": {},
   "outputs": [
    {
     "data": {
      "text/html": [
       "<div>\n",
       "<style scoped>\n",
       "    .dataframe tbody tr th:only-of-type {\n",
       "        vertical-align: middle;\n",
       "    }\n",
       "\n",
       "    .dataframe tbody tr th {\n",
       "        vertical-align: top;\n",
       "    }\n",
       "\n",
       "    .dataframe thead th {\n",
       "        text-align: right;\n",
       "    }\n",
       "</style>\n",
       "<table border=\"1\" class=\"dataframe\">\n",
       "  <thead>\n",
       "    <tr style=\"text-align: right;\">\n",
       "      <th></th>\n",
       "      <th>Clasificador</th>\n",
       "      <th>Exactitud</th>\n",
       "      <th>Precision</th>\n",
       "      <th>Sensibilidad</th>\n",
       "      <th>F1</th>\n",
       "    </tr>\n",
       "  </thead>\n",
       "  <tbody>\n",
       "    <tr>\n",
       "      <th>0</th>\n",
       "      <td>Arbol</td>\n",
       "      <td>0.999417</td>\n",
       "      <td>0.0</td>\n",
       "      <td>0.0</td>\n",
       "      <td>0.0</td>\n",
       "    </tr>\n",
       "  </tbody>\n",
       "</table>\n",
       "</div>"
      ],
      "text/plain": [
       "  Clasificador  Exactitud  Precision  Sensibilidad   F1\n",
       "0        Arbol   0.999417        0.0           0.0  0.0"
      ]
     },
     "execution_count": 20,
     "metadata": {},
     "output_type": "execute_result"
    }
   ],
   "source": [
    "nombres_algoritmos_arbol = [\"Arbol\"]\n",
    "darbol= metricas(pipes_arbol_entrenados,X_test,y_test,nombres_algoritmos_arbol )\n",
    "darbol.to_csv(\"modelos_ml/darbol2.csv\")\n",
    "darbol"
   ]
  },
  {
   "cell_type": "code",
   "execution_count": null,
   "metadata": {},
   "outputs": [],
   "source": [
    "for i in pipes_arbol_entrenados:\n",
    "    y_train_pred = cross_val_predict(i, X_train, y_train, cv=7)\n",
    "    print(confusion_matrix(y_train, y_train_pred))"
   ]
  },
  {
   "cell_type": "code",
   "execution_count": null,
   "metadata": {},
   "outputs": [],
   "source": [
    "precision_score(y_train, y_train_pred)"
   ]
  },
  {
   "cell_type": "code",
   "execution_count": null,
   "metadata": {},
   "outputs": [],
   "source": [
    "y_pred = arbol_pipe.predict(X_test)"
   ]
  },
  {
   "cell_type": "code",
   "execution_count": null,
   "metadata": {},
   "outputs": [],
   "source": [
    "np.unique(y_pred)"
   ]
  },
  {
   "cell_type": "code",
   "execution_count": null,
   "metadata": {},
   "outputs": [],
   "source": [
    "def curvaROC1(pipe,X_train,y_train):\n",
    "\n",
    "    # representa la curva roc\n",
    "    y_scores = cross_val_predict(pipe, X_train, y_train, cv=3)\n",
    "\n",
    "    fpr, tpr, thresholds = roc_curve(y_train, y_scores)\n",
    "\n",
    "\n",
    "    def plot_roc_curve(fpr, tpr, label=None):\n",
    "        plt.plot(fpr, tpr, linewidth=2, label=label)\n",
    "        #plt.plot([0, 1], [0, 1], 'k--')\n",
    "        plt.axis([0, 1, 0, 1])\n",
    "        plt.xlabel('Ratio de Falsos Positivos')\n",
    "        plt.ylabel('Ratio de Verdaderos Positivos')\n",
    "\n",
    "    plot_roc_curve(fpr, tpr)\n",
    "    plt.show()\n",
    "    "
   ]
  },
  {
   "cell_type": "code",
   "execution_count": null,
   "metadata": {},
   "outputs": [],
   "source": [
    "\n",
    "plot_roc_curve(pipes_arbol_entrenados[0], X_test, y_test)"
   ]
  },
  {
   "cell_type": "code",
   "execution_count": null,
   "metadata": {},
   "outputs": [],
   "source": []
  },
  {
   "cell_type": "markdown",
   "metadata": {},
   "source": [
    "# Metrics"
   ]
  },
  {
   "cell_type": "code",
   "execution_count": null,
   "metadata": {},
   "outputs": [],
   "source": []
  },
  {
   "cell_type": "code",
   "execution_count": null,
   "metadata": {},
   "outputs": [],
   "source": [
    "ridge_pipe.fit(X_train,y_train)"
   ]
  },
  {
   "cell_type": "code",
   "execution_count": null,
   "metadata": {},
   "outputs": [],
   "source": [
    "y_train.value_counts()"
   ]
  },
  {
   "cell_type": "code",
   "execution_count": null,
   "metadata": {},
   "outputs": [],
   "source": [
    "accuracy_score(y_test,ridge_pipe.predict(X_test))"
   ]
  },
  {
   "cell_type": "markdown",
   "metadata": {},
   "source": [
    "### 3.1.1 Clasificadro SVM"
   ]
  },
  {
   "cell_type": "code",
   "execution_count": null,
   "metadata": {},
   "outputs": [],
   "source": [
    "\n"
   ]
  },
  {
   "cell_type": "code",
   "execution_count": null,
   "metadata": {},
   "outputs": [],
   "source": [
    "svm_pipe.fit(X_train,y_train)"
   ]
  },
  {
   "cell_type": "code",
   "execution_count": null,
   "metadata": {},
   "outputs": [],
   "source": [
    "accuracy_score(svm_pipe.predict(X_test),y_test)"
   ]
  },
  {
   "cell_type": "code",
   "execution_count": null,
   "metadata": {},
   "outputs": [],
   "source": [
    "curvaROC(ridge_pipe,X_train,y_train)"
   ]
  },
  {
   "cell_type": "code",
   "execution_count": null,
   "metadata": {},
   "outputs": [],
   "source": [
    "from sklearn.model_selection import cross_val_predict\n",
    "y_train_pred = cross_val_predict(ridge_pipe, X_train, y_train, cv=3)"
   ]
  },
  {
   "cell_type": "code",
   "execution_count": null,
   "metadata": {},
   "outputs": [],
   "source": [
    "from sklearn.metrics import confusion_matrix\n",
    "confusion_matrix(y_train, y_train_pred)"
   ]
  },
  {
   "cell_type": "code",
   "execution_count": null,
   "metadata": {},
   "outputs": [],
   "source": [
    "prue = pd.read_csv(archivoPRUEBA)"
   ]
  },
  {
   "cell_type": "code",
   "execution_count": null,
   "metadata": {},
   "outputs": [],
   "source": [
    "prue.info()"
   ]
  },
  {
   "cell_type": "raw",
   "metadata": {},
   "source": [
    "cols = [0,1,2,4,5,8,12,13,14,18,22]\n",
    "prue.drop(prue.columns[cols],axis=1,inplace= True)\n",
    "prue.info()"
   ]
  },
  {
   "cell_type": "code",
   "execution_count": null,
   "metadata": {},
   "outputs": [],
   "source": [
    "cols = [0,1,2,4,5,8,12,13,14,18,22]\n",
    "y_prue_svm = ridge_pipe.predict(prue.drop(prue.columns[cols],axis=1))\n",
    "prue[\"Conflicto_svm\"] = y_prue_svm\n",
    "\n"
   ]
  },
  {
   "cell_type": "code",
   "execution_count": null,
   "metadata": {},
   "outputs": [],
   "source": [
    "prue.head()"
   ]
  },
  {
   "cell_type": "code",
   "execution_count": null,
   "metadata": {},
   "outputs": [],
   "source": [
    "X_train.info()"
   ]
  }
 ],
 "metadata": {
  "kernelspec": {
   "display_name": "Python 3",
   "language": "python",
   "name": "python3"
  },
  "language_info": {
   "codemirror_mode": {
    "name": "ipython",
    "version": 3
   },
   "file_extension": ".py",
   "mimetype": "text/x-python",
   "name": "python",
   "nbconvert_exporter": "python",
   "pygments_lexer": "ipython3",
   "version": "3.7.8"
  }
 },
 "nbformat": 4,
 "nbformat_minor": 4
}
