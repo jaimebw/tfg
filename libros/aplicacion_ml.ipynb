{
 "cells": [
  {
   "cell_type": "code",
   "execution_count": 1,
   "metadata": {},
   "outputs": [],
   "source": [
    "import traffic\n",
    "import pandas as pd \n",
    "import os\n",
    "from traffic.core import Traffic\n",
    "from biblio_herramienta.herramienta import *\n",
    "from biblio_herramienta.tratardatos import *\n",
    "from biblio_herramienta.ml import *"
   ]
  },
  {
   "cell_type": "code",
   "execution_count": 2,
   "metadata": {},
   "outputs": [],
   "source": [
    "archivoBBDD = r\"/Users/jaimebowen/OneDrive/TFGSeptiembre/libros_a_scripts/datos_sectores/BBDD_bilbao.csv\""
   ]
  },
  {
   "cell_type": "code",
   "execution_count": 3,
   "metadata": {},
   "outputs": [],
   "source": [
    "archivoPRUEBA = r\"/Users/jaimebowen/OneDrive/TFGSeptiembre/libros/datos_sectores/datos_f_c_pares_bilbao_magnitudes.csv\""
   ]
  },
  {
   "cell_type": "code",
   "execution_count": 4,
   "metadata": {},
   "outputs": [],
   "source": [
    "bbdd = pd.read_csv(archivoBBDD)"
   ]
  },
  {
   "cell_type": "code",
   "execution_count": 5,
   "metadata": {},
   "outputs": [
    {
     "name": "stdout",
     "output_type": "stream",
     "text": [
      "<class 'pandas.core.frame.DataFrame'>\n",
      "RangeIndex: 463080 entries, 0 to 463079\n",
      "Data columns (total 39 columns):\n",
      " #   Column              Non-Null Count   Dtype  \n",
      "---  ------              --------------   -----  \n",
      " 0   Unnamed: 0          463080 non-null  int64  \n",
      " 1   Unnamed: 0.1        463080 non-null  int64  \n",
      " 2   ave1                463080 non-null  object \n",
      " 3   ave2                463080 non-null  object \n",
      " 4   Unnamed: 0_1        463080 non-null  int64  \n",
      " 5   Unnamed: 0.1_1      463080 non-null  int64  \n",
      " 6   Unnamed: 0.1.1_1    463080 non-null  int64  \n",
      " 7   altitude_1          463080 non-null  float64\n",
      " 8   geoaltitude_1       463080 non-null  float64\n",
      " 9   groundspeed_1       463080 non-null  float64\n",
      " 10  latitude_1          463080 non-null  float64\n",
      " 11  longitude_1         463080 non-null  float64\n",
      " 12  timestamp_1         463080 non-null  object \n",
      " 13  track_1             463080 non-null  float64\n",
      " 14  vertical_rate_1     463080 non-null  float64\n",
      " 15  track_unwrapped_1   463080 non-null  float64\n",
      " 16  cluster_1           463080 non-null  int64  \n",
      " 17  Unnamed: 0_2        463080 non-null  int64  \n",
      " 18  Unnamed: 0.1_2      463080 non-null  int64  \n",
      " 19  Unnamed: 0.1.1_2    463080 non-null  int64  \n",
      " 20  altitude_2          463080 non-null  float64\n",
      " 21  geoaltitude_2       463080 non-null  float64\n",
      " 22  groundspeed_2       463080 non-null  float64\n",
      " 23  latitude_2          463080 non-null  float64\n",
      " 24  longitude_2         463080 non-null  float64\n",
      " 25  timestamp_2         463080 non-null  object \n",
      " 26  track_2             463080 non-null  float64\n",
      " 27  vertical_rate_2     463080 non-null  float64\n",
      " 28  track_unwrapped_2   463080 non-null  float64\n",
      " 29  cluster_2           463080 non-null  int64  \n",
      " 30  Init separation     463080 non-null  float64\n",
      " 31  Init acimut         463080 non-null  float64\n",
      " 32  Var GS Module       463080 non-null  float64\n",
      " 33  Var Track           463080 non-null  float64\n",
      " 34  Var init altitude   463080 non-null  float64\n",
      " 35  Var Vertical speed  463080 non-null  float64\n",
      " 36  Conflicto           463080 non-null  int64  \n",
      " 37  MinDis              463080 non-null  float64\n",
      " 38  Timetoconf          463080 non-null  int64  \n",
      "dtypes: float64(23), int64(12), object(4)\n",
      "memory usage: 137.8+ MB\n"
     ]
    }
   ],
   "source": [
    "bbdd.info()"
   ]
  },
  {
   "cell_type": "code",
   "execution_count": 6,
   "metadata": {},
   "outputs": [
    {
     "name": "stdout",
     "output_type": "stream",
     "text": [
      "<class 'pandas.core.frame.DataFrame'>\n",
      "RangeIndex: 463080 entries, 0 to 463079\n",
      "Data columns (total 19 columns):\n",
      " #   Column              Non-Null Count   Dtype  \n",
      "---  ------              --------------   -----  \n",
      " 0   altitude_1          463080 non-null  float64\n",
      " 1   groundspeed_1       463080 non-null  float64\n",
      " 2   latitude_1          463080 non-null  float64\n",
      " 3   longitude_1         463080 non-null  float64\n",
      " 4   vertical_rate_1     463080 non-null  float64\n",
      " 5   track_unwrapped_1   463080 non-null  float64\n",
      " 6   altitude_2          463080 non-null  float64\n",
      " 7   groundspeed_2       463080 non-null  float64\n",
      " 8   latitude_2          463080 non-null  float64\n",
      " 9   longitude_2         463080 non-null  float64\n",
      " 10  vertical_rate_2     463080 non-null  float64\n",
      " 11  track_unwrapped_2   463080 non-null  float64\n",
      " 12  Init separation     463080 non-null  float64\n",
      " 13  Init acimut         463080 non-null  float64\n",
      " 14  Var GS Module       463080 non-null  float64\n",
      " 15  Var Track           463080 non-null  float64\n",
      " 16  Var init altitude   463080 non-null  float64\n",
      " 17  Var Vertical speed  463080 non-null  float64\n",
      " 18  Conflicto           463080 non-null  int64  \n",
      "dtypes: float64(18), int64(1)\n",
      "memory usage: 67.1 MB\n"
     ]
    }
   ],
   "source": [
    "cols = [0,1,2,3,4,5,6,8,12,13,16,17,18,21,25,26,19,29,37,38]\n",
    "bbdd.drop(bbdd.columns[cols],axis=1,inplace= True)\n",
    "bbdd.info()"
   ]
  },
  {
   "cell_type": "code",
   "execution_count": 24,
   "metadata": {},
   "outputs": [
    {
     "data": {
      "text/plain": [
       "10.000000    462963\n",
       "0.030329          2\n",
       "1.054209          1\n",
       "0.031199          1\n",
       "0.071402          1\n",
       "              ...  \n",
       "2.790849          1\n",
       "3.448982          1\n",
       "0.036788          1\n",
       "3.546056          1\n",
       "0.094328          1\n",
       "Name: MinDis, Length: 117, dtype: int64"
      ]
     },
     "execution_count": 24,
     "metadata": {},
     "output_type": "execute_result"
    }
   ],
   "source": [
    "bbdd.MinDis.value_counts()"
   ]
  },
  {
   "cell_type": "markdown",
   "metadata": {},
   "source": [
    "# 2. Generación de los datatsets\n",
    "Con los datos cargados, ahora se van a generar dos BBDD:\n",
    "* La que se va a usar para entrenar al modelo\n",
    "* La que se va a usar para saber si el modelo ha sido bien entrenado"
   ]
  },
  {
   "cell_type": "code",
   "execution_count": 7,
   "metadata": {},
   "outputs": [],
   "source": [
    "X = bbdd.drop(columns = [\"Conflicto\"],axis =1)\n",
    "y = bbdd[\"Conflicto\"]\n",
    "from sklearn.model_selection import train_test_split\n",
    "X_train, X_test, y_train, y_test = train_test_split(X , y , stratify = y, test_size = 0.2, random_state = 42)"
   ]
  },
  {
   "cell_type": "markdown",
   "metadata": {},
   "source": [
    "# 3. Generación de Pipelines \n",
    "Como se comenta en el apartado 2 el TFG, se va a usar varios método para realizar las predicciones de los datos obtenidos y probar cual es aquel que tiene mayor precisión.  \n"
   ]
  },
  {
   "cell_type": "markdown",
   "metadata": {},
   "source": [
    "## 3.1 Modelos lineales\n",
    "### 3.1.1 Clasificadro Ridge"
   ]
  },
  {
   "cell_type": "code",
   "execution_count": 8,
   "metadata": {},
   "outputs": [],
   "source": [
    "from sklearn.pipeline import Pipeline\n",
    "from sklearn.preprocessing import StandardScaler\n",
    "from sklearn.linear_model import RidgeClassifier\n",
    "from sklearn.metrics import accuracy_score\n",
    "# Clasificador Ridge\n",
    "ridge_pipe = Pipeline([\n",
    "    ('scaler',StandardScaler()),\n",
    "    ('ridge_classifier',RidgeClassifier(alpha = 0.1))\n",
    "\n",
    "\n",
    "])\n",
    "\n",
    "# Clasificador "
   ]
  },
  {
   "cell_type": "code",
   "execution_count": 9,
   "metadata": {},
   "outputs": [
    {
     "data": {
      "text/plain": [
       "Pipeline(steps=[('scaler', StandardScaler()),\n",
       "                ('ridge_classifier', RidgeClassifier(alpha=0.1))])"
      ]
     },
     "execution_count": 9,
     "metadata": {},
     "output_type": "execute_result"
    }
   ],
   "source": [
    "ridge_pipe.fit(X_train,y_train)"
   ]
  },
  {
   "cell_type": "code",
   "execution_count": 34,
   "metadata": {},
   "outputs": [
    {
     "data": {
      "text/plain": [
       "0    370370\n",
       "1        94\n",
       "Name: Conflicto, dtype: int64"
      ]
     },
     "execution_count": 34,
     "metadata": {},
     "output_type": "execute_result"
    }
   ],
   "source": [
    "y_train.value_counts()"
   ]
  },
  {
   "cell_type": "code",
   "execution_count": 10,
   "metadata": {},
   "outputs": [
    {
     "data": {
      "text/plain": [
       "0.9997516627796493"
      ]
     },
     "execution_count": 10,
     "metadata": {},
     "output_type": "execute_result"
    }
   ],
   "source": [
    "accuracy_score(y_test,ridge_pipe.predict(X_test))"
   ]
  },
  {
   "cell_type": "markdown",
   "metadata": {},
   "source": [
    "### 3.1.1 Clasificadro SVM"
   ]
  },
  {
   "cell_type": "code",
   "execution_count": 36,
   "metadata": {},
   "outputs": [],
   "source": [
    "from sklearn.svm import LinearSVC\n",
    "svm_pipe = Pipeline((\n",
    "    ('scaler', StandardScaler()),\n",
    "    ('linear_svc', LinearSVC(C=1, loss = 'hinge'))\n",
    "))"
   ]
  },
  {
   "cell_type": "code",
   "execution_count": 37,
   "metadata": {},
   "outputs": [
    {
     "data": {
      "text/plain": [
       "Pipeline(steps=[('scaler', StandardScaler()),\n",
       "                ('linear_svc', LinearSVC(C=1, loss='hinge'))])"
      ]
     },
     "execution_count": 37,
     "metadata": {},
     "output_type": "execute_result"
    }
   ],
   "source": [
    "svm_pipe.fit(X_train,y_train)"
   ]
  },
  {
   "cell_type": "code",
   "execution_count": 38,
   "metadata": {},
   "outputs": [
    {
     "data": {
      "text/plain": [
       "0.9997516627796493"
      ]
     },
     "execution_count": 38,
     "metadata": {},
     "output_type": "execute_result"
    }
   ],
   "source": [
    "accuracy_score(svm_pipe.predict(X_test),y_test)"
   ]
  },
  {
   "cell_type": "code",
   "execution_count": 39,
   "metadata": {},
   "outputs": [
    {
     "data": {
      "image/png": "[encoded data removed]",
      "text/plain": [
       "<Figure size 432x288 with 1 Axes>"
      ]
     },
     "metadata": {
      "needs_background": "light"
     },
     "output_type": "display_data"
    }
   ],
   "source": [
    "curvaROC(ridge_pipe,X_train,y_train)"
   ]
  },
  {
   "cell_type": "code",
   "execution_count": 40,
   "metadata": {},
   "outputs": [],
   "source": [
    "from sklearn.model_selection import cross_val_predict\n",
    "y_train_pred = cross_val_predict(ridge_pipe, X_train, y_train, cv=3)"
   ]
  },
  {
   "cell_type": "code",
   "execution_count": 41,
   "metadata": {},
   "outputs": [
    {
     "data": {
      "text/plain": [
       "array([[370370,      0],\n",
       "       [    94,      0]])"
      ]
     },
     "execution_count": 41,
     "metadata": {},
     "output_type": "execute_result"
    }
   ],
   "source": [
    "from sklearn.metrics import confusion_matrix\n",
    "confusion_matrix(y_train, y_train_pred)"
   ]
  },
  {
   "cell_type": "code",
   "execution_count": 47,
   "metadata": {},
   "outputs": [],
   "source": [
    "prue = pd.read_csv(archivoPRUEBA)"
   ]
  },
  {
   "cell_type": "code",
   "execution_count": 43,
   "metadata": {},
   "outputs": [
    {
     "name": "stdout",
     "output_type": "stream",
     "text": [
      "<class 'pandas.core.frame.DataFrame'>\n",
      "RangeIndex: 463080 entries, 0 to 463079\n",
      "Data columns (total 29 columns):\n",
      " #   Column              Non-Null Count   Dtype  \n",
      "---  ------              --------------   -----  \n",
      " 0   Unnamed: 0          463080 non-null  int64  \n",
      " 1   ave1                463080 non-null  object \n",
      " 2   ave2                463080 non-null  object \n",
      " 3   altitude_1          463080 non-null  float64\n",
      " 4   geoaltitude_1       463080 non-null  float64\n",
      " 5   groundspeed_1       463080 non-null  float64\n",
      " 6   latitude_1          463080 non-null  float64\n",
      " 7   longitude_1         463080 non-null  float64\n",
      " 8   timestamp_1         463080 non-null  object \n",
      " 9   track_1             463080 non-null  float64\n",
      " 10  vertical_rate_1     463080 non-null  float64\n",
      " 11  track_unwrapped_1   463080 non-null  float64\n",
      " 12  cluster_1           463080 non-null  int64  \n",
      " 13  altitude_2          463080 non-null  float64\n",
      " 14  geoaltitude_2       463080 non-null  float64\n",
      " 15  groundspeed_2       463080 non-null  float64\n",
      " 16  latitude_2          463080 non-null  float64\n",
      " 17  longitude_2         463080 non-null  float64\n",
      " 18  timestamp_2         463080 non-null  object \n",
      " 19  track_2             463080 non-null  float64\n",
      " 20  vertical_rate_2     463080 non-null  float64\n",
      " 21  track_unwrapped_2   463080 non-null  float64\n",
      " 22  cluster_2           463080 non-null  int64  \n",
      " 23  Init separation     463080 non-null  float64\n",
      " 24  Init acimut         463080 non-null  float64\n",
      " 25  Var GS Module       463080 non-null  float64\n",
      " 26  Var Track           463080 non-null  float64\n",
      " 27  Var init altitude   463080 non-null  float64\n",
      " 28  Var Vertical speed  463080 non-null  float64\n",
      "dtypes: float64(22), int64(3), object(4)\n",
      "memory usage: 102.5+ MB\n"
     ]
    }
   ],
   "source": [
    "prue.info()"
   ]
  },
  {
   "cell_type": "raw",
   "metadata": {},
   "source": [
    "cols = [0,1,2,4,5,8,12,13,14,18,22]\n",
    "prue.drop(prue.columns[cols],axis=1,inplace= True)\n",
    "prue.info()"
   ]
  },
  {
   "cell_type": "code",
   "execution_count": 49,
   "metadata": {},
   "outputs": [
    {
     "ename": "ValueError",
     "evalue": "X has 19 features, but this StandardScaler is expecting 18 features as input.",
     "output_type": "error",
     "traceback": [
      "\u001b[0;31m---------------------------------------------------------------------------\u001b[0m",
      "\u001b[0;31mValueError\u001b[0m                                Traceback (most recent call last)",
      "\u001b[0;32m<ipython-input-49-3c27a6af04ca>\u001b[0m in \u001b[0;36m<module>\u001b[0;34m()\u001b[0m\n\u001b[1;32m      1\u001b[0m \u001b[0mcols\u001b[0m \u001b[0;34m=\u001b[0m \u001b[0;34m[\u001b[0m\u001b[0;36m0\u001b[0m\u001b[0;34m,\u001b[0m\u001b[0;36m1\u001b[0m\u001b[0;34m,\u001b[0m\u001b[0;36m2\u001b[0m\u001b[0;34m,\u001b[0m\u001b[0;36m4\u001b[0m\u001b[0;34m,\u001b[0m\u001b[0;36m5\u001b[0m\u001b[0;34m,\u001b[0m\u001b[0;36m8\u001b[0m\u001b[0;34m,\u001b[0m\u001b[0;36m12\u001b[0m\u001b[0;34m,\u001b[0m\u001b[0;36m13\u001b[0m\u001b[0;34m,\u001b[0m\u001b[0;36m14\u001b[0m\u001b[0;34m,\u001b[0m\u001b[0;36m18\u001b[0m\u001b[0;34m,\u001b[0m\u001b[0;36m22\u001b[0m\u001b[0;34m]\u001b[0m\u001b[0;34m\u001b[0m\u001b[0;34m\u001b[0m\u001b[0m\n\u001b[0;32m----> 2\u001b[0;31m \u001b[0my_prue_svm\u001b[0m \u001b[0;34m=\u001b[0m \u001b[0mridge_pipe\u001b[0m\u001b[0;34m.\u001b[0m\u001b[0mpredict\u001b[0m\u001b[0;34m(\u001b[0m\u001b[0mprue\u001b[0m\u001b[0;34m.\u001b[0m\u001b[0mdrop\u001b[0m\u001b[0;34m(\u001b[0m\u001b[0mprue\u001b[0m\u001b[0;34m.\u001b[0m\u001b[0mcolumns\u001b[0m\u001b[0;34m[\u001b[0m\u001b[0mcols\u001b[0m\u001b[0;34m]\u001b[0m\u001b[0;34m,\u001b[0m\u001b[0maxis\u001b[0m\u001b[0;34m=\u001b[0m\u001b[0;36m1\u001b[0m\u001b[0;34m)\u001b[0m\u001b[0;34m)\u001b[0m\u001b[0;34m\u001b[0m\u001b[0;34m\u001b[0m\u001b[0m\n\u001b[0m\u001b[1;32m      3\u001b[0m \u001b[0mprue\u001b[0m\u001b[0;34m[\u001b[0m\u001b[0;34m\"Conflicto_svm\"\u001b[0m\u001b[0;34m]\u001b[0m \u001b[0;34m=\u001b[0m \u001b[0my_prue_svm\u001b[0m\u001b[0;34m\u001b[0m\u001b[0;34m\u001b[0m\u001b[0m\n\u001b[1;32m      4\u001b[0m \u001b[0;34m\u001b[0m\u001b[0m\n\u001b[1;32m      5\u001b[0m \u001b[0mprue\u001b[0m\u001b[0;34m.\u001b[0m\u001b[0mhead\u001b[0m\u001b[0;34m(\u001b[0m\u001b[0;34m)\u001b[0m\u001b[0;34m\u001b[0m\u001b[0;34m\u001b[0m\u001b[0m\n",
      "\u001b[0;32m/Users/jaimebowen/opt/miniconda3/envs/tfgpaquetes/lib/python3.7/site-packages/sklearn/utils/metaestimators.py\u001b[0m in \u001b[0;36m<lambda>\u001b[0;34m(*args, **kwargs)\u001b[0m\n\u001b[1;32m    117\u001b[0m \u001b[0;34m\u001b[0m\u001b[0m\n\u001b[1;32m    118\u001b[0m         \u001b[0;31m# lambda, but not partial, allows help() to work with update_wrapper\u001b[0m\u001b[0;34m\u001b[0m\u001b[0;34m\u001b[0m\u001b[0;34m\u001b[0m\u001b[0m\n\u001b[0;32m--> 119\u001b[0;31m         \u001b[0mout\u001b[0m \u001b[0;34m=\u001b[0m \u001b[0;32mlambda\u001b[0m \u001b[0;34m*\u001b[0m\u001b[0margs\u001b[0m\u001b[0;34m,\u001b[0m \u001b[0;34m**\u001b[0m\u001b[0mkwargs\u001b[0m\u001b[0;34m:\u001b[0m \u001b[0mself\u001b[0m\u001b[0;34m.\u001b[0m\u001b[0mfn\u001b[0m\u001b[0;34m(\u001b[0m\u001b[0mobj\u001b[0m\u001b[0;34m,\u001b[0m \u001b[0;34m*\u001b[0m\u001b[0margs\u001b[0m\u001b[0;34m,\u001b[0m \u001b[0;34m**\u001b[0m\u001b[0mkwargs\u001b[0m\u001b[0;34m)\u001b[0m\u001b[0;34m\u001b[0m\u001b[0;34m\u001b[0m\u001b[0m\n\u001b[0m\u001b[1;32m    120\u001b[0m         \u001b[0;31m# update the docstring of the returned function\u001b[0m\u001b[0;34m\u001b[0m\u001b[0;34m\u001b[0m\u001b[0;34m\u001b[0m\u001b[0m\n\u001b[1;32m    121\u001b[0m         \u001b[0mupdate_wrapper\u001b[0m\u001b[0;34m(\u001b[0m\u001b[0mout\u001b[0m\u001b[0;34m,\u001b[0m \u001b[0mself\u001b[0m\u001b[0;34m.\u001b[0m\u001b[0mfn\u001b[0m\u001b[0;34m)\u001b[0m\u001b[0;34m\u001b[0m\u001b[0;34m\u001b[0m\u001b[0m\n",
      "\u001b[0;32m/Users/jaimebowen/opt/miniconda3/envs/tfgpaquetes/lib/python3.7/site-packages/sklearn/pipeline.py\u001b[0m in \u001b[0;36mpredict\u001b[0;34m(self, X, **predict_params)\u001b[0m\n\u001b[1;32m    405\u001b[0m         \u001b[0mXt\u001b[0m \u001b[0;34m=\u001b[0m \u001b[0mX\u001b[0m\u001b[0;34m\u001b[0m\u001b[0;34m\u001b[0m\u001b[0m\n\u001b[1;32m    406\u001b[0m         \u001b[0;32mfor\u001b[0m \u001b[0m_\u001b[0m\u001b[0;34m,\u001b[0m \u001b[0mname\u001b[0m\u001b[0;34m,\u001b[0m \u001b[0mtransform\u001b[0m \u001b[0;32min\u001b[0m \u001b[0mself\u001b[0m\u001b[0;34m.\u001b[0m\u001b[0m_iter\u001b[0m\u001b[0;34m(\u001b[0m\u001b[0mwith_final\u001b[0m\u001b[0;34m=\u001b[0m\u001b[0;32mFalse\u001b[0m\u001b[0;34m)\u001b[0m\u001b[0;34m:\u001b[0m\u001b[0;34m\u001b[0m\u001b[0;34m\u001b[0m\u001b[0m\n\u001b[0;32m--> 407\u001b[0;31m             \u001b[0mXt\u001b[0m \u001b[0;34m=\u001b[0m \u001b[0mtransform\u001b[0m\u001b[0;34m.\u001b[0m\u001b[0mtransform\u001b[0m\u001b[0;34m(\u001b[0m\u001b[0mXt\u001b[0m\u001b[0;34m)\u001b[0m\u001b[0;34m\u001b[0m\u001b[0;34m\u001b[0m\u001b[0m\n\u001b[0m\u001b[1;32m    408\u001b[0m         \u001b[0;32mreturn\u001b[0m \u001b[0mself\u001b[0m\u001b[0;34m.\u001b[0m\u001b[0msteps\u001b[0m\u001b[0;34m[\u001b[0m\u001b[0;34m-\u001b[0m\u001b[0;36m1\u001b[0m\u001b[0;34m]\u001b[0m\u001b[0;34m[\u001b[0m\u001b[0;34m-\u001b[0m\u001b[0;36m1\u001b[0m\u001b[0;34m]\u001b[0m\u001b[0;34m.\u001b[0m\u001b[0mpredict\u001b[0m\u001b[0;34m(\u001b[0m\u001b[0mXt\u001b[0m\u001b[0;34m,\u001b[0m \u001b[0;34m**\u001b[0m\u001b[0mpredict_params\u001b[0m\u001b[0;34m)\u001b[0m\u001b[0;34m\u001b[0m\u001b[0;34m\u001b[0m\u001b[0m\n\u001b[1;32m    409\u001b[0m \u001b[0;34m\u001b[0m\u001b[0m\n",
      "\u001b[0;32m/Users/jaimebowen/opt/miniconda3/envs/tfgpaquetes/lib/python3.7/site-packages/sklearn/preprocessing/_data.py\u001b[0m in \u001b[0;36mtransform\u001b[0;34m(self, X, copy)\u001b[0m\n\u001b[1;32m    792\u001b[0m                                 \u001b[0maccept_sparse\u001b[0m\u001b[0;34m=\u001b[0m\u001b[0;34m'csr'\u001b[0m\u001b[0;34m,\u001b[0m \u001b[0mcopy\u001b[0m\u001b[0;34m=\u001b[0m\u001b[0mcopy\u001b[0m\u001b[0;34m,\u001b[0m\u001b[0;34m\u001b[0m\u001b[0;34m\u001b[0m\u001b[0m\n\u001b[1;32m    793\u001b[0m                                 \u001b[0mestimator\u001b[0m\u001b[0;34m=\u001b[0m\u001b[0mself\u001b[0m\u001b[0;34m,\u001b[0m \u001b[0mdtype\u001b[0m\u001b[0;34m=\u001b[0m\u001b[0mFLOAT_DTYPES\u001b[0m\u001b[0;34m,\u001b[0m\u001b[0;34m\u001b[0m\u001b[0;34m\u001b[0m\u001b[0m\n\u001b[0;32m--> 794\u001b[0;31m                                 force_all_finite='allow-nan')\n\u001b[0m\u001b[1;32m    795\u001b[0m \u001b[0;34m\u001b[0m\u001b[0m\n\u001b[1;32m    796\u001b[0m         \u001b[0;32mif\u001b[0m \u001b[0msparse\u001b[0m\u001b[0;34m.\u001b[0m\u001b[0missparse\u001b[0m\u001b[0;34m(\u001b[0m\u001b[0mX\u001b[0m\u001b[0;34m)\u001b[0m\u001b[0;34m:\u001b[0m\u001b[0;34m\u001b[0m\u001b[0;34m\u001b[0m\u001b[0m\n",
      "\u001b[0;32m/Users/jaimebowen/opt/miniconda3/envs/tfgpaquetes/lib/python3.7/site-packages/sklearn/base.py\u001b[0m in \u001b[0;36m_validate_data\u001b[0;34m(self, X, y, reset, validate_separately, **check_params)\u001b[0m\n\u001b[1;32m    434\u001b[0m \u001b[0;34m\u001b[0m\u001b[0m\n\u001b[1;32m    435\u001b[0m         \u001b[0;32mif\u001b[0m \u001b[0mcheck_params\u001b[0m\u001b[0;34m.\u001b[0m\u001b[0mget\u001b[0m\u001b[0;34m(\u001b[0m\u001b[0;34m'ensure_2d'\u001b[0m\u001b[0;34m,\u001b[0m \u001b[0;32mTrue\u001b[0m\u001b[0;34m)\u001b[0m\u001b[0;34m:\u001b[0m\u001b[0;34m\u001b[0m\u001b[0;34m\u001b[0m\u001b[0m\n\u001b[0;32m--> 436\u001b[0;31m             \u001b[0mself\u001b[0m\u001b[0;34m.\u001b[0m\u001b[0m_check_n_features\u001b[0m\u001b[0;34m(\u001b[0m\u001b[0mX\u001b[0m\u001b[0;34m,\u001b[0m \u001b[0mreset\u001b[0m\u001b[0;34m=\u001b[0m\u001b[0mreset\u001b[0m\u001b[0;34m)\u001b[0m\u001b[0;34m\u001b[0m\u001b[0;34m\u001b[0m\u001b[0m\n\u001b[0m\u001b[1;32m    437\u001b[0m \u001b[0;34m\u001b[0m\u001b[0m\n\u001b[1;32m    438\u001b[0m         \u001b[0;32mreturn\u001b[0m \u001b[0mout\u001b[0m\u001b[0;34m\u001b[0m\u001b[0;34m\u001b[0m\u001b[0m\n",
      "\u001b[0;32m/Users/jaimebowen/opt/miniconda3/envs/tfgpaquetes/lib/python3.7/site-packages/sklearn/base.py\u001b[0m in \u001b[0;36m_check_n_features\u001b[0;34m(self, X, reset)\u001b[0m\n\u001b[1;32m    378\u001b[0m                     \u001b[0;34m'X has {} features, but this {} is expecting {} features '\u001b[0m\u001b[0;34m\u001b[0m\u001b[0;34m\u001b[0m\u001b[0m\n\u001b[1;32m    379\u001b[0m                     'as input.'.format(n_features, self.__class__.__name__,\n\u001b[0;32m--> 380\u001b[0;31m                                        self.n_features_in_)\n\u001b[0m\u001b[1;32m    381\u001b[0m                 )\n\u001b[1;32m    382\u001b[0m \u001b[0;34m\u001b[0m\u001b[0m\n",
      "\u001b[0;31mValueError\u001b[0m: X has 19 features, but this StandardScaler is expecting 18 features as input."
     ]
    }
   ],
   "source": [
    "cols = [0,1,2,4,5,8,12,13,14,18,22]\n",
    "y_prue_svm = ridge_pipe.predict(prue.drop(prue.columns[cols],axis=1))\n",
    "prue[\"Conflicto_svm\"] = y_prue_svm\n",
    "\n"
   ]
  },
  {
   "cell_type": "code",
   "execution_count": 50,
   "metadata": {},
   "outputs": [
    {
     "data": {
      "text/html": [
       "<div>\n",
       "<style scoped>\n",
       "    .dataframe tbody tr th:only-of-type {\n",
       "        vertical-align: middle;\n",
       "    }\n",
       "\n",
       "    .dataframe tbody tr th {\n",
       "        vertical-align: top;\n",
       "    }\n",
       "\n",
       "    .dataframe thead th {\n",
       "        text-align: right;\n",
       "    }\n",
       "</style>\n",
       "<table border=\"1\" class=\"dataframe\">\n",
       "  <thead>\n",
       "    <tr style=\"text-align: right;\">\n",
       "      <th></th>\n",
       "      <th>Unnamed: 0</th>\n",
       "      <th>ave1</th>\n",
       "      <th>ave2</th>\n",
       "      <th>altitude_1</th>\n",
       "      <th>geoaltitude_1</th>\n",
       "      <th>groundspeed_1</th>\n",
       "      <th>latitude_1</th>\n",
       "      <th>longitude_1</th>\n",
       "      <th>timestamp_1</th>\n",
       "      <th>track_1</th>\n",
       "      <th>...</th>\n",
       "      <th>vertical_rate_2</th>\n",
       "      <th>track_unwrapped_2</th>\n",
       "      <th>cluster_2</th>\n",
       "      <th>Init separation</th>\n",
       "      <th>Init acimut</th>\n",
       "      <th>Var GS Module</th>\n",
       "      <th>Var Track</th>\n",
       "      <th>Var init altitude</th>\n",
       "      <th>Var Vertical speed</th>\n",
       "      <th>Conflicto_svm</th>\n",
       "    </tr>\n",
       "  </thead>\n",
       "  <tbody>\n",
       "    <tr>\n",
       "      <th>0</th>\n",
       "      <td>0</td>\n",
       "      <td>IBE31AA_123</td>\n",
       "      <td>AFR149H_346</td>\n",
       "      <td>35025.0</td>\n",
       "      <td>35000.0</td>\n",
       "      <td>487.0</td>\n",
       "      <td>44.375129</td>\n",
       "      <td>-3.974840</td>\n",
       "      <td>2019-01-31 00:00:00+00:00</td>\n",
       "      <td>187.314737</td>\n",
       "      <td>...</td>\n",
       "      <td>-64.0</td>\n",
       "      <td>187.314737</td>\n",
       "      <td>3</td>\n",
       "      <td>0.0</td>\n",
       "      <td>180.0</td>\n",
       "      <td>0.0</td>\n",
       "      <td>0.0</td>\n",
       "      <td>0.0</td>\n",
       "      <td>0.0</td>\n",
       "      <td>0</td>\n",
       "    </tr>\n",
       "    <tr>\n",
       "      <th>1</th>\n",
       "      <td>1</td>\n",
       "      <td>IBE31AA_123</td>\n",
       "      <td>IBE31CW_128</td>\n",
       "      <td>35025.0</td>\n",
       "      <td>35000.0</td>\n",
       "      <td>487.0</td>\n",
       "      <td>44.371731</td>\n",
       "      <td>-3.975376</td>\n",
       "      <td>2019-01-31 00:00:01+00:00</td>\n",
       "      <td>187.081212</td>\n",
       "      <td>...</td>\n",
       "      <td>-64.0</td>\n",
       "      <td>187.081212</td>\n",
       "      <td>3</td>\n",
       "      <td>0.0</td>\n",
       "      <td>180.0</td>\n",
       "      <td>0.0</td>\n",
       "      <td>0.0</td>\n",
       "      <td>0.0</td>\n",
       "      <td>0.0</td>\n",
       "      <td>0</td>\n",
       "    </tr>\n",
       "    <tr>\n",
       "      <th>2</th>\n",
       "      <td>2</td>\n",
       "      <td>IBE31AA_123</td>\n",
       "      <td>RAM804_004</td>\n",
       "      <td>35025.0</td>\n",
       "      <td>35000.0</td>\n",
       "      <td>488.0</td>\n",
       "      <td>44.370300</td>\n",
       "      <td>-3.975612</td>\n",
       "      <td>2019-01-31 00:00:02+00:00</td>\n",
       "      <td>186.950112</td>\n",
       "      <td>...</td>\n",
       "      <td>-64.0</td>\n",
       "      <td>186.950112</td>\n",
       "      <td>3</td>\n",
       "      <td>0.0</td>\n",
       "      <td>180.0</td>\n",
       "      <td>0.0</td>\n",
       "      <td>0.0</td>\n",
       "      <td>0.0</td>\n",
       "      <td>0.0</td>\n",
       "      <td>0</td>\n",
       "    </tr>\n",
       "    <tr>\n",
       "      <th>3</th>\n",
       "      <td>3</td>\n",
       "      <td>IBE31AA_123</td>\n",
       "      <td>RAM803_010</td>\n",
       "      <td>35025.0</td>\n",
       "      <td>35000.0</td>\n",
       "      <td>487.0</td>\n",
       "      <td>44.368423</td>\n",
       "      <td>-3.975939</td>\n",
       "      <td>2019-01-31 00:00:03+00:00</td>\n",
       "      <td>186.716705</td>\n",
       "      <td>...</td>\n",
       "      <td>-64.0</td>\n",
       "      <td>186.716705</td>\n",
       "      <td>3</td>\n",
       "      <td>0.0</td>\n",
       "      <td>180.0</td>\n",
       "      <td>0.0</td>\n",
       "      <td>0.0</td>\n",
       "      <td>0.0</td>\n",
       "      <td>0.0</td>\n",
       "      <td>0</td>\n",
       "    </tr>\n",
       "    <tr>\n",
       "      <th>4</th>\n",
       "      <td>4</td>\n",
       "      <td>IBE31AA_123</td>\n",
       "      <td>IBE31YL_129</td>\n",
       "      <td>35025.0</td>\n",
       "      <td>35000.0</td>\n",
       "      <td>488.0</td>\n",
       "      <td>44.364670</td>\n",
       "      <td>-3.976528</td>\n",
       "      <td>2019-01-31 00:00:04+00:00</td>\n",
       "      <td>186.236442</td>\n",
       "      <td>...</td>\n",
       "      <td>-64.0</td>\n",
       "      <td>186.236442</td>\n",
       "      <td>3</td>\n",
       "      <td>0.0</td>\n",
       "      <td>180.0</td>\n",
       "      <td>0.0</td>\n",
       "      <td>0.0</td>\n",
       "      <td>0.0</td>\n",
       "      <td>0.0</td>\n",
       "      <td>0</td>\n",
       "    </tr>\n",
       "  </tbody>\n",
       "</table>\n",
       "<p>5 rows × 30 columns</p>\n",
       "</div>"
      ],
      "text/plain": [
       "   Unnamed: 0         ave1         ave2  altitude_1  geoaltitude_1  \\\n",
       "0           0  IBE31AA_123  AFR149H_346     35025.0        35000.0   \n",
       "1           1  IBE31AA_123  IBE31CW_128     35025.0        35000.0   \n",
       "2           2  IBE31AA_123   RAM804_004     35025.0        35000.0   \n",
       "3           3  IBE31AA_123   RAM803_010     35025.0        35000.0   \n",
       "4           4  IBE31AA_123  IBE31YL_129     35025.0        35000.0   \n",
       "\n",
       "   groundspeed_1  latitude_1  longitude_1                timestamp_1  \\\n",
       "0          487.0   44.375129    -3.974840  2019-01-31 00:00:00+00:00   \n",
       "1          487.0   44.371731    -3.975376  2019-01-31 00:00:01+00:00   \n",
       "2          488.0   44.370300    -3.975612  2019-01-31 00:00:02+00:00   \n",
       "3          487.0   44.368423    -3.975939  2019-01-31 00:00:03+00:00   \n",
       "4          488.0   44.364670    -3.976528  2019-01-31 00:00:04+00:00   \n",
       "\n",
       "      track_1  ...  vertical_rate_2  track_unwrapped_2  cluster_2  \\\n",
       "0  187.314737  ...            -64.0         187.314737          3   \n",
       "1  187.081212  ...            -64.0         187.081212          3   \n",
       "2  186.950112  ...            -64.0         186.950112          3   \n",
       "3  186.716705  ...            -64.0         186.716705          3   \n",
       "4  186.236442  ...            -64.0         186.236442          3   \n",
       "\n",
       "   Init separation  Init acimut  Var GS Module  Var Track  Var init altitude  \\\n",
       "0              0.0        180.0            0.0        0.0                0.0   \n",
       "1              0.0        180.0            0.0        0.0                0.0   \n",
       "2              0.0        180.0            0.0        0.0                0.0   \n",
       "3              0.0        180.0            0.0        0.0                0.0   \n",
       "4              0.0        180.0            0.0        0.0                0.0   \n",
       "\n",
       "  Var Vertical speed  Conflicto_svm  \n",
       "0                0.0              0  \n",
       "1                0.0              0  \n",
       "2                0.0              0  \n",
       "3                0.0              0  \n",
       "4                0.0              0  \n",
       "\n",
       "[5 rows x 30 columns]"
      ]
     },
     "execution_count": 50,
     "metadata": {},
     "output_type": "execute_result"
    }
   ],
   "source": [
    "prue.head()"
   ]
  },
  {
   "cell_type": "code",
   "execution_count": 44,
   "metadata": {},
   "outputs": [
    {
     "name": "stdout",
     "output_type": "stream",
     "text": [
      "<class 'pandas.core.frame.DataFrame'>\n",
      "Int64Index: 370464 entries, 413190 to 257330\n",
      "Data columns (total 18 columns):\n",
      " #   Column              Non-Null Count   Dtype  \n",
      "---  ------              --------------   -----  \n",
      " 0   altitude_1          370464 non-null  float64\n",
      " 1   groundspeed_1       370464 non-null  float64\n",
      " 2   latitude_1          370464 non-null  float64\n",
      " 3   longitude_1         370464 non-null  float64\n",
      " 4   vertical_rate_1     370464 non-null  float64\n",
      " 5   track_unwrapped_1   370464 non-null  float64\n",
      " 6   altitude_2          370464 non-null  float64\n",
      " 7   groundspeed_2       370464 non-null  float64\n",
      " 8   latitude_2          370464 non-null  float64\n",
      " 9   longitude_2         370464 non-null  float64\n",
      " 10  vertical_rate_2     370464 non-null  float64\n",
      " 11  track_unwrapped_2   370464 non-null  float64\n",
      " 12  Init separation     370464 non-null  float64\n",
      " 13  Init acimut         370464 non-null  float64\n",
      " 14  Var GS Module       370464 non-null  float64\n",
      " 15  Var Track           370464 non-null  float64\n",
      " 16  Var init altitude   370464 non-null  float64\n",
      " 17  Var Vertical speed  370464 non-null  float64\n",
      "dtypes: float64(18)\n",
      "memory usage: 53.7 MB\n"
     ]
    }
   ],
   "source": [
    "X_train.info()"
   ]
  }
 ],
 "metadata": {
  "kernelspec": {
   "display_name": "Python 3",
   "language": "python",
   "name": "python3"
  },
  "language_info": {
   "codemirror_mode": {
    "name": "ipython",
    "version": 3
   },
   "file_extension": ".py",
   "mimetype": "text/x-python",
   "name": "python",
   "nbconvert_exporter": "python",
   "pygments_lexer": "ipython3",
   "version": "3.7.8"
  }
 },
 "nbformat": 4,
 "nbformat_minor": 4
}
