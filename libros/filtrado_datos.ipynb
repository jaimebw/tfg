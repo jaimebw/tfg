{
 "cells": [
  {
   "cell_type": "code",
   "execution_count": 1,
   "metadata": {},
   "outputs": [],
   "source": [
    "import traffic\n",
    "import pandas as pd "
   ]
  },
  {
   "cell_type": "code",
   "execution_count": 2,
   "metadata": {},
   "outputs": [],
   "source": [
    "carpetaDatos = r'datos_sectores/' # carpeta que contiene los datos\n",
    "nombreDatos = \"datos_bilbao.csv\"  # nombre del archivo"
   ]
  },
  {
   "cell_type": "markdown",
   "metadata": {},
   "source": [
    "## 1. Carga de los datos descargados del sector de Bilbao\n",
    "Las siguientes celdas muestran el proceso de carga de los datos en una variable del entorno"
   ]
  },
  {
   "cell_type": "code",
   "execution_count": 3,
   "metadata": {},
   "outputs": [],
   "source": [
    "def cargardatos(carpeta,nombre_datos):\n",
    "    # carga los datos descargados desde una carpeta\n",
    "    datos_cargados = traffic.core.Traffic.from_file(carpeta+nombre_datos)\n",
    "    return datos_cargados\n",
    "vuelos = cargardatos(carpetaDatos,nombreDatos)"
   ]
  },
  {
   "cell_type": "code",
   "execution_count": 4,
   "metadata": {},
   "outputs": [
    {
     "data": {
      "text/html": [
       "<div>\n",
       "<style scoped>\n",
       "    .dataframe tbody tr th:only-of-type {\n",
       "        vertical-align: middle;\n",
       "    }\n",
       "\n",
       "    .dataframe tbody tr th {\n",
       "        vertical-align: top;\n",
       "    }\n",
       "\n",
       "    .dataframe thead th {\n",
       "        text-align: right;\n",
       "    }\n",
       "</style>\n",
       "<table border=\"1\" class=\"dataframe\">\n",
       "  <thead>\n",
       "    <tr style=\"text-align: right;\">\n",
       "      <th></th>\n",
       "      <th>Unnamed: 0</th>\n",
       "      <th>alert</th>\n",
       "      <th>altitude</th>\n",
       "      <th>callsign</th>\n",
       "      <th>geoaltitude</th>\n",
       "      <th>groundspeed</th>\n",
       "      <th>hour</th>\n",
       "      <th>icao24</th>\n",
       "      <th>last_position</th>\n",
       "      <th>latitude</th>\n",
       "      <th>longitude</th>\n",
       "      <th>onground</th>\n",
       "      <th>spi</th>\n",
       "      <th>squawk</th>\n",
       "      <th>timestamp</th>\n",
       "      <th>track</th>\n",
       "      <th>vertical_rate</th>\n",
       "    </tr>\n",
       "  </thead>\n",
       "  <tbody>\n",
       "    <tr>\n",
       "      <th>0</th>\n",
       "      <td>0</td>\n",
       "      <td>False</td>\n",
       "      <td>36000.0</td>\n",
       "      <td>FPO1364</td>\n",
       "      <td>NaN</td>\n",
       "      <td>391.0</td>\n",
       "      <td>2019-02-05 02:00:00+00:00</td>\n",
       "      <td>396668</td>\n",
       "      <td>2019-02-05 02:10:19.800000+00:00</td>\n",
       "      <td>42.334791</td>\n",
       "      <td>-3.236176</td>\n",
       "      <td>False</td>\n",
       "      <td>False</td>\n",
       "      <td>5337.0</td>\n",
       "      <td>2019-02-05 02:10:20+00:00</td>\n",
       "      <td>11.654737</td>\n",
       "      <td>0.0</td>\n",
       "    </tr>\n",
       "    <tr>\n",
       "      <th>1</th>\n",
       "      <td>1</td>\n",
       "      <td>False</td>\n",
       "      <td>36000.0</td>\n",
       "      <td>FPO1364</td>\n",
       "      <td>NaN</td>\n",
       "      <td>391.0</td>\n",
       "      <td>2019-02-05 02:00:00+00:00</td>\n",
       "      <td>396668</td>\n",
       "      <td>2019-02-05 02:10:20.831000064+00:00</td>\n",
       "      <td>42.336467</td>\n",
       "      <td>-3.235665</td>\n",
       "      <td>False</td>\n",
       "      <td>False</td>\n",
       "      <td>5337.0</td>\n",
       "      <td>2019-02-05 02:10:21+00:00</td>\n",
       "      <td>11.654737</td>\n",
       "      <td>0.0</td>\n",
       "    </tr>\n",
       "    <tr>\n",
       "      <th>2</th>\n",
       "      <td>2</td>\n",
       "      <td>False</td>\n",
       "      <td>36000.0</td>\n",
       "      <td>FPO1364</td>\n",
       "      <td>NaN</td>\n",
       "      <td>391.0</td>\n",
       "      <td>2019-02-05 02:00:00+00:00</td>\n",
       "      <td>396668</td>\n",
       "      <td>2019-02-05 02:10:20.831000064+00:00</td>\n",
       "      <td>42.336467</td>\n",
       "      <td>-3.235665</td>\n",
       "      <td>False</td>\n",
       "      <td>False</td>\n",
       "      <td>5337.0</td>\n",
       "      <td>2019-02-05 02:10:22+00:00</td>\n",
       "      <td>11.654737</td>\n",
       "      <td>0.0</td>\n",
       "    </tr>\n",
       "    <tr>\n",
       "      <th>3</th>\n",
       "      <td>3</td>\n",
       "      <td>False</td>\n",
       "      <td>36000.0</td>\n",
       "      <td>FPO1364</td>\n",
       "      <td>NaN</td>\n",
       "      <td>391.0</td>\n",
       "      <td>2019-02-05 02:00:00+00:00</td>\n",
       "      <td>396668</td>\n",
       "      <td>2019-02-05 02:10:22.258999808+00:00</td>\n",
       "      <td>42.338376</td>\n",
       "      <td>-3.235154</td>\n",
       "      <td>False</td>\n",
       "      <td>False</td>\n",
       "      <td>5337.0</td>\n",
       "      <td>2019-02-05 02:10:23+00:00</td>\n",
       "      <td>11.654737</td>\n",
       "      <td>0.0</td>\n",
       "    </tr>\n",
       "    <tr>\n",
       "      <th>4</th>\n",
       "      <td>4</td>\n",
       "      <td>False</td>\n",
       "      <td>36000.0</td>\n",
       "      <td>FPO1364</td>\n",
       "      <td>NaN</td>\n",
       "      <td>391.0</td>\n",
       "      <td>2019-02-05 02:00:00+00:00</td>\n",
       "      <td>396668</td>\n",
       "      <td>2019-02-05 02:10:22.258999808+00:00</td>\n",
       "      <td>42.338376</td>\n",
       "      <td>-3.235154</td>\n",
       "      <td>False</td>\n",
       "      <td>False</td>\n",
       "      <td>5337.0</td>\n",
       "      <td>2019-02-05 02:10:24+00:00</td>\n",
       "      <td>11.654737</td>\n",
       "      <td>0.0</td>\n",
       "    </tr>\n",
       "  </tbody>\n",
       "</table>\n",
       "</div>"
      ],
      "text/plain": [
       "   Unnamed: 0  alert  altitude callsign  geoaltitude  groundspeed  \\\n",
       "0           0  False   36000.0  FPO1364          NaN        391.0   \n",
       "1           1  False   36000.0  FPO1364          NaN        391.0   \n",
       "2           2  False   36000.0  FPO1364          NaN        391.0   \n",
       "3           3  False   36000.0  FPO1364          NaN        391.0   \n",
       "4           4  False   36000.0  FPO1364          NaN        391.0   \n",
       "\n",
       "                        hour  icao24                        last_position  \\\n",
       "0  2019-02-05 02:00:00+00:00  396668     2019-02-05 02:10:19.800000+00:00   \n",
       "1  2019-02-05 02:00:00+00:00  396668  2019-02-05 02:10:20.831000064+00:00   \n",
       "2  2019-02-05 02:00:00+00:00  396668  2019-02-05 02:10:20.831000064+00:00   \n",
       "3  2019-02-05 02:00:00+00:00  396668  2019-02-05 02:10:22.258999808+00:00   \n",
       "4  2019-02-05 02:00:00+00:00  396668  2019-02-05 02:10:22.258999808+00:00   \n",
       "\n",
       "    latitude  longitude  onground    spi  squawk                  timestamp  \\\n",
       "0  42.334791  -3.236176     False  False  5337.0  2019-02-05 02:10:20+00:00   \n",
       "1  42.336467  -3.235665     False  False  5337.0  2019-02-05 02:10:21+00:00   \n",
       "2  42.336467  -3.235665     False  False  5337.0  2019-02-05 02:10:22+00:00   \n",
       "3  42.338376  -3.235154     False  False  5337.0  2019-02-05 02:10:23+00:00   \n",
       "4  42.338376  -3.235154     False  False  5337.0  2019-02-05 02:10:24+00:00   \n",
       "\n",
       "       track  vertical_rate  \n",
       "0  11.654737            0.0  \n",
       "1  11.654737            0.0  \n",
       "2  11.654737            0.0  \n",
       "3  11.654737            0.0  \n",
       "4  11.654737            0.0  "
      ]
     },
     "execution_count": 4,
     "metadata": {},
     "output_type": "execute_result"
    }
   ],
   "source": [
    "vuelos.data.head()"
   ]
  },
  {
   "cell_type": "code",
   "execution_count": 5,
   "metadata": {},
   "outputs": [
    {
     "name": "stdout",
     "output_type": "stream",
     "text": [
      "<class 'pandas.core.frame.DataFrame'>\n",
      "RangeIndex: 2111087 entries, 0 to 2111086\n",
      "Data columns (total 17 columns):\n",
      " #   Column         Dtype  \n",
      "---  ------         -----  \n",
      " 0   Unnamed: 0     int64  \n",
      " 1   alert          bool   \n",
      " 2   altitude       float64\n",
      " 3   callsign       object \n",
      " 4   geoaltitude    float64\n",
      " 5   groundspeed    float64\n",
      " 6   hour           object \n",
      " 7   icao24         object \n",
      " 8   last_position  object \n",
      " 9   latitude       float64\n",
      " 10  longitude      float64\n",
      " 11  onground       bool   \n",
      " 12  spi            bool   \n",
      " 13  squawk         float64\n",
      " 14  timestamp      object \n",
      " 15  track          float64\n",
      " 16  vertical_rate  float64\n",
      "dtypes: bool(3), float64(8), int64(1), object(5)\n",
      "memory usage: 231.5+ MB\n"
     ]
    }
   ],
   "source": [
    "vuelos.data.info()"
   ]
  },
  {
   "cell_type": "code",
   "execution_count": 6,
   "metadata": {},
   "outputs": [],
   "source": [
    "vuelos_prueba = vuelos # generamos otros df de vuelos para poder editarlo sin perder los datos originales"
   ]
  },
  {
   "cell_type": "markdown",
   "metadata": {},
   "source": [
    "# 2. Filtrado de los datos bajos condiciones explícitas\n",
    "Como se ha explicado, los datos deben filtrarse bajo ciertas condicones para asegurar que son los que se buscan para generar las base de datos. Las condiciones del sector elegido implica que:\n",
    "1. Las aeronaves no pueden estar en tierra\n",
    "2. Las aeronaves no pueden estar cambiano de nivel de vuelo\n",
    "3. Las aeronaves deben estar sobre el FL 345\n"
   ]
  },
  {
   "cell_type": "code",
   "execution_count": 7,
   "metadata": {},
   "outputs": [],
   "source": [
    "# 1. Las aeronaves no pueden estar en tierra\n",
    "aviones_entierra =  vuelos_prueba.data[vuelos_prueba.data[\"onground\"] == True].index\n",
    "vuelos_prueba.data.drop(aviones_entierra,inplace = True)"
   ]
  },
  {
   "cell_type": "code",
   "execution_count": 8,
   "metadata": {},
   "outputs": [],
   "source": [
    "# 2. Las aeronaves no pueden estar cambiano de nivel de vuelo\n",
    "aviones_cambiandoFL = vuelos_prueba.data[vuelos_prueba.data[\"vertical_rate\"]!= 0.0].index\n",
    "vuelos_prueba.data.drop(aviones_cambiandoFL,inplace = True)"
   ]
  },
  {
   "cell_type": "code",
   "execution_count": 9,
   "metadata": {},
   "outputs": [],
   "source": [
    "# 3. Las aeronaves deben estar sobre el FL 345\n",
    "aviones_debajosector = vuelos_prueba.data[vuelos_prueba.data[\"altitude\"] <= 34500].index\n",
    "vuelos_prueba.data.drop(aviones_debajosector,inplace = True)"
   ]
  },
  {
   "cell_type": "markdown",
   "metadata": {},
   "source": [
    "## 2.1 Comprobación de los datos\n",
    "A continuación, se puede ver los datos contenidos tras filtrarlos, y el número de aeronaves en el sector"
   ]
  },
  {
   "cell_type": "code",
   "execution_count": 10,
   "metadata": {},
   "outputs": [
    {
     "name": "stdout",
     "output_type": "stream",
     "text": [
      "<class 'pandas.core.frame.DataFrame'>\n",
      "Int64Index: 1093095 entries, 0 to 2110882\n",
      "Data columns (total 17 columns):\n",
      " #   Column         Non-Null Count    Dtype  \n",
      "---  ------         --------------    -----  \n",
      " 0   Unnamed: 0     1093095 non-null  int64  \n",
      " 1   alert          1093095 non-null  bool   \n",
      " 2   altitude       1092601 non-null  float64\n",
      " 3   callsign       1086740 non-null  object \n",
      " 4   geoaltitude    1057916 non-null  float64\n",
      " 5   groundspeed    1093095 non-null  float64\n",
      " 6   hour           1093095 non-null  object \n",
      " 7   icao24         1093095 non-null  object \n",
      " 8   last_position  1093095 non-null  object \n",
      " 9   latitude       1093095 non-null  float64\n",
      " 10  longitude      1093095 non-null  float64\n",
      " 11  onground       1093095 non-null  bool   \n",
      " 12  spi            1093095 non-null  bool   \n",
      " 13  squawk         1092425 non-null  float64\n",
      " 14  timestamp      1093095 non-null  object \n",
      " 15  track          1093095 non-null  float64\n",
      " 16  vertical_rate  1093095 non-null  float64\n",
      "dtypes: bool(3), float64(8), int64(1), object(5)\n",
      "memory usage: 128.2+ MB\n"
     ]
    }
   ],
   "source": [
    "vuelos_prueba.data.info()"
   ]
  },
  {
   "cell_type": "code",
   "execution_count": 11,
   "metadata": {},
   "outputs": [
    {
     "data": {
      "text/plain": [
       "1385"
      ]
     },
     "execution_count": 11,
     "metadata": {},
     "output_type": "execute_result"
    }
   ],
   "source": [
    "# Esto muestra el número de aeroanves dentro del sector que cumplen las condciones enunciadas\n",
    "vuelos_prueba.data[\"callsign\"].nunique()"
   ]
  },
  {
   "cell_type": "code",
   "execution_count": 12,
   "metadata": {},
   "outputs": [
    {
     "data": {
      "text/html": [
       "<b>Traffic with 2001 identifiers</b><style  type=\"text/css\" >\n",
       "#T_ebc49044_dcbb_11ea_abb8_acde48001122row0_col0{\n",
       "            width:  10em;\n",
       "             height:  80%;\n",
       "            background:  linear-gradient(90deg,#5fba7d 100.0%, transparent 100.0%);\n",
       "        }#T_ebc49044_dcbb_11ea_abb8_acde48001122row1_col0{\n",
       "            width:  10em;\n",
       "             height:  80%;\n",
       "            background:  linear-gradient(90deg,#5fba7d 83.2%, transparent 83.2%);\n",
       "        }#T_ebc49044_dcbb_11ea_abb8_acde48001122row2_col0{\n",
       "            width:  10em;\n",
       "             height:  80%;\n",
       "            background:  linear-gradient(90deg,#5fba7d 80.8%, transparent 80.8%);\n",
       "        }#T_ebc49044_dcbb_11ea_abb8_acde48001122row3_col0{\n",
       "            width:  10em;\n",
       "             height:  80%;\n",
       "            background:  linear-gradient(90deg,#5fba7d 79.2%, transparent 79.2%);\n",
       "        }#T_ebc49044_dcbb_11ea_abb8_acde48001122row4_col0{\n",
       "            width:  10em;\n",
       "             height:  80%;\n",
       "            background:  linear-gradient(90deg,#5fba7d 63.7%, transparent 63.7%);\n",
       "        }#T_ebc49044_dcbb_11ea_abb8_acde48001122row5_col0{\n",
       "            width:  10em;\n",
       "             height:  80%;\n",
       "            background:  linear-gradient(90deg,#5fba7d 59.1%, transparent 59.1%);\n",
       "        }#T_ebc49044_dcbb_11ea_abb8_acde48001122row6_col0{\n",
       "            width:  10em;\n",
       "             height:  80%;\n",
       "            background:  linear-gradient(90deg,#5fba7d 55.7%, transparent 55.7%);\n",
       "        }#T_ebc49044_dcbb_11ea_abb8_acde48001122row7_col0{\n",
       "            width:  10em;\n",
       "             height:  80%;\n",
       "            background:  linear-gradient(90deg,#5fba7d 55.3%, transparent 55.3%);\n",
       "        }#T_ebc49044_dcbb_11ea_abb8_acde48001122row8_col0{\n",
       "            width:  10em;\n",
       "             height:  80%;\n",
       "            background:  linear-gradient(90deg,#5fba7d 52.3%, transparent 52.3%);\n",
       "        }#T_ebc49044_dcbb_11ea_abb8_acde48001122row9_col0{\n",
       "            width:  10em;\n",
       "             height:  80%;\n",
       "            background:  linear-gradient(90deg,#5fba7d 51.2%, transparent 51.2%);\n",
       "        }</style><table id=\"T_ebc49044_dcbb_11ea_abb8_acde48001122\" ><thead>    <tr>        <th class=\"blank\" ></th>        <th class=\"blank level0\" ></th>        <th class=\"col_heading level0 col0\" >count</th>    </tr>    <tr>        <th class=\"index_name level0\" >icao24</th>        <th class=\"index_name level1\" >callsign</th>        <th class=\"blank\" ></th>    </tr></thead><tbody>\n",
       "                <tr>\n",
       "                        <th id=\"T_ebc49044_dcbb_11ea_abb8_acde48001122level0_row0\" class=\"row_heading level0 row0\" >4ca60f</th>\n",
       "                        <th id=\"T_ebc49044_dcbb_11ea_abb8_acde48001122level1_row0\" class=\"row_heading level1 row0\" >IBK5BV</th>\n",
       "                        <td id=\"T_ebc49044_dcbb_11ea_abb8_acde48001122row0_col0\" class=\"data row0 col0\" >3684</td>\n",
       "            </tr>\n",
       "            <tr>\n",
       "                        <th id=\"T_ebc49044_dcbb_11ea_abb8_acde48001122level0_row1\" class=\"row_heading level0 row1\" >396668</th>\n",
       "                        <th id=\"T_ebc49044_dcbb_11ea_abb8_acde48001122level1_row1\" class=\"row_heading level1 row1\" >FPO1364</th>\n",
       "                        <td id=\"T_ebc49044_dcbb_11ea_abb8_acde48001122row1_col0\" class=\"data row1 col0\" >3066</td>\n",
       "            </tr>\n",
       "            <tr>\n",
       "                        <th id=\"T_ebc49044_dcbb_11ea_abb8_acde48001122level0_row2\" class=\"row_heading level0 row2\" >4cace5</th>\n",
       "                        <th id=\"T_ebc49044_dcbb_11ea_abb8_acde48001122level1_row2\" class=\"row_heading level1 row2\" >IBK6054</th>\n",
       "                        <td id=\"T_ebc49044_dcbb_11ea_abb8_acde48001122row2_col0\" class=\"data row2 col0\" >2975</td>\n",
       "            </tr>\n",
       "            <tr>\n",
       "                        <th id=\"T_ebc49044_dcbb_11ea_abb8_acde48001122level0_row3\" class=\"row_heading level0 row3\" >396668</th>\n",
       "                        <th id=\"T_ebc49044_dcbb_11ea_abb8_acde48001122level1_row3\" class=\"row_heading level1 row3\" >FPO1363</th>\n",
       "                        <td id=\"T_ebc49044_dcbb_11ea_abb8_acde48001122row3_col0\" class=\"data row3 col0\" >2916</td>\n",
       "            </tr>\n",
       "            <tr>\n",
       "                        <th id=\"T_ebc49044_dcbb_11ea_abb8_acde48001122level0_row4\" class=\"row_heading level0 row4\" >4cace5</th>\n",
       "                        <th id=\"T_ebc49044_dcbb_11ea_abb8_acde48001122level1_row4\" class=\"row_heading level1 row4\" >IBK6055</th>\n",
       "                        <td id=\"T_ebc49044_dcbb_11ea_abb8_acde48001122row4_col0\" class=\"data row4 col0\" >2345</td>\n",
       "            </tr>\n",
       "            <tr>\n",
       "                        <th id=\"T_ebc49044_dcbb_11ea_abb8_acde48001122level0_row5\" class=\"row_heading level0 row5\" >49514c</th>\n",
       "                        <th id=\"T_ebc49044_dcbb_11ea_abb8_acde48001122level1_row5\" class=\"row_heading level1 row5\" >TAP434M</th>\n",
       "                        <td id=\"T_ebc49044_dcbb_11ea_abb8_acde48001122row5_col0\" class=\"data row5 col0\" >2178</td>\n",
       "            </tr>\n",
       "            <tr>\n",
       "                        <th id=\"T_ebc49044_dcbb_11ea_abb8_acde48001122level0_row6\" class=\"row_heading level0 row6\" >344495</th>\n",
       "                        <th id=\"T_ebc49044_dcbb_11ea_abb8_acde48001122level1_row6\" class=\"row_heading level1 row6\" >GES381L</th>\n",
       "                        <td id=\"T_ebc49044_dcbb_11ea_abb8_acde48001122row6_col0\" class=\"data row6 col0\" >2052</td>\n",
       "            </tr>\n",
       "            <tr>\n",
       "                        <th id=\"T_ebc49044_dcbb_11ea_abb8_acde48001122level0_row7\" class=\"row_heading level0 row7\" >4cacc6</th>\n",
       "                        <th id=\"T_ebc49044_dcbb_11ea_abb8_acde48001122level1_row7\" class=\"row_heading level1 row7\" >RYR3PE</th>\n",
       "                        <td id=\"T_ebc49044_dcbb_11ea_abb8_acde48001122row7_col0\" class=\"data row7 col0\" >2036</td>\n",
       "            </tr>\n",
       "            <tr>\n",
       "                        <th id=\"T_ebc49044_dcbb_11ea_abb8_acde48001122level0_row8\" class=\"row_heading level0 row8\" >4853d1</th>\n",
       "                        <th id=\"T_ebc49044_dcbb_11ea_abb8_acde48001122level1_row8\" class=\"row_heading level1 row8\" >TRA6845</th>\n",
       "                        <td id=\"T_ebc49044_dcbb_11ea_abb8_acde48001122row8_col0\" class=\"data row8 col0\" >1926</td>\n",
       "            </tr>\n",
       "            <tr>\n",
       "                        <th id=\"T_ebc49044_dcbb_11ea_abb8_acde48001122level0_row9\" class=\"row_heading level0 row9\" >4cabae</th>\n",
       "                        <th id=\"T_ebc49044_dcbb_11ea_abb8_acde48001122level1_row9\" class=\"row_heading level1 row9\" >RYR4Z</th>\n",
       "                        <td id=\"T_ebc49044_dcbb_11ea_abb8_acde48001122row9_col0\" class=\"data row9 col0\" >1886</td>\n",
       "            </tr>\n",
       "    </tbody></table>"
      ],
      "text/plain": [
       "                 count\n",
       "icao24 callsign       \n",
       "4ca60f IBK5BV     3684\n",
       "396668 FPO1364    3066\n",
       "4cace5 IBK6054    2975\n",
       "396668 FPO1363    2916\n",
       "4cace5 IBK6055    2345\n",
       "49514c TAP434M    2178\n",
       "344495 GES381L    2052\n",
       "4cacc6 RYR3PE     2036\n",
       "4853d1 TRA6845    1926\n",
       "4cabae RYR4Z      1886"
      ]
     },
     "execution_count": 12,
     "metadata": {},
     "output_type": "execute_result"
    }
   ],
   "source": [
    "vuelos_prueba"
   ]
  },
  {
   "cell_type": "markdown",
   "metadata": {},
   "source": [
    "## 3. Limpieza de vuelos no validos\n",
    "Hay muchos datos que están incompletos o no son validos. OpenSky incorpora funciones para poder limpiar los datos descargados"
   ]
  },
  {
   "cell_type": "code",
   "execution_count": 13,
   "metadata": {},
   "outputs": [
    {
     "data": {
      "text/html": [
       "<b>Traffic with 1832 identifiers</b><style  type=\"text/css\" >\n",
       "#T_eee2f086_dcbb_11ea_abb8_acde48001122row0_col0{\n",
       "            width:  10em;\n",
       "             height:  80%;\n",
       "            background:  linear-gradient(90deg,#5fba7d 100.0%, transparent 100.0%);\n",
       "        }#T_eee2f086_dcbb_11ea_abb8_acde48001122row1_col0{\n",
       "            width:  10em;\n",
       "             height:  80%;\n",
       "            background:  linear-gradient(90deg,#5fba7d 83.2%, transparent 83.2%);\n",
       "        }#T_eee2f086_dcbb_11ea_abb8_acde48001122row2_col0{\n",
       "            width:  10em;\n",
       "             height:  80%;\n",
       "            background:  linear-gradient(90deg,#5fba7d 80.8%, transparent 80.8%);\n",
       "        }#T_eee2f086_dcbb_11ea_abb8_acde48001122row3_col0{\n",
       "            width:  10em;\n",
       "             height:  80%;\n",
       "            background:  linear-gradient(90deg,#5fba7d 79.2%, transparent 79.2%);\n",
       "        }#T_eee2f086_dcbb_11ea_abb8_acde48001122row4_col0{\n",
       "            width:  10em;\n",
       "             height:  80%;\n",
       "            background:  linear-gradient(90deg,#5fba7d 63.7%, transparent 63.7%);\n",
       "        }#T_eee2f086_dcbb_11ea_abb8_acde48001122row5_col0{\n",
       "            width:  10em;\n",
       "             height:  80%;\n",
       "            background:  linear-gradient(90deg,#5fba7d 59.1%, transparent 59.1%);\n",
       "        }#T_eee2f086_dcbb_11ea_abb8_acde48001122row6_col0{\n",
       "            width:  10em;\n",
       "             height:  80%;\n",
       "            background:  linear-gradient(90deg,#5fba7d 55.7%, transparent 55.7%);\n",
       "        }#T_eee2f086_dcbb_11ea_abb8_acde48001122row7_col0{\n",
       "            width:  10em;\n",
       "             height:  80%;\n",
       "            background:  linear-gradient(90deg,#5fba7d 55.3%, transparent 55.3%);\n",
       "        }#T_eee2f086_dcbb_11ea_abb8_acde48001122row8_col0{\n",
       "            width:  10em;\n",
       "             height:  80%;\n",
       "            background:  linear-gradient(90deg,#5fba7d 52.3%, transparent 52.3%);\n",
       "        }#T_eee2f086_dcbb_11ea_abb8_acde48001122row9_col0{\n",
       "            width:  10em;\n",
       "             height:  80%;\n",
       "            background:  linear-gradient(90deg,#5fba7d 51.2%, transparent 51.2%);\n",
       "        }</style><table id=\"T_eee2f086_dcbb_11ea_abb8_acde48001122\" ><thead>    <tr>        <th class=\"blank\" ></th>        <th class=\"blank level0\" ></th>        <th class=\"col_heading level0 col0\" >count</th>    </tr>    <tr>        <th class=\"index_name level0\" >icao24</th>        <th class=\"index_name level1\" >callsign</th>        <th class=\"blank\" ></th>    </tr></thead><tbody>\n",
       "                <tr>\n",
       "                        <th id=\"T_eee2f086_dcbb_11ea_abb8_acde48001122level0_row0\" class=\"row_heading level0 row0\" >4ca60f</th>\n",
       "                        <th id=\"T_eee2f086_dcbb_11ea_abb8_acde48001122level1_row0\" class=\"row_heading level1 row0\" >IBK5BV</th>\n",
       "                        <td id=\"T_eee2f086_dcbb_11ea_abb8_acde48001122row0_col0\" class=\"data row0 col0\" >3684</td>\n",
       "            </tr>\n",
       "            <tr>\n",
       "                        <th id=\"T_eee2f086_dcbb_11ea_abb8_acde48001122level0_row1\" class=\"row_heading level0 row1\" >396668</th>\n",
       "                        <th id=\"T_eee2f086_dcbb_11ea_abb8_acde48001122level1_row1\" class=\"row_heading level1 row1\" >FPO1364</th>\n",
       "                        <td id=\"T_eee2f086_dcbb_11ea_abb8_acde48001122row1_col0\" class=\"data row1 col0\" >3066</td>\n",
       "            </tr>\n",
       "            <tr>\n",
       "                        <th id=\"T_eee2f086_dcbb_11ea_abb8_acde48001122level0_row2\" class=\"row_heading level0 row2\" >4cace5</th>\n",
       "                        <th id=\"T_eee2f086_dcbb_11ea_abb8_acde48001122level1_row2\" class=\"row_heading level1 row2\" >IBK6054</th>\n",
       "                        <td id=\"T_eee2f086_dcbb_11ea_abb8_acde48001122row2_col0\" class=\"data row2 col0\" >2975</td>\n",
       "            </tr>\n",
       "            <tr>\n",
       "                        <th id=\"T_eee2f086_dcbb_11ea_abb8_acde48001122level0_row3\" class=\"row_heading level0 row3\" >396668</th>\n",
       "                        <th id=\"T_eee2f086_dcbb_11ea_abb8_acde48001122level1_row3\" class=\"row_heading level1 row3\" >FPO1363</th>\n",
       "                        <td id=\"T_eee2f086_dcbb_11ea_abb8_acde48001122row3_col0\" class=\"data row3 col0\" >2916</td>\n",
       "            </tr>\n",
       "            <tr>\n",
       "                        <th id=\"T_eee2f086_dcbb_11ea_abb8_acde48001122level0_row4\" class=\"row_heading level0 row4\" >4cace5</th>\n",
       "                        <th id=\"T_eee2f086_dcbb_11ea_abb8_acde48001122level1_row4\" class=\"row_heading level1 row4\" >IBK6055</th>\n",
       "                        <td id=\"T_eee2f086_dcbb_11ea_abb8_acde48001122row4_col0\" class=\"data row4 col0\" >2345</td>\n",
       "            </tr>\n",
       "            <tr>\n",
       "                        <th id=\"T_eee2f086_dcbb_11ea_abb8_acde48001122level0_row5\" class=\"row_heading level0 row5\" >49514c</th>\n",
       "                        <th id=\"T_eee2f086_dcbb_11ea_abb8_acde48001122level1_row5\" class=\"row_heading level1 row5\" >TAP434M</th>\n",
       "                        <td id=\"T_eee2f086_dcbb_11ea_abb8_acde48001122row5_col0\" class=\"data row5 col0\" >2178</td>\n",
       "            </tr>\n",
       "            <tr>\n",
       "                        <th id=\"T_eee2f086_dcbb_11ea_abb8_acde48001122level0_row6\" class=\"row_heading level0 row6\" >344495</th>\n",
       "                        <th id=\"T_eee2f086_dcbb_11ea_abb8_acde48001122level1_row6\" class=\"row_heading level1 row6\" >GES381L</th>\n",
       "                        <td id=\"T_eee2f086_dcbb_11ea_abb8_acde48001122row6_col0\" class=\"data row6 col0\" >2052</td>\n",
       "            </tr>\n",
       "            <tr>\n",
       "                        <th id=\"T_eee2f086_dcbb_11ea_abb8_acde48001122level0_row7\" class=\"row_heading level0 row7\" >4cacc6</th>\n",
       "                        <th id=\"T_eee2f086_dcbb_11ea_abb8_acde48001122level1_row7\" class=\"row_heading level1 row7\" >RYR3PE</th>\n",
       "                        <td id=\"T_eee2f086_dcbb_11ea_abb8_acde48001122row7_col0\" class=\"data row7 col0\" >2036</td>\n",
       "            </tr>\n",
       "            <tr>\n",
       "                        <th id=\"T_eee2f086_dcbb_11ea_abb8_acde48001122level0_row8\" class=\"row_heading level0 row8\" >4853d1</th>\n",
       "                        <th id=\"T_eee2f086_dcbb_11ea_abb8_acde48001122level1_row8\" class=\"row_heading level1 row8\" >TRA6845</th>\n",
       "                        <td id=\"T_eee2f086_dcbb_11ea_abb8_acde48001122row8_col0\" class=\"data row8 col0\" >1926</td>\n",
       "            </tr>\n",
       "            <tr>\n",
       "                        <th id=\"T_eee2f086_dcbb_11ea_abb8_acde48001122level0_row9\" class=\"row_heading level0 row9\" >4cabae</th>\n",
       "                        <th id=\"T_eee2f086_dcbb_11ea_abb8_acde48001122level1_row9\" class=\"row_heading level1 row9\" >RYR4Z</th>\n",
       "                        <td id=\"T_eee2f086_dcbb_11ea_abb8_acde48001122row9_col0\" class=\"data row9 col0\" >1886</td>\n",
       "            </tr>\n",
       "    </tbody></table>"
      ],
      "text/plain": [
       "                 count\n",
       "icao24 callsign       \n",
       "4ca60f IBK5BV     3684\n",
       "396668 FPO1364    3066\n",
       "4cace5 IBK6054    2975\n",
       "396668 FPO1363    2916\n",
       "4cace5 IBK6055    2345\n",
       "49514c TAP434M    2178\n",
       "344495 GES381L    2052\n",
       "4cacc6 RYR3PE     2036\n",
       "4853d1 TRA6845    1926\n",
       "4cabae RYR4Z      1886"
      ]
     },
     "execution_count": 13,
     "metadata": {},
     "output_type": "execute_result"
    }
   ],
   "source": [
    "vuelos_prueba = vuelos_prueba.clean_invalid()\n",
    "vuelos_prueba = vuelos_prueba.drop_duplicates()\n",
    "vuelos_prueba"
   ]
  },
  {
   "cell_type": "code",
   "execution_count": 14,
   "metadata": {},
   "outputs": [],
   "source": [
    "vuelos_bien = vuelos_prueba"
   ]
  },
  {
   "cell_type": "code",
   "execution_count": 15,
   "metadata": {},
   "outputs": [],
   "source": [
    "# Vamos a rellenar los huecos que faltan con la introduccion de un valor medio\n",
    "# Variables que tienen huecos:\n",
    "Var_huecos = vuelos_prueba.data.columns[vuelos_prueba.data.isnull().any()]\n",
    "# Identificar las filas que tienen huecos:\n",
    "nan_rows = vuelos_prueba.data[vuelos_prueba.data.isnull().any(1)]\n",
    "\n",
    "# Identificar las aeronaves que tienen problemas con esto:\n",
    "ave_huecos = nan_rows.callsign.value_counts()\n",
    "\n",
    "# Identificamos las aeronaves que tienen más de 10 datos ads-b con fallos, normalmemnte todas tienen menos de 10 y las borramos\n",
    "list_ave = []\n",
    "v_filtrado = vuelos_prueba\n",
    "for count, values in enumerate(ave_huecos):\n",
    "    if values > 10:\n",
    "        list_ave.append(ave_huecos.index[count])\n",
    "        # identificamos las rows de las aeronaves y las eliminamos\n",
    "        rows = vuelos_prueba.data.loc[vuelos_prueba.data.callsign == ave_huecos.index[count]].index\n",
    "        v_filtrado = v_filtrado.drop(rows)\n",
    "\n",
    "# Eliminamos todas las filas que tienen NaN\n",
    "v_filtrado = v_filtrado.data.dropna()\n",
    "v_filtrado = traffic.core.Traffic(v_filtrado)"
   ]
  },
  {
   "cell_type": "code",
   "execution_count": 23,
   "metadata": {},
   "outputs": [],
   "source": [
    "v_filtrado = traffic.core.Traffic(Bilbao_4)"
   ]
  },
  {
   "cell_type": "code",
   "execution_count": 18,
   "metadata": {},
   "outputs": [
    {
     "name": "stdout",
     "output_type": "stream",
     "text": [
      "<class 'pandas.core.frame.DataFrame'>\n",
      "Int64Index: 983196 entries, 125 to 2107891\n",
      "Data columns (total 17 columns):\n",
      " #   Column         Non-Null Count   Dtype  \n",
      "---  ------         --------------   -----  \n",
      " 0   Unnamed: 0     983196 non-null  int64  \n",
      " 1   alert          983196 non-null  bool   \n",
      " 2   altitude       983196 non-null  float64\n",
      " 3   callsign       983196 non-null  object \n",
      " 4   geoaltitude    983196 non-null  float64\n",
      " 5   groundspeed    983196 non-null  float64\n",
      " 6   hour           983196 non-null  object \n",
      " 7   icao24         983196 non-null  object \n",
      " 8   last_position  983196 non-null  object \n",
      " 9   latitude       983196 non-null  float64\n",
      " 10  longitude      983196 non-null  float64\n",
      " 11  onground       983196 non-null  bool   \n",
      " 12  spi            983196 non-null  bool   \n",
      " 13  squawk         983196 non-null  float64\n",
      " 14  timestamp      983196 non-null  object \n",
      " 15  track          983196 non-null  float64\n",
      " 16  vertical_rate  983196 non-null  float64\n",
      "dtypes: bool(3), float64(8), int64(1), object(5)\n",
      "memory usage: 115.3+ MB\n"
     ]
    }
   ],
   "source": [
    "import numpy as np\n",
    "# Vamos a rellenar los huecos que faltan con la introducción del valor medio. \n",
    "# Variables que tienen huecos:\n",
    "Var_huecos = []\n",
    "# Detectar las aeronaves que tienen huecos\n",
    "aves_huecos = []\n",
    "\n",
    "# Construimos el método impute con las características que queremos para rellenar las celdas\n",
    "from sklearn.impute import SimpleImputer\n",
    "my_imputer = SimpleImputer(missing_values=np.nan, strategy='mean')\n",
    "\n",
    "#Aplicamos el método a cada aeronave:\n",
    "for count, name in enumerate(aves_huecos):\n",
    "    ave_impute = pd.DataFrame(my_imputer.fit_transform(vuelos_prueba))\n",
    "\n",
    "\n",
    "# Se comprueba que el resultado es la introducción de estos valores\n",
    "v_filtrado.data.info()"
   ]
  },
  {
   "cell_type": "code",
   "execution_count": 22,
   "metadata": {},
   "outputs": [],
   "source": [
    "def guardarcsv(archivo, nombre_archivo,carpeta_datos_csv ):\n",
    "    import os\n",
    "    # esta funciona genera una carpeta sino existe, y guarda los datos descargados en esta\n",
    "    if not os.path.exists(carpeta_datos_csv):\n",
    "        os.mkdir(carpeta_datos_csv)\n",
    "    # guarda el archivo .csv en la carpeta especificada\n",
    "    carpeta_datos_csv = r\"datos_sectores/\"\n",
    "    archivo.to_csv(carpeta_datos_csv+nombre_archivo+\".csv\")\n",
    "\n",
    "guardarcsv(v_filtrado,\"datos_filtrados\",carpetaDatos)"
   ]
  },
  {
   "cell_type": "code",
   "execution_count": 29,
   "metadata": {},
   "outputs": [
    {
     "data": {
      "text/html": [
       "<b>Traffic with 1705 identifiers</b><style  type=\"text/css\" >\n",
       "#T_c56baf1e_dcdd_11ea_abb8_acde48001122row0_col0{\n",
       "            width:  10em;\n",
       "             height:  80%;\n",
       "            background:  linear-gradient(90deg,#5fba7d 100.0%, transparent 100.0%);\n",
       "        }#T_c56baf1e_dcdd_11ea_abb8_acde48001122row1_col0{\n",
       "            width:  10em;\n",
       "             height:  80%;\n",
       "            background:  linear-gradient(90deg,#5fba7d 80.7%, transparent 80.7%);\n",
       "        }#T_c56baf1e_dcdd_11ea_abb8_acde48001122row2_col0{\n",
       "            width:  10em;\n",
       "             height:  80%;\n",
       "            background:  linear-gradient(90deg,#5fba7d 63.6%, transparent 63.6%);\n",
       "        }#T_c56baf1e_dcdd_11ea_abb8_acde48001122row3_col0{\n",
       "            width:  10em;\n",
       "             height:  80%;\n",
       "            background:  linear-gradient(90deg,#5fba7d 59.1%, transparent 59.1%);\n",
       "        }#T_c56baf1e_dcdd_11ea_abb8_acde48001122row4_col0{\n",
       "            width:  10em;\n",
       "             height:  80%;\n",
       "            background:  linear-gradient(90deg,#5fba7d 55.7%, transparent 55.7%);\n",
       "        }#T_c56baf1e_dcdd_11ea_abb8_acde48001122row5_col0{\n",
       "            width:  10em;\n",
       "             height:  80%;\n",
       "            background:  linear-gradient(90deg,#5fba7d 55.3%, transparent 55.3%);\n",
       "        }#T_c56baf1e_dcdd_11ea_abb8_acde48001122row6_col0{\n",
       "            width:  10em;\n",
       "             height:  80%;\n",
       "            background:  linear-gradient(90deg,#5fba7d 52.3%, transparent 52.3%);\n",
       "        }#T_c56baf1e_dcdd_11ea_abb8_acde48001122row7_col0{\n",
       "            width:  10em;\n",
       "             height:  80%;\n",
       "            background:  linear-gradient(90deg,#5fba7d 51.2%, transparent 51.2%);\n",
       "        }#T_c56baf1e_dcdd_11ea_abb8_acde48001122row8_col0{\n",
       "            width:  10em;\n",
       "             height:  80%;\n",
       "            background:  linear-gradient(90deg,#5fba7d 49.3%, transparent 49.3%);\n",
       "        }#T_c56baf1e_dcdd_11ea_abb8_acde48001122row9_col0{\n",
       "            width:  10em;\n",
       "             height:  80%;\n",
       "            background:  linear-gradient(90deg,#5fba7d 49.0%, transparent 49.0%);\n",
       "        }</style><table id=\"T_c56baf1e_dcdd_11ea_abb8_acde48001122\" ><thead>    <tr>        <th class=\"blank\" ></th>        <th class=\"blank level0\" ></th>        <th class=\"col_heading level0 col0\" >count</th>    </tr>    <tr>        <th class=\"index_name level0\" >icao24</th>        <th class=\"index_name level1\" >callsign</th>        <th class=\"blank\" ></th>    </tr></thead><tbody>\n",
       "                <tr>\n",
       "                        <th id=\"T_c56baf1e_dcdd_11ea_abb8_acde48001122level0_row0\" class=\"row_heading level0 row0\" >4ca60f</th>\n",
       "                        <th id=\"T_c56baf1e_dcdd_11ea_abb8_acde48001122level1_row0\" class=\"row_heading level1 row0\" >IBK5BV</th>\n",
       "                        <td id=\"T_c56baf1e_dcdd_11ea_abb8_acde48001122row0_col0\" class=\"data row0 col0\" >3683</td>\n",
       "            </tr>\n",
       "            <tr>\n",
       "                        <th id=\"T_c56baf1e_dcdd_11ea_abb8_acde48001122level0_row1\" class=\"row_heading level0 row1\" rowspan=2>4cace5</th>\n",
       "                        <th id=\"T_c56baf1e_dcdd_11ea_abb8_acde48001122level1_row1\" class=\"row_heading level1 row1\" >IBK6054</th>\n",
       "                        <td id=\"T_c56baf1e_dcdd_11ea_abb8_acde48001122row1_col0\" class=\"data row1 col0\" >2974</td>\n",
       "            </tr>\n",
       "            <tr>\n",
       "                                <th id=\"T_c56baf1e_dcdd_11ea_abb8_acde48001122level1_row2\" class=\"row_heading level1 row2\" >IBK6055</th>\n",
       "                        <td id=\"T_c56baf1e_dcdd_11ea_abb8_acde48001122row2_col0\" class=\"data row2 col0\" >2343</td>\n",
       "            </tr>\n",
       "            <tr>\n",
       "                        <th id=\"T_c56baf1e_dcdd_11ea_abb8_acde48001122level0_row3\" class=\"row_heading level0 row3\" >49514c</th>\n",
       "                        <th id=\"T_c56baf1e_dcdd_11ea_abb8_acde48001122level1_row3\" class=\"row_heading level1 row3\" >TAP434M</th>\n",
       "                        <td id=\"T_c56baf1e_dcdd_11ea_abb8_acde48001122row3_col0\" class=\"data row3 col0\" >2175</td>\n",
       "            </tr>\n",
       "            <tr>\n",
       "                        <th id=\"T_c56baf1e_dcdd_11ea_abb8_acde48001122level0_row4\" class=\"row_heading level0 row4\" >344495</th>\n",
       "                        <th id=\"T_c56baf1e_dcdd_11ea_abb8_acde48001122level1_row4\" class=\"row_heading level1 row4\" >GES381L</th>\n",
       "                        <td id=\"T_c56baf1e_dcdd_11ea_abb8_acde48001122row4_col0\" class=\"data row4 col0\" >2052</td>\n",
       "            </tr>\n",
       "            <tr>\n",
       "                        <th id=\"T_c56baf1e_dcdd_11ea_abb8_acde48001122level0_row5\" class=\"row_heading level0 row5\" >4cacc6</th>\n",
       "                        <th id=\"T_c56baf1e_dcdd_11ea_abb8_acde48001122level1_row5\" class=\"row_heading level1 row5\" >RYR3PE</th>\n",
       "                        <td id=\"T_c56baf1e_dcdd_11ea_abb8_acde48001122row5_col0\" class=\"data row5 col0\" >2036</td>\n",
       "            </tr>\n",
       "            <tr>\n",
       "                        <th id=\"T_c56baf1e_dcdd_11ea_abb8_acde48001122level0_row6\" class=\"row_heading level0 row6\" >4853d1</th>\n",
       "                        <th id=\"T_c56baf1e_dcdd_11ea_abb8_acde48001122level1_row6\" class=\"row_heading level1 row6\" >TRA6845</th>\n",
       "                        <td id=\"T_c56baf1e_dcdd_11ea_abb8_acde48001122row6_col0\" class=\"data row6 col0\" >1926</td>\n",
       "            </tr>\n",
       "            <tr>\n",
       "                        <th id=\"T_c56baf1e_dcdd_11ea_abb8_acde48001122level0_row7\" class=\"row_heading level0 row7\" >4cabae</th>\n",
       "                        <th id=\"T_c56baf1e_dcdd_11ea_abb8_acde48001122level1_row7\" class=\"row_heading level1 row7\" >RYR4Z</th>\n",
       "                        <td id=\"T_c56baf1e_dcdd_11ea_abb8_acde48001122row7_col0\" class=\"data row7 col0\" >1886</td>\n",
       "            </tr>\n",
       "            <tr>\n",
       "                        <th id=\"T_c56baf1e_dcdd_11ea_abb8_acde48001122level0_row8\" class=\"row_heading level0 row8\" >3c56f7</th>\n",
       "                        <th id=\"T_c56baf1e_dcdd_11ea_abb8_acde48001122level1_row8\" class=\"row_heading level1 row8\" >EWG4TP</th>\n",
       "                        <td id=\"T_c56baf1e_dcdd_11ea_abb8_acde48001122row8_col0\" class=\"data row8 col0\" >1814</td>\n",
       "            </tr>\n",
       "            <tr>\n",
       "                        <th id=\"T_c56baf1e_dcdd_11ea_abb8_acde48001122level0_row9\" class=\"row_heading level0 row9\" >4ca8da</th>\n",
       "                        <th id=\"T_c56baf1e_dcdd_11ea_abb8_acde48001122level1_row9\" class=\"row_heading level1 row9\" >RYR6BM</th>\n",
       "                        <td id=\"T_c56baf1e_dcdd_11ea_abb8_acde48001122row9_col0\" class=\"data row9 col0\" >1805</td>\n",
       "            </tr>\n",
       "    </tbody></table>"
      ],
      "text/plain": [
       "                 count\n",
       "icao24 callsign       \n",
       "4ca60f IBK5BV     3683\n",
       "4cace5 IBK6054    2974\n",
       "       IBK6055    2343\n",
       "49514c TAP434M    2175\n",
       "344495 GES381L    2052\n",
       "4cacc6 RYR3PE     2036\n",
       "4853d1 TRA6845    1926\n",
       "4cabae RYR4Z      1886\n",
       "3c56f7 EWG4TP     1814\n",
       "4ca8da RYR6BM     1805"
      ]
     },
     "execution_count": 29,
     "metadata": {},
     "output_type": "execute_result"
    }
   ],
   "source": [
    "v_filtrado"
   ]
  },
  {
   "cell_type": "code",
   "execution_count": 34,
   "metadata": {},
   "outputs": [],
   "source": [
    "Var_time = [\"hour\", \"last_position\", \"timestamp\"]\n",
    "v_filtrado1[Var_time] = v_filtrado.data[Var_time] = v_filtrado.data[Var_time].astype(\"datetime64[ns, UTC]\")"
   ]
  },
  {
   "cell_type": "code",
   "execution_count": 39,
   "metadata": {},
   "outputs": [],
   "source": [
    "v_porsiacaso = v_filtrado.data.copy()"
   ]
  },
  {
   "cell_type": "code",
   "execution_count": 80,
   "metadata": {},
   "outputs": [
    {
     "data": {
      "image/png": "[encoded data removed]",
      "text/plain": [
       "<Figure size 720x504 with 1 Axes>"
      ]
     },
     "metadata": {},
     "output_type": "display_data"
    }
   ],
   "source": [
    "import matplotlib.pyplot as plt\n",
    "from traffic.core.projection import EuroPP\n",
    "from traffic.data import nm_airspaces\n",
    "from traffic.drawing import countries\n",
    "with plt.style.context(\"traffic\"):\n",
    "    fig, ax = plt.subplots(\n",
    "        subplot_kw=dict(projection=EuroPP()))\n",
    "    nm_airspaces['LECMBLU'].plot(ax,alpha = 1)\n",
    "    ax.add_feature(countries())\n",
    "    ax.set_extent((-6, 1, 40, 50))\n",
    "    \n",
    "    \n",
    "    v_filtrado.plot(ax,alpha = 0.2)\n",
    "    \n",
    "    \n"
   ]
  },
  {
   "cell_type": "code",
   "execution_count": 82,
   "metadata": {},
   "outputs": [
    {
     "data": {
      "image/png": "[encoded data removed]",
      "text/plain": [
       "<Figure size 720x504 with 1 Axes>"
      ]
     },
     "metadata": {},
     "output_type": "display_data"
    }
   ],
   "source": [
    "def representartrayectoria(traffic_data,sector ='LECMBLU'):\n",
    "    # esta funcion representa las trayectorias dentro de la BBDD sobre el sector que se estudiar\n",
    "    import matplotlib.pyplot as plt\n",
    "    from traffic.core.projection import EuroPP\n",
    "    from traffic.data import nm_airspaces\n",
    "    from traffic.drawing import countries\n",
    "    with plt.style.context(\"traffic\"):\n",
    "        fig, ax = plt.subplots(\n",
    "            subplot_kw=dict(projection=EuroPP()))\n",
    "        nm_airspaces[sector].plot(ax,alpha = 1)\n",
    "        ax.add_feature(countries())\n",
    "        ax.set_extent((-6, 1, 40, 50))\n",
    "        traffic_data.plot(ax,alpha = 0.2)\n",
    "\n",
    "representartrayectoria(v_filtrado)"
   ]
  },
  {
   "cell_type": "code",
   "execution_count": null,
   "metadata": {},
   "outputs": [],
   "source": [
    "\n",
    "\n",
    "\n",
    "from traffic.core.projection import EuroPP\n",
    "from traffic.drawing import countries\n",
    "with plt.style.context(\"traffic\"):\n",
    "    ax = plt.axes(projection=EuroPP())"
   ]
  }
 ],
 "metadata": {
  "kernelspec": {
   "display_name": "Python 3",
   "language": "python",
   "name": "python3"
  },
  "language_info": {
   "codemirror_mode": {
    "name": "ipython",
    "version": 3
   },
   "file_extension": ".py",
   "mimetype": "text/x-python",
   "name": "python",
   "nbconvert_exporter": "python",
   "pygments_lexer": "ipython3",
   "version": "3.7.8"
  }
 },
 "nbformat": 4,
 "nbformat_minor": 4
}
