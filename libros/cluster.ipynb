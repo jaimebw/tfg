{
 "cells": [
  {
   "cell_type": "code",
   "execution_count": 3,
   "metadata": {},
   "outputs": [],
   "source": [
    "import traffic\n",
    "import pandas as pd \n",
    "import os\n",
    "from traffic.core import Traffic\n",
    "from biblio_herramienta.herramienta import *\n",
    "from biblio_herramienta.tratardatos import *"
   ]
  },
  {
   "cell_type": "code",
   "execution_count": 4,
   "metadata": {},
   "outputs": [
    {
     "data": {
      "text/html": [
       "<b>Traffic with 1705 identifiers</b><style  type=\"text/css\" >\n",
       "#T_3eec3dc4_e191_11ea_b475_acde48001122row0_col0{\n",
       "            width:  10em;\n",
       "             height:  80%;\n",
       "            background:  linear-gradient(90deg,#5fba7d 100.0%, transparent 100.0%);\n",
       "        }#T_3eec3dc4_e191_11ea_b475_acde48001122row1_col0{\n",
       "            width:  10em;\n",
       "             height:  80%;\n",
       "            background:  linear-gradient(90deg,#5fba7d 80.7%, transparent 80.7%);\n",
       "        }#T_3eec3dc4_e191_11ea_b475_acde48001122row2_col0{\n",
       "            width:  10em;\n",
       "             height:  80%;\n",
       "            background:  linear-gradient(90deg,#5fba7d 63.6%, transparent 63.6%);\n",
       "        }#T_3eec3dc4_e191_11ea_b475_acde48001122row3_col0{\n",
       "            width:  10em;\n",
       "             height:  80%;\n",
       "            background:  linear-gradient(90deg,#5fba7d 59.1%, transparent 59.1%);\n",
       "        }#T_3eec3dc4_e191_11ea_b475_acde48001122row4_col0{\n",
       "            width:  10em;\n",
       "             height:  80%;\n",
       "            background:  linear-gradient(90deg,#5fba7d 55.7%, transparent 55.7%);\n",
       "        }#T_3eec3dc4_e191_11ea_b475_acde48001122row5_col0{\n",
       "            width:  10em;\n",
       "             height:  80%;\n",
       "            background:  linear-gradient(90deg,#5fba7d 55.3%, transparent 55.3%);\n",
       "        }#T_3eec3dc4_e191_11ea_b475_acde48001122row6_col0{\n",
       "            width:  10em;\n",
       "             height:  80%;\n",
       "            background:  linear-gradient(90deg,#5fba7d 52.3%, transparent 52.3%);\n",
       "        }#T_3eec3dc4_e191_11ea_b475_acde48001122row7_col0{\n",
       "            width:  10em;\n",
       "             height:  80%;\n",
       "            background:  linear-gradient(90deg,#5fba7d 51.2%, transparent 51.2%);\n",
       "        }#T_3eec3dc4_e191_11ea_b475_acde48001122row8_col0{\n",
       "            width:  10em;\n",
       "             height:  80%;\n",
       "            background:  linear-gradient(90deg,#5fba7d 49.3%, transparent 49.3%);\n",
       "        }#T_3eec3dc4_e191_11ea_b475_acde48001122row9_col0{\n",
       "            width:  10em;\n",
       "             height:  80%;\n",
       "            background:  linear-gradient(90deg,#5fba7d 49.0%, transparent 49.0%);\n",
       "        }</style><table id=\"T_3eec3dc4_e191_11ea_b475_acde48001122\" ><thead>    <tr>        <th class=\"blank\" ></th>        <th class=\"blank level0\" ></th>        <th class=\"col_heading level0 col0\" >count</th>    </tr>    <tr>        <th class=\"index_name level0\" >icao24</th>        <th class=\"index_name level1\" >callsign</th>        <th class=\"blank\" ></th>    </tr></thead><tbody>\n",
       "                <tr>\n",
       "                        <th id=\"T_3eec3dc4_e191_11ea_b475_acde48001122level0_row0\" class=\"row_heading level0 row0\" >4ca60f</th>\n",
       "                        <th id=\"T_3eec3dc4_e191_11ea_b475_acde48001122level1_row0\" class=\"row_heading level1 row0\" >IBK5BV</th>\n",
       "                        <td id=\"T_3eec3dc4_e191_11ea_b475_acde48001122row0_col0\" class=\"data row0 col0\" >3683</td>\n",
       "            </tr>\n",
       "            <tr>\n",
       "                        <th id=\"T_3eec3dc4_e191_11ea_b475_acde48001122level0_row1\" class=\"row_heading level0 row1\" rowspan=2>4cace5</th>\n",
       "                        <th id=\"T_3eec3dc4_e191_11ea_b475_acde48001122level1_row1\" class=\"row_heading level1 row1\" >IBK6054</th>\n",
       "                        <td id=\"T_3eec3dc4_e191_11ea_b475_acde48001122row1_col0\" class=\"data row1 col0\" >2974</td>\n",
       "            </tr>\n",
       "            <tr>\n",
       "                                <th id=\"T_3eec3dc4_e191_11ea_b475_acde48001122level1_row2\" class=\"row_heading level1 row2\" >IBK6055</th>\n",
       "                        <td id=\"T_3eec3dc4_e191_11ea_b475_acde48001122row2_col0\" class=\"data row2 col0\" >2343</td>\n",
       "            </tr>\n",
       "            <tr>\n",
       "                        <th id=\"T_3eec3dc4_e191_11ea_b475_acde48001122level0_row3\" class=\"row_heading level0 row3\" >49514c</th>\n",
       "                        <th id=\"T_3eec3dc4_e191_11ea_b475_acde48001122level1_row3\" class=\"row_heading level1 row3\" >TAP434M</th>\n",
       "                        <td id=\"T_3eec3dc4_e191_11ea_b475_acde48001122row3_col0\" class=\"data row3 col0\" >2175</td>\n",
       "            </tr>\n",
       "            <tr>\n",
       "                        <th id=\"T_3eec3dc4_e191_11ea_b475_acde48001122level0_row4\" class=\"row_heading level0 row4\" >344495</th>\n",
       "                        <th id=\"T_3eec3dc4_e191_11ea_b475_acde48001122level1_row4\" class=\"row_heading level1 row4\" >GES381L</th>\n",
       "                        <td id=\"T_3eec3dc4_e191_11ea_b475_acde48001122row4_col0\" class=\"data row4 col0\" >2052</td>\n",
       "            </tr>\n",
       "            <tr>\n",
       "                        <th id=\"T_3eec3dc4_e191_11ea_b475_acde48001122level0_row5\" class=\"row_heading level0 row5\" >4cacc6</th>\n",
       "                        <th id=\"T_3eec3dc4_e191_11ea_b475_acde48001122level1_row5\" class=\"row_heading level1 row5\" >RYR3PE</th>\n",
       "                        <td id=\"T_3eec3dc4_e191_11ea_b475_acde48001122row5_col0\" class=\"data row5 col0\" >2036</td>\n",
       "            </tr>\n",
       "            <tr>\n",
       "                        <th id=\"T_3eec3dc4_e191_11ea_b475_acde48001122level0_row6\" class=\"row_heading level0 row6\" >4853d1</th>\n",
       "                        <th id=\"T_3eec3dc4_e191_11ea_b475_acde48001122level1_row6\" class=\"row_heading level1 row6\" >TRA6845</th>\n",
       "                        <td id=\"T_3eec3dc4_e191_11ea_b475_acde48001122row6_col0\" class=\"data row6 col0\" >1926</td>\n",
       "            </tr>\n",
       "            <tr>\n",
       "                        <th id=\"T_3eec3dc4_e191_11ea_b475_acde48001122level0_row7\" class=\"row_heading level0 row7\" >4cabae</th>\n",
       "                        <th id=\"T_3eec3dc4_e191_11ea_b475_acde48001122level1_row7\" class=\"row_heading level1 row7\" >RYR4Z</th>\n",
       "                        <td id=\"T_3eec3dc4_e191_11ea_b475_acde48001122row7_col0\" class=\"data row7 col0\" >1886</td>\n",
       "            </tr>\n",
       "            <tr>\n",
       "                        <th id=\"T_3eec3dc4_e191_11ea_b475_acde48001122level0_row8\" class=\"row_heading level0 row8\" >3c56f7</th>\n",
       "                        <th id=\"T_3eec3dc4_e191_11ea_b475_acde48001122level1_row8\" class=\"row_heading level1 row8\" >EWG4TP</th>\n",
       "                        <td id=\"T_3eec3dc4_e191_11ea_b475_acde48001122row8_col0\" class=\"data row8 col0\" >1814</td>\n",
       "            </tr>\n",
       "            <tr>\n",
       "                        <th id=\"T_3eec3dc4_e191_11ea_b475_acde48001122level0_row9\" class=\"row_heading level0 row9\" >4ca8da</th>\n",
       "                        <th id=\"T_3eec3dc4_e191_11ea_b475_acde48001122level1_row9\" class=\"row_heading level1 row9\" >RYR6BM</th>\n",
       "                        <td id=\"T_3eec3dc4_e191_11ea_b475_acde48001122row9_col0\" class=\"data row9 col0\" >1805</td>\n",
       "            </tr>\n",
       "    </tbody></table>"
      ],
      "text/plain": [
       "                 count\n",
       "icao24 callsign       \n",
       "4ca60f IBK5BV     3683\n",
       "4cace5 IBK6054    2974\n",
       "       IBK6055    2343\n",
       "49514c TAP434M    2175\n",
       "344495 GES381L    2052\n",
       "4cacc6 RYR3PE     2036\n",
       "4853d1 TRA6845    1926\n",
       "4cabae RYR4Z      1886\n",
       "3c56f7 EWG4TP     1814\n",
       "4ca8da RYR6BM     1805"
      ]
     },
     "execution_count": 4,
     "metadata": {},
     "output_type": "execute_result"
    }
   ],
   "source": [
    "carpetaDatos = r'datos_sectores/' # carpeta que contiene los datos\n",
    "nombreDatos = \"datos_filtrados.csv\" \n",
    "vuelos = cargardatosfiltrados(carpetaDatos,nombreDatos)\n",
    "vuelos"
   ]
  },
  {
   "cell_type": "markdown",
   "metadata": {},
   "source": [
    "## Cluster\n",
    "Se va a intentar clasificar las trayectorias en función de su rumbo. Para eso se va utilziar el método enseñado en traffic"
   ]
  },
  {
   "cell_type": "code",
   "execution_count": 5,
   "metadata": {},
   "outputs": [
    {
     "data": {
      "text/html": [
       "<div>\n",
       "<style scoped>\n",
       "    .dataframe tbody tr th:only-of-type {\n",
       "        vertical-align: middle;\n",
       "    }\n",
       "\n",
       "    .dataframe tbody tr th {\n",
       "        vertical-align: top;\n",
       "    }\n",
       "\n",
       "    .dataframe thead th {\n",
       "        text-align: right;\n",
       "    }\n",
       "</style>\n",
       "<table border=\"1\" class=\"dataframe\">\n",
       "  <thead>\n",
       "    <tr style=\"text-align: right;\">\n",
       "      <th></th>\n",
       "      <th>altitude</th>\n",
       "      <th>callsign</th>\n",
       "      <th>groundspeed</th>\n",
       "      <th>icao24</th>\n",
       "      <th>latitude</th>\n",
       "      <th>longitude</th>\n",
       "      <th>timestamp</th>\n",
       "      <th>track</th>\n",
       "      <th>flight_id</th>\n",
       "      <th>track_unwrapped</th>\n",
       "    </tr>\n",
       "  </thead>\n",
       "  <tbody>\n",
       "    <tr>\n",
       "      <th>0</th>\n",
       "      <td>40000.0</td>\n",
       "      <td>RAM760R</td>\n",
       "      <td>465.0</td>\n",
       "      <td>020043</td>\n",
       "      <td>42.348953</td>\n",
       "      <td>-2.709566</td>\n",
       "      <td>2019-02-07 08:37:31+00:00</td>\n",
       "      <td>28.659632</td>\n",
       "      <td>RAM760R_011</td>\n",
       "      <td>28.659632</td>\n",
       "    </tr>\n",
       "    <tr>\n",
       "      <th>1</th>\n",
       "      <td>40000.0</td>\n",
       "      <td>RAM760R</td>\n",
       "      <td>465.0</td>\n",
       "      <td>020043</td>\n",
       "      <td>42.352707</td>\n",
       "      <td>-2.706757</td>\n",
       "      <td>2019-02-07 08:37:32+00:00</td>\n",
       "      <td>28.659632</td>\n",
       "      <td>RAM760R_011</td>\n",
       "      <td>28.659632</td>\n",
       "    </tr>\n",
       "    <tr>\n",
       "      <th>2</th>\n",
       "      <td>40000.0</td>\n",
       "      <td>RAM760R</td>\n",
       "      <td>465.0</td>\n",
       "      <td>020043</td>\n",
       "      <td>42.370450</td>\n",
       "      <td>-2.693694</td>\n",
       "      <td>2019-02-07 08:37:42+00:00</td>\n",
       "      <td>28.767649</td>\n",
       "      <td>RAM760R_011</td>\n",
       "      <td>28.767649</td>\n",
       "    </tr>\n",
       "    <tr>\n",
       "      <th>3</th>\n",
       "      <td>40000.0</td>\n",
       "      <td>RAM760R</td>\n",
       "      <td>465.0</td>\n",
       "      <td>020043</td>\n",
       "      <td>42.370450</td>\n",
       "      <td>-2.693694</td>\n",
       "      <td>2019-02-07 08:37:43+00:00</td>\n",
       "      <td>28.767649</td>\n",
       "      <td>RAM760R_011</td>\n",
       "      <td>28.767649</td>\n",
       "    </tr>\n",
       "    <tr>\n",
       "      <th>4</th>\n",
       "      <td>40000.0</td>\n",
       "      <td>RAM760R</td>\n",
       "      <td>465.0</td>\n",
       "      <td>020043</td>\n",
       "      <td>42.370450</td>\n",
       "      <td>-2.693694</td>\n",
       "      <td>2019-02-07 08:37:44+00:00</td>\n",
       "      <td>28.767649</td>\n",
       "      <td>RAM760R_011</td>\n",
       "      <td>28.767649</td>\n",
       "    </tr>\n",
       "  </tbody>\n",
       "</table>\n",
       "</div>"
      ],
      "text/plain": [
       "   altitude callsign  groundspeed  icao24   latitude  longitude  \\\n",
       "0   40000.0  RAM760R        465.0  020043  42.348953  -2.709566   \n",
       "1   40000.0  RAM760R        465.0  020043  42.352707  -2.706757   \n",
       "2   40000.0  RAM760R        465.0  020043  42.370450  -2.693694   \n",
       "3   40000.0  RAM760R        465.0  020043  42.370450  -2.693694   \n",
       "4   40000.0  RAM760R        465.0  020043  42.370450  -2.693694   \n",
       "\n",
       "                  timestamp      track    flight_id  track_unwrapped  \n",
       "0 2019-02-07 08:37:31+00:00  28.659632  RAM760R_011        28.659632  \n",
       "1 2019-02-07 08:37:32+00:00  28.659632  RAM760R_011        28.659632  \n",
       "2 2019-02-07 08:37:42+00:00  28.767649  RAM760R_011        28.767649  \n",
       "3 2019-02-07 08:37:43+00:00  28.767649  RAM760R_011        28.767649  \n",
       "4 2019-02-07 08:37:44+00:00  28.767649  RAM760R_011        28.767649  "
      ]
     },
     "execution_count": 5,
     "metadata": {},
     "output_type": "execute_result"
    }
   ],
   "source": [
    "vuelos_un = vuelos.assign_id().unwrap().eval(max_workers=4)\n",
    "vuelos_un.data.head()"
   ]
  },
  {
   "cell_type": "markdown",
   "metadata": {},
   "source": [
    "## Aplicación del cluster sobre los datos\n",
    "La siguiente celda tiene el método de cluster aplicado sobre las trayectorias, una vez computado se genera una columna dentro de los datos que señala el cluster al que pertenece cada trayectoria.\n",
    "El algoritmo usado el es el DBSCAN"
   ]
  },
  {
   "cell_type": "markdown",
   "metadata": {},
   "source": [
    "## 1. DBSCAN"
   ]
  },
  {
   "cell_type": "code",
   "execution_count": null,
   "metadata": {},
   "outputs": [],
   "source": [
    "from sklearn.cluster import DBSCAN\n",
    "from sklearn.preprocessing import StandardScaler\n",
    "from traffic.core.projection import CH1903\n",
    "\n",
    "# la funcion permite aplicar algoritmos de ML a los datos que tenemos\n",
    "vuelos_dbscan = vuelos_un.clustering(\n",
    "    nb_samples=15, # divide en 15 puntos las trayecorias\n",
    "    features=[\"longitude\", \"latitude\", \"track_unwrapped\"], # datos cebados al algorimto de ML\n",
    "    clustering=DBSCAN(eps=0.5, min_samples=10), # algoritmo de ML utilizado, con los parámetros del mismo\n",
    "    transform=StandardScaler(), # lo que hace esto es escalar los datos dentro de una distribuciñ¡ón Gausiana\n",
    ").fit_predict()\n"
   ]
  },
  {
   "cell_type": "code",
   "execution_count": null,
   "metadata": {},
   "outputs": [],
   "source": [
    "representarcluster(vuelos_dbscan,\"cluster_dbscan.png\")"
   ]
  },
  {
   "cell_type": "markdown",
   "metadata": {},
   "source": [
    "## 2. Optics"
   ]
  },
  {
   "cell_type": "code",
   "execution_count": null,
   "metadata": {},
   "outputs": [],
   "source": [
    "from sklearn.cluster import OPTICS\n",
    "vuelos_optics = vuelos_un.clustering(\n",
    "    nb_samples = 15,\n",
    "    features=[\"longitude\", \"latitude\", \"track_unwrapped\"],\n",
    "    transform = StandardScaler(),\n",
    "    clustering = OPTICS(min_samples=20, eps = 0.5)\n",
    ").fit_predict()"
   ]
  },
  {
   "cell_type": "code",
   "execution_count": null,
   "metadata": {},
   "outputs": [],
   "source": [
    "representarcluster(vuelos_optics,\"cluster_optics.png\")"
   ]
  },
  {
   "cell_type": "markdown",
   "metadata": {},
   "source": [
    "Hay que tener cuidado con los parametros de este algoritmo, sino se pone bien puede generar mas de 60 clusters "
   ]
  },
  {
   "cell_type": "markdown",
   "metadata": {},
   "source": [
    "## 3. K-medias"
   ]
  },
  {
   "cell_type": "code",
   "execution_count": null,
   "metadata": {},
   "outputs": [],
   "source": [
    "from sklearn.cluster import KMeans\n",
    "vuelos_kmeans = vuelos_un.clustering(\n",
    "    nb_samples=15, # divide en 15 puntos las trayecorias\n",
    "    features=[\"longitude\", \"latitude\", \"track_unwrapped\"], # datos cebados al algorimto de ML\n",
    "    clustering=KMeans(\n",
    "                     n_clusters = 14,\n",
    "                     n_init = 10,\n",
    "                     random_state = 7), # algoritmo de ML utilizado, con los parámetros del mismo\n",
    "    transform=StandardScaler(), # lo que hace esto es escalar los datos dentro de una distribuciñ¡ón Gausiana\n",
    ").fit_predict()"
   ]
  },
  {
   "cell_type": "code",
   "execution_count": null,
   "metadata": {},
   "outputs": [],
   "source": [
    "representarcluster(vuelos_kmeans,\"cluster_kmeans.png\",True)"
   ]
  },
  {
   "cell_type": "code",
   "execution_count": null,
   "metadata": {},
   "outputs": [],
   "source": []
  }
 ],
 "metadata": {
  "kernelspec": {
   "display_name": "Python 3",
   "language": "python",
   "name": "python3"
  },
  "language_info": {
   "codemirror_mode": {
    "name": "ipython",
    "version": 3
   },
   "file_extension": ".py",
   "mimetype": "text/x-python",
   "name": "python",
   "nbconvert_exporter": "python",
   "pygments_lexer": "ipython3",
   "version": "3.7.8"
  }
 },
 "nbformat": 4,
 "nbformat_minor": 4
}
