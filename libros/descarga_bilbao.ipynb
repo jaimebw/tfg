{
 "cells": [
  {
   "cell_type": "markdown",
   "metadata": {},
   "source": [
    "# Libro de descarga de la base de datos\n",
    "Este libro ejecuta los comandos de descarga, y transforma el conjunto de datos en un .csv para tratarlos posteriormente."
   ]
  },
  {
   "cell_type": "code",
   "execution_count": 1,
   "metadata": {},
   "outputs": [],
   "source": [
    "from traffic.data import opensky,nm_airspaces # se importan los recursos que se van a usar\n",
    "                                              # de la librería"
   ]
  },
  {
   "cell_type": "code",
   "execution_count": 10,
   "metadata": {},
   "outputs": [],
   "source": [
    "import os # libreria para acceder a archivos de sistema\n",
    "\n",
    "carpeta_datos_csv = r\"datos_sectores/\"  # nombre de la carpeta\n",
    "def guardarcsv(archivo, nombre_archivo,carpeta_datos_csv = carpeta_datos_csv):\n",
    "    # esta funciona genera una carpeta sino existe, y guarda los datos descargados en esta\n",
    "    if not os.path.exists(carpeta_datos_csv):\n",
    "    os.mkdir(carpeta_datos_csv)\n",
    "    # guarda el archivo .csv en la carpeta especificada\n",
    "    carpeta_datos_csv = r\"datos_sectores/\"\n",
    "    archivo.to_csv(carpeta_datos_csv+nombre_archivo+\".csv\")"
   ]
  },
  {
   "cell_type": "code",
   "execution_count": 8,
   "metadata": {},
   "outputs": [
    {
     "data": {
      "application/vnd.jupyter.widget-view+json": {
       "model_id": "146d13dff2b24fd4bc3c9cbab900bda8",
       "version_major": 2,
       "version_minor": 0
      },
      "text/plain": [
       "HBox(children=(FloatProgress(value=0.0, max=72.0), HTML(value='')))"
      ]
     },
     "metadata": {},
     "output_type": "display_data"
    },
    {
     "name": "stdout",
     "output_type": "stream",
     "text": [
      "\n"
     ]
    },
    {
     "ename": "FileNotFoundError",
     "evalue": "[Errno 2] No such file or directory: 'datos_csv/datos_bilbao.csv'",
     "output_type": "error",
     "traceback": [
      "\u001b[0;31m---------------------------------------------------------------------------\u001b[0m",
      "\u001b[0;31mFileNotFoundError\u001b[0m                         Traceback (most recent call last)",
      "\u001b[0;32m<ipython-input-8-a6929661bdcf>\u001b[0m in \u001b[0;36m<module>\u001b[0;34m()\u001b[0m\n\u001b[1;32m      6\u001b[0m     \u001b[0mbounds\u001b[0m\u001b[0;34m=\u001b[0m \u001b[0mnm_airspaces\u001b[0m\u001b[0;34m[\u001b[0m\u001b[0;34m'LECMBLU'\u001b[0m\u001b[0;34m]\u001b[0m\u001b[0;34m\u001b[0m\u001b[0;34m\u001b[0m\u001b[0m\n\u001b[1;32m      7\u001b[0m )\n\u001b[0;32m----> 8\u001b[0;31m \u001b[0mguardarcsv\u001b[0m\u001b[0;34m(\u001b[0m\u001b[0mflight\u001b[0m\u001b[0;34m,\u001b[0m\u001b[0;34m\"datos_bilbao\"\u001b[0m\u001b[0;34m)\u001b[0m\u001b[0;34m\u001b[0m\u001b[0;34m\u001b[0m\u001b[0m\n\u001b[0m\u001b[1;32m      9\u001b[0m \u001b[0;34m\u001b[0m\u001b[0m\n",
      "\u001b[0;32m<ipython-input-4-cc5a1e4f9bb4>\u001b[0m in \u001b[0;36mguardarcsv\u001b[0;34m(archivo, nombre_archivo)\u001b[0m\n\u001b[1;32m      6\u001b[0m     \u001b[0;31m# guarda el archivo .csv en la carpeta especificada\u001b[0m\u001b[0;34m\u001b[0m\u001b[0;34m\u001b[0m\u001b[0;34m\u001b[0m\u001b[0m\n\u001b[1;32m      7\u001b[0m     \u001b[0mcarpeta_datos_csv\u001b[0m \u001b[0;34m=\u001b[0m \u001b[0;34mr\"datos_csv/\"\u001b[0m\u001b[0;34m\u001b[0m\u001b[0;34m\u001b[0m\u001b[0m\n\u001b[0;32m----> 8\u001b[0;31m     \u001b[0marchivo\u001b[0m\u001b[0;34m.\u001b[0m\u001b[0mto_csv\u001b[0m\u001b[0;34m(\u001b[0m\u001b[0mcarpeta_datos_csv\u001b[0m\u001b[0;34m+\u001b[0m\u001b[0mnombre_archivo\u001b[0m\u001b[0;34m+\u001b[0m\u001b[0;34m\".csv\"\u001b[0m\u001b[0;34m)\u001b[0m\u001b[0;34m\u001b[0m\u001b[0;34m\u001b[0m\u001b[0m\n\u001b[0m",
      "\u001b[0;32m/Users/jaimebowen/opt/miniconda3/envs/tfgpaquetes/lib/python3.7/site-packages/traffic/core/mixins.py\u001b[0m in \u001b[0;36mto_csv\u001b[0;34m(self, filename, *args, **kwargs)\u001b[0m\n\u001b[1;32m    105\u001b[0m         \u001b[0;34m<\u001b[0m\u001b[0;34m.\u001b[0m\u001b[0;34m/\u001b[0m\u001b[0mexport\u001b[0m\u001b[0;34m.\u001b[0m\u001b[0mhtml\u001b[0m\u001b[0;34m>\u001b[0m\u001b[0;31m`\u001b[0m\u001b[0m_\u001b[0m \u001b[0msection\u001b[0m\u001b[0;34m\u001b[0m\u001b[0;34m\u001b[0m\u001b[0m\n\u001b[1;32m    106\u001b[0m         \"\"\"\n\u001b[0;32m--> 107\u001b[0;31m         \u001b[0mself\u001b[0m\u001b[0;34m.\u001b[0m\u001b[0mdata\u001b[0m\u001b[0;34m.\u001b[0m\u001b[0mto_csv\u001b[0m\u001b[0;34m(\u001b[0m\u001b[0mfilename\u001b[0m\u001b[0;34m,\u001b[0m \u001b[0;34m*\u001b[0m\u001b[0margs\u001b[0m\u001b[0;34m,\u001b[0m \u001b[0;34m**\u001b[0m\u001b[0mkwargs\u001b[0m\u001b[0;34m)\u001b[0m\u001b[0;34m\u001b[0m\u001b[0;34m\u001b[0m\u001b[0m\n\u001b[0m\u001b[1;32m    108\u001b[0m \u001b[0;34m\u001b[0m\u001b[0m\n\u001b[1;32m    109\u001b[0m     def to_hdf(\n",
      "\u001b[0;32m/Users/jaimebowen/opt/miniconda3/envs/tfgpaquetes/lib/python3.7/site-packages/pandas/core/generic.py\u001b[0m in \u001b[0;36mto_csv\u001b[0;34m(self, path_or_buf, sep, na_rep, float_format, columns, header, index, index_label, mode, encoding, compression, quoting, quotechar, line_terminator, chunksize, date_format, doublequote, escapechar, decimal, errors)\u001b[0m\n\u001b[1;32m   3165\u001b[0m             \u001b[0mdecimal\u001b[0m\u001b[0;34m=\u001b[0m\u001b[0mdecimal\u001b[0m\u001b[0;34m,\u001b[0m\u001b[0;34m\u001b[0m\u001b[0;34m\u001b[0m\u001b[0m\n\u001b[1;32m   3166\u001b[0m         )\n\u001b[0;32m-> 3167\u001b[0;31m         \u001b[0mformatter\u001b[0m\u001b[0;34m.\u001b[0m\u001b[0msave\u001b[0m\u001b[0;34m(\u001b[0m\u001b[0;34m)\u001b[0m\u001b[0;34m\u001b[0m\u001b[0;34m\u001b[0m\u001b[0m\n\u001b[0m\u001b[1;32m   3168\u001b[0m \u001b[0;34m\u001b[0m\u001b[0m\n\u001b[1;32m   3169\u001b[0m         \u001b[0;32mif\u001b[0m \u001b[0mpath_or_buf\u001b[0m \u001b[0;32mis\u001b[0m \u001b[0;32mNone\u001b[0m\u001b[0;34m:\u001b[0m\u001b[0;34m\u001b[0m\u001b[0;34m\u001b[0m\u001b[0m\n",
      "\u001b[0;32m/Users/jaimebowen/opt/miniconda3/envs/tfgpaquetes/lib/python3.7/site-packages/pandas/io/formats/csvs.py\u001b[0m in \u001b[0;36msave\u001b[0;34m(self)\u001b[0m\n\u001b[1;32m    188\u001b[0m                 \u001b[0mencoding\u001b[0m\u001b[0;34m=\u001b[0m\u001b[0mself\u001b[0m\u001b[0;34m.\u001b[0m\u001b[0mencoding\u001b[0m\u001b[0;34m,\u001b[0m\u001b[0;34m\u001b[0m\u001b[0;34m\u001b[0m\u001b[0m\n\u001b[1;32m    189\u001b[0m                 \u001b[0merrors\u001b[0m\u001b[0;34m=\u001b[0m\u001b[0mself\u001b[0m\u001b[0;34m.\u001b[0m\u001b[0merrors\u001b[0m\u001b[0;34m,\u001b[0m\u001b[0;34m\u001b[0m\u001b[0;34m\u001b[0m\u001b[0m\n\u001b[0;32m--> 190\u001b[0;31m                 \u001b[0mcompression\u001b[0m\u001b[0;34m=\u001b[0m\u001b[0mdict\u001b[0m\u001b[0;34m(\u001b[0m\u001b[0mself\u001b[0m\u001b[0;34m.\u001b[0m\u001b[0mcompression_args\u001b[0m\u001b[0;34m,\u001b[0m \u001b[0mmethod\u001b[0m\u001b[0;34m=\u001b[0m\u001b[0mself\u001b[0m\u001b[0;34m.\u001b[0m\u001b[0mcompression\u001b[0m\u001b[0;34m)\u001b[0m\u001b[0;34m,\u001b[0m\u001b[0;34m\u001b[0m\u001b[0;34m\u001b[0m\u001b[0m\n\u001b[0m\u001b[1;32m    191\u001b[0m             )\n\u001b[1;32m    192\u001b[0m             \u001b[0mclose\u001b[0m \u001b[0;34m=\u001b[0m \u001b[0;32mTrue\u001b[0m\u001b[0;34m\u001b[0m\u001b[0;34m\u001b[0m\u001b[0m\n",
      "\u001b[0;32m/Users/jaimebowen/opt/miniconda3/envs/tfgpaquetes/lib/python3.7/site-packages/pandas/io/common.py\u001b[0m in \u001b[0;36mget_handle\u001b[0;34m(path_or_buf, mode, encoding, compression, memory_map, is_text, errors)\u001b[0m\n\u001b[1;32m    491\u001b[0m         \u001b[0;32mif\u001b[0m \u001b[0mencoding\u001b[0m\u001b[0;34m:\u001b[0m\u001b[0;34m\u001b[0m\u001b[0;34m\u001b[0m\u001b[0m\n\u001b[1;32m    492\u001b[0m             \u001b[0;31m# Encoding\u001b[0m\u001b[0;34m\u001b[0m\u001b[0;34m\u001b[0m\u001b[0;34m\u001b[0m\u001b[0m\n\u001b[0;32m--> 493\u001b[0;31m             \u001b[0mf\u001b[0m \u001b[0;34m=\u001b[0m \u001b[0mopen\u001b[0m\u001b[0;34m(\u001b[0m\u001b[0mpath_or_buf\u001b[0m\u001b[0;34m,\u001b[0m \u001b[0mmode\u001b[0m\u001b[0;34m,\u001b[0m \u001b[0mencoding\u001b[0m\u001b[0;34m=\u001b[0m\u001b[0mencoding\u001b[0m\u001b[0;34m,\u001b[0m \u001b[0merrors\u001b[0m\u001b[0;34m=\u001b[0m\u001b[0merrors\u001b[0m\u001b[0;34m,\u001b[0m \u001b[0mnewline\u001b[0m\u001b[0;34m=\u001b[0m\u001b[0;34m\"\"\u001b[0m\u001b[0;34m)\u001b[0m\u001b[0;34m\u001b[0m\u001b[0;34m\u001b[0m\u001b[0m\n\u001b[0m\u001b[1;32m    494\u001b[0m         \u001b[0;32melif\u001b[0m \u001b[0mis_text\u001b[0m\u001b[0;34m:\u001b[0m\u001b[0;34m\u001b[0m\u001b[0;34m\u001b[0m\u001b[0m\n\u001b[1;32m    495\u001b[0m             \u001b[0;31m# No explicit encoding\u001b[0m\u001b[0;34m\u001b[0m\u001b[0;34m\u001b[0m\u001b[0;34m\u001b[0m\u001b[0m\n",
      "\u001b[0;31mFileNotFoundError\u001b[0m: [Errno 2] No such file or directory: 'datos_csv/datos_bilbao.csv'"
     ]
    }
   ],
   "source": [
    "flight = opensky.history(\n",
    "    \"2019-02-05\", # fecha de inicia\n",
    "    \"2019-02-08\", # fecha de parada\n",
    "    # stop is implicit, i.e. stop=\"2017-02-06\"\n",
    "    return_flight=True, # define la clase de estructura en función de lo que se necesita\n",
    "    bounds= nm_airspaces['LECMBLU'] # area de descarga de los datos\n",
    ")    "
   ]
  },
  {
   "cell_type": "code",
   "execution_count": 11,
   "metadata": {},
   "outputs": [],
   "source": [
    "guardarcsv(flight,\"datos_bilbao\")"
   ]
  },
  {
   "cell_type": "code",
   "execution_count": 12,
   "metadata": {},
   "outputs": [
    {
     "data": {
      "text/html": [
       "<div>\n",
       "<style scoped>\n",
       "    .dataframe tbody tr th:only-of-type {\n",
       "        vertical-align: middle;\n",
       "    }\n",
       "\n",
       "    .dataframe tbody tr th {\n",
       "        vertical-align: top;\n",
       "    }\n",
       "\n",
       "    .dataframe thead th {\n",
       "        text-align: right;\n",
       "    }\n",
       "</style>\n",
       "<table border=\"1\" class=\"dataframe\">\n",
       "  <thead>\n",
       "    <tr style=\"text-align: right;\">\n",
       "      <th></th>\n",
       "      <th>alert</th>\n",
       "      <th>altitude</th>\n",
       "      <th>callsign</th>\n",
       "      <th>geoaltitude</th>\n",
       "      <th>groundspeed</th>\n",
       "      <th>hour</th>\n",
       "      <th>icao24</th>\n",
       "      <th>last_position</th>\n",
       "      <th>latitude</th>\n",
       "      <th>longitude</th>\n",
       "      <th>onground</th>\n",
       "      <th>spi</th>\n",
       "      <th>squawk</th>\n",
       "      <th>timestamp</th>\n",
       "      <th>track</th>\n",
       "      <th>vertical_rate</th>\n",
       "    </tr>\n",
       "  </thead>\n",
       "  <tbody>\n",
       "    <tr>\n",
       "      <th>0</th>\n",
       "      <td>False</td>\n",
       "      <td>36000.0</td>\n",
       "      <td>FPO1364</td>\n",
       "      <td>NaN</td>\n",
       "      <td>391.0</td>\n",
       "      <td>2019-02-05 02:00:00+00:00</td>\n",
       "      <td>396668</td>\n",
       "      <td>2019-02-05 02:10:19.800000+00:00</td>\n",
       "      <td>42.334791</td>\n",
       "      <td>-3.236176</td>\n",
       "      <td>False</td>\n",
       "      <td>False</td>\n",
       "      <td>5337</td>\n",
       "      <td>2019-02-05 02:10:20+00:00</td>\n",
       "      <td>11.654737</td>\n",
       "      <td>0.0</td>\n",
       "    </tr>\n",
       "    <tr>\n",
       "      <th>1</th>\n",
       "      <td>False</td>\n",
       "      <td>36000.0</td>\n",
       "      <td>FPO1364</td>\n",
       "      <td>NaN</td>\n",
       "      <td>391.0</td>\n",
       "      <td>2019-02-05 02:00:00+00:00</td>\n",
       "      <td>396668</td>\n",
       "      <td>2019-02-05 02:10:20.831000064+00:00</td>\n",
       "      <td>42.336467</td>\n",
       "      <td>-3.235665</td>\n",
       "      <td>False</td>\n",
       "      <td>False</td>\n",
       "      <td>5337</td>\n",
       "      <td>2019-02-05 02:10:21+00:00</td>\n",
       "      <td>11.654737</td>\n",
       "      <td>0.0</td>\n",
       "    </tr>\n",
       "    <tr>\n",
       "      <th>2</th>\n",
       "      <td>False</td>\n",
       "      <td>36000.0</td>\n",
       "      <td>FPO1364</td>\n",
       "      <td>NaN</td>\n",
       "      <td>391.0</td>\n",
       "      <td>2019-02-05 02:00:00+00:00</td>\n",
       "      <td>396668</td>\n",
       "      <td>2019-02-05 02:10:20.831000064+00:00</td>\n",
       "      <td>42.336467</td>\n",
       "      <td>-3.235665</td>\n",
       "      <td>False</td>\n",
       "      <td>False</td>\n",
       "      <td>5337</td>\n",
       "      <td>2019-02-05 02:10:22+00:00</td>\n",
       "      <td>11.654737</td>\n",
       "      <td>0.0</td>\n",
       "    </tr>\n",
       "    <tr>\n",
       "      <th>3</th>\n",
       "      <td>False</td>\n",
       "      <td>36000.0</td>\n",
       "      <td>FPO1364</td>\n",
       "      <td>NaN</td>\n",
       "      <td>391.0</td>\n",
       "      <td>2019-02-05 02:00:00+00:00</td>\n",
       "      <td>396668</td>\n",
       "      <td>2019-02-05 02:10:22.258999808+00:00</td>\n",
       "      <td>42.338376</td>\n",
       "      <td>-3.235154</td>\n",
       "      <td>False</td>\n",
       "      <td>False</td>\n",
       "      <td>5337</td>\n",
       "      <td>2019-02-05 02:10:23+00:00</td>\n",
       "      <td>11.654737</td>\n",
       "      <td>0.0</td>\n",
       "    </tr>\n",
       "    <tr>\n",
       "      <th>4</th>\n",
       "      <td>False</td>\n",
       "      <td>36000.0</td>\n",
       "      <td>FPO1364</td>\n",
       "      <td>NaN</td>\n",
       "      <td>391.0</td>\n",
       "      <td>2019-02-05 02:00:00+00:00</td>\n",
       "      <td>396668</td>\n",
       "      <td>2019-02-05 02:10:22.258999808+00:00</td>\n",
       "      <td>42.338376</td>\n",
       "      <td>-3.235154</td>\n",
       "      <td>False</td>\n",
       "      <td>False</td>\n",
       "      <td>5337</td>\n",
       "      <td>2019-02-05 02:10:24+00:00</td>\n",
       "      <td>11.654737</td>\n",
       "      <td>0.0</td>\n",
       "    </tr>\n",
       "  </tbody>\n",
       "</table>\n",
       "</div>"
      ],
      "text/plain": [
       "   alert  altitude callsign  geoaltitude  groundspeed  \\\n",
       "0  False   36000.0  FPO1364          NaN        391.0   \n",
       "1  False   36000.0  FPO1364          NaN        391.0   \n",
       "2  False   36000.0  FPO1364          NaN        391.0   \n",
       "3  False   36000.0  FPO1364          NaN        391.0   \n",
       "4  False   36000.0  FPO1364          NaN        391.0   \n",
       "\n",
       "                       hour  icao24                       last_position  \\\n",
       "0 2019-02-05 02:00:00+00:00  396668    2019-02-05 02:10:19.800000+00:00   \n",
       "1 2019-02-05 02:00:00+00:00  396668 2019-02-05 02:10:20.831000064+00:00   \n",
       "2 2019-02-05 02:00:00+00:00  396668 2019-02-05 02:10:20.831000064+00:00   \n",
       "3 2019-02-05 02:00:00+00:00  396668 2019-02-05 02:10:22.258999808+00:00   \n",
       "4 2019-02-05 02:00:00+00:00  396668 2019-02-05 02:10:22.258999808+00:00   \n",
       "\n",
       "    latitude  longitude  onground    spi squawk                 timestamp  \\\n",
       "0  42.334791  -3.236176     False  False   5337 2019-02-05 02:10:20+00:00   \n",
       "1  42.336467  -3.235665     False  False   5337 2019-02-05 02:10:21+00:00   \n",
       "2  42.336467  -3.235665     False  False   5337 2019-02-05 02:10:22+00:00   \n",
       "3  42.338376  -3.235154     False  False   5337 2019-02-05 02:10:23+00:00   \n",
       "4  42.338376  -3.235154     False  False   5337 2019-02-05 02:10:24+00:00   \n",
       "\n",
       "       track  vertical_rate  \n",
       "0  11.654737            0.0  \n",
       "1  11.654737            0.0  \n",
       "2  11.654737            0.0  \n",
       "3  11.654737            0.0  \n",
       "4  11.654737            0.0  "
      ]
     },
     "execution_count": 12,
     "metadata": {},
     "output_type": "execute_result"
    }
   ],
   "source": [
    "flight.data.head()"
   ]
  },
  {
   "cell_type": "code",
   "execution_count": 17,
   "metadata": {},
   "outputs": [
    {
     "data": {
      "text/html": [
       "<div>\n",
       "<style scoped>\n",
       "    .dataframe tbody tr th:only-of-type {\n",
       "        vertical-align: middle;\n",
       "    }\n",
       "\n",
       "    .dataframe tbody tr th {\n",
       "        vertical-align: top;\n",
       "    }\n",
       "\n",
       "    .dataframe thead th {\n",
       "        text-align: right;\n",
       "    }\n",
       "</style>\n",
       "<table border=\"1\" class=\"dataframe\">\n",
       "  <thead>\n",
       "    <tr style=\"text-align: right;\">\n",
       "      <th></th>\n",
       "      <th>altitude</th>\n",
       "      <th>geoaltitude</th>\n",
       "      <th>groundspeed</th>\n",
       "      <th>latitude</th>\n",
       "      <th>longitude</th>\n",
       "      <th>track</th>\n",
       "      <th>vertical_rate</th>\n",
       "    </tr>\n",
       "  </thead>\n",
       "  <tbody>\n",
       "    <tr>\n",
       "      <th>count</th>\n",
       "      <td>2.066834e+06</td>\n",
       "      <td>1.960798e+06</td>\n",
       "      <td>2.096080e+06</td>\n",
       "      <td>2.111087e+06</td>\n",
       "      <td>2.111087e+06</td>\n",
       "      <td>2.096080e+06</td>\n",
       "      <td>2.096922e+06</td>\n",
       "    </tr>\n",
       "    <tr>\n",
       "      <th>mean</th>\n",
       "      <td>3.227843e+04</td>\n",
       "      <td>3.284019e+04</td>\n",
       "      <td>4.029415e+02</td>\n",
       "      <td>4.320900e+01</td>\n",
       "      <td>-3.652308e+00</td>\n",
       "      <td>1.390450e+02</td>\n",
       "      <td>2.075362e+01</td>\n",
       "    </tr>\n",
       "    <tr>\n",
       "      <th>std</th>\n",
       "      <td>1.039880e+04</td>\n",
       "      <td>9.970326e+03</td>\n",
       "      <td>8.792732e+01</td>\n",
       "      <td>5.719556e-01</td>\n",
       "      <td>9.562478e-01</td>\n",
       "      <td>1.137691e+02</td>\n",
       "      <td>7.952514e+02</td>\n",
       "    </tr>\n",
       "    <tr>\n",
       "      <th>min</th>\n",
       "      <td>-1.000000e+03</td>\n",
       "      <td>-5.250000e+02</td>\n",
       "      <td>4.800000e+01</td>\n",
       "      <td>4.233334e+01</td>\n",
       "      <td>-5.677497e+00</td>\n",
       "      <td>0.000000e+00</td>\n",
       "      <td>-6.208000e+03</td>\n",
       "    </tr>\n",
       "    <tr>\n",
       "      <th>25%</th>\n",
       "      <td>3.330000e+04</td>\n",
       "      <td>3.410000e+04</td>\n",
       "      <td>3.990000e+02</td>\n",
       "      <td>4.270290e+01</td>\n",
       "      <td>-4.416632e+00</td>\n",
       "      <td>2.438013e+01</td>\n",
       "      <td>0.000000e+00</td>\n",
       "    </tr>\n",
       "    <tr>\n",
       "      <th>50%</th>\n",
       "      <td>3.600000e+04</td>\n",
       "      <td>3.657500e+04</td>\n",
       "      <td>4.250000e+02</td>\n",
       "      <td>4.318776e+01</td>\n",
       "      <td>-3.748692e+00</td>\n",
       "      <td>1.374091e+02</td>\n",
       "      <td>0.000000e+00</td>\n",
       "    </tr>\n",
       "    <tr>\n",
       "      <th>75%</th>\n",
       "      <td>3.800000e+04</td>\n",
       "      <td>3.815000e+04</td>\n",
       "      <td>4.540000e+02</td>\n",
       "      <td>4.365159e+01</td>\n",
       "      <td>-2.802600e+00</td>\n",
       "      <td>2.141556e+02</td>\n",
       "      <td>0.000000e+00</td>\n",
       "    </tr>\n",
       "    <tr>\n",
       "      <th>max</th>\n",
       "      <td>1.267000e+05</td>\n",
       "      <td>1.261000e+05</td>\n",
       "      <td>1.025000e+03</td>\n",
       "      <td>4.437583e+01</td>\n",
       "      <td>-2.165840e+00</td>\n",
       "      <td>3.598828e+02</td>\n",
       "      <td>3.264000e+04</td>\n",
       "    </tr>\n",
       "  </tbody>\n",
       "</table>\n",
       "</div>"
      ],
      "text/plain": [
       "           altitude   geoaltitude   groundspeed      latitude     longitude  \\\n",
       "count  2.066834e+06  1.960798e+06  2.096080e+06  2.111087e+06  2.111087e+06   \n",
       "mean   3.227843e+04  3.284019e+04  4.029415e+02  4.320900e+01 -3.652308e+00   \n",
       "std    1.039880e+04  9.970326e+03  8.792732e+01  5.719556e-01  9.562478e-01   \n",
       "min   -1.000000e+03 -5.250000e+02  4.800000e+01  4.233334e+01 -5.677497e+00   \n",
       "25%    3.330000e+04  3.410000e+04  3.990000e+02  4.270290e+01 -4.416632e+00   \n",
       "50%    3.600000e+04  3.657500e+04  4.250000e+02  4.318776e+01 -3.748692e+00   \n",
       "75%    3.800000e+04  3.815000e+04  4.540000e+02  4.365159e+01 -2.802600e+00   \n",
       "max    1.267000e+05  1.261000e+05  1.025000e+03  4.437583e+01 -2.165840e+00   \n",
       "\n",
       "              track  vertical_rate  \n",
       "count  2.096080e+06   2.096922e+06  \n",
       "mean   1.390450e+02   2.075362e+01  \n",
       "std    1.137691e+02   7.952514e+02  \n",
       "min    0.000000e+00  -6.208000e+03  \n",
       "25%    2.438013e+01   0.000000e+00  \n",
       "50%    1.374091e+02   0.000000e+00  \n",
       "75%    2.141556e+02   0.000000e+00  \n",
       "max    3.598828e+02   3.264000e+04  "
      ]
     },
     "execution_count": 17,
     "metadata": {},
     "output_type": "execute_result"
    }
   ],
   "source": [
    "flight.data.describe()"
   ]
  },
  {
   "cell_type": "code",
   "execution_count": 2,
   "metadata": {},
   "outputs": [
    {
     "data": {
      "application/vnd.jupyter.widget-view+json": {
       "model_id": "ab387e849d7a417dbf29e8aabb80a4c3",
       "version_major": 2,
       "version_minor": 0
      },
      "text/plain": [
       "HBox(children=(FloatProgress(value=0.0, max=24.0), HTML(value='')))"
      ]
     },
     "metadata": {},
     "output_type": "display_data"
    },
    {
     "name": "stdout",
     "output_type": "stream",
     "text": [
      "\n"
     ]
    }
   ],
   "source": [
    "flight = opensky.history(\n",
    "    \"2020-07-07\",  # fecha de parada\n",
    "    # stop is implicit, i.e. stop=\"2017-02-06\"\n",
    "    return_flight=True, # define la clase de estructura en función de lo que se necesita\n",
    "    bounds= nm_airspaces['LECMBLU'] # area de descarga de los datos\n",
    ")  "
   ]
  },
  {
   "cell_type": "code",
   "execution_count": 3,
   "metadata": {},
   "outputs": [
    {
     "data": {
      "text/plain": [
       "235"
      ]
     },
     "execution_count": 3,
     "metadata": {},
     "output_type": "execute_result"
    }
   ],
   "source": [
    "flight.data.icao24.nunique()"
   ]
  },
  {
   "cell_type": "markdown",
   "metadata": {},
   "source": [
    "Con la función de la celda anterior se puede comprobar que los datos son correctos dado que se encuentra definidos entre los limites de longitud y latitud del sector que hemos definido. El siguiente paso es el de filtrar y tratar los datos para posteriormente introducirlos en un algoritmo de ML"
   ]
  }
 ],
 "metadata": {
  "kernelspec": {
   "display_name": "Python 3",
   "language": "python",
   "name": "python3"
  },
  "language_info": {
   "codemirror_mode": {
    "name": "ipython",
    "version": 3
   },
   "file_extension": ".py",
   "mimetype": "text/x-python",
   "name": "python",
   "nbconvert_exporter": "python",
   "pygments_lexer": "ipython3",
   "version": "3.7.8"
  }
 },
 "nbformat": 4,
 "nbformat_minor": 4
}
