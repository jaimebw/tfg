{
 "cells": [
  {
   "cell_type": "code",
   "execution_count": null,
   "metadata": {},
   "outputs": [],
   "source": [
    "import traffic\n",
    "import pandas as pd \n",
    "import os\n",
    "from traffic.core import Traffic\n",
    "from biblio_herramienta.herramienta import *\n",
    "from biblio_herramienta.tratardatos import *\n",
    "from biblio_herramienta.ml import *"
   ]
  },
  {
   "cell_type": "code",
   "execution_count": null,
   "metadata": {},
   "outputs": [],
   "source": [
    "archivoBBDD = r\"/Users/jaimebowen/OneDrive/TFGSeptiembre/libros/datos_sectores/datos_buenos/BBDD2_filtrado.csv\""
   ]
  },
  {
   "cell_type": "code",
   "execution_count": null,
   "metadata": {},
   "outputs": [],
   "source": [
    "bbdd = pd.read_csv(archivoBBDD)"
   ]
  },
  {
   "cell_type": "code",
   "execution_count": null,
   "metadata": {},
   "outputs": [],
   "source": [
    "con = bbdd.loc[(bbdd['Conflicto'] == 1)]\n",
    "columnas = ['cluster_1', 'cluster_2']\n",
    "flujos_con_cruce = con[columnas].drop_duplicates()\n",
    "Flujo_1 = flujos_con_cruce.iloc[0]"
   ]
  },
  {
   "cell_type": "code",
   "execution_count": null,
   "metadata": {},
   "outputs": [],
   "source": [
    "BBDD_Flujos = bbdd.loc[bbdd['cluster_1'] == Flujo_1['cluster_1']]\n",
    "BBDD_Flujos = BBDD_Flujos.loc[bbdd['cluster_2'] == Flujo_1['cluster_2']]\n",
    "BBDD_Flujos[BBDD_Flujos.duplicated(keep=False)]\n",
    "BBDD_Flujos.Conflicto.value_counts()"
   ]
  },
  {
   "cell_type": "code",
   "execution_count": null,
   "metadata": {},
   "outputs": [],
   "source": [
    "# ¿Cuantos conflictos hay entre todas las posibilidades?\n",
    "print(len(BBDD_Flujos), len(BBDD_Flujos[BBDD_Flujos['Conflicto'] == 1]))\n",
    "\n",
    "# También podemos ver cuantos conflictos tienen entre estos flujos\n",
    "BBDD_Flujos[BBDD_Flujos['Conflicto'] == 1]"
   ]
  }
 ],
 "metadata": {
  "kernelspec": {
   "display_name": "Python 3",
   "language": "python",
   "name": "python3"
  },
  "language_info": {
   "codemirror_mode": {
    "name": "ipython",
    "version": 3
   },
   "file_extension": ".py",
   "mimetype": "text/x-python",
   "name": "python",
   "nbconvert_exporter": "python",
   "pygments_lexer": "ipython3",
   "version": "3.7.8"
  }
 },
 "nbformat": 4,
 "nbformat_minor": 4
}
