{
 "cells": [
  {
   "cell_type": "code",
   "execution_count": 25,
   "metadata": {},
   "outputs": [],
   "source": [
    "import traffic\n",
    "import pandas as pd \n",
    "import os\n",
    "from traffic.core import Traffic\n",
    "from biblio_herramienta.herramienta import *\n",
    "from biblio_herramienta.tratardatos import *\n",
    "from biblio_herramienta.conflictos import *"
   ]
  },
  {
   "cell_type": "code",
   "execution_count": 26,
   "metadata": {},
   "outputs": [],
   "source": [
    "carpetaDatos = r'datos_sectores/' # carpeta que contiene los datos\n",
    "#nombreDatos = r\"bilbao_f_cluster.csv\"\n",
    "nombreDatos = r\"datos_prueba_filtrado.csv\"\n",
    "carpetaImagenes = r\"generacion_conflictos/\""
   ]
  },
  {
   "cell_type": "code",
   "execution_count": 29,
   "metadata": {},
   "outputs": [
    {
     "name": "stdout",
     "output_type": "stream",
     "text": [
      "<class 'pandas.core.frame.DataFrame'>\n",
      "RangeIndex: 6698 entries, 0 to 6697\n",
      "Data columns (total 18 columns):\n",
      " #   Column         Non-Null Count  Dtype              \n",
      "---  ------         --------------  -----              \n",
      " 0   Unnamed: 0     6698 non-null   int64              \n",
      " 1   Unnamed: 0.1   6698 non-null   int64              \n",
      " 2   alert          6698 non-null   bool               \n",
      " 3   altitude       6698 non-null   float64            \n",
      " 4   callsign       6698 non-null   object             \n",
      " 5   geoaltitude    6698 non-null   float64            \n",
      " 6   groundspeed    6698 non-null   float64            \n",
      " 7   hour           6698 non-null   datetime64[ns, UTC]\n",
      " 8   icao24         6698 non-null   object             \n",
      " 9   last_position  6698 non-null   datetime64[ns, UTC]\n",
      " 10  latitude       6698 non-null   float64            \n",
      " 11  longitude      6698 non-null   float64            \n",
      " 12  onground       6698 non-null   bool               \n",
      " 13  spi            6698 non-null   bool               \n",
      " 14  squawk         6698 non-null   int64              \n",
      " 15  timestamp      6698 non-null   datetime64[ns, UTC]\n",
      " 16  track          6698 non-null   float64            \n",
      " 17  vertical_rate  6698 non-null   float64            \n",
      "dtypes: bool(3), datetime64[ns, UTC](3), float64(7), int64(3), object(2)\n",
      "memory usage: 804.7+ KB\n"
     ]
    }
   ],
   "source": [
    "#vuelos = cargardatos(carpetaDatos,nombreDatos)\n",
    "vueos.data.info()\n",
    "vuelos.daa"
   ]
  },
  {
   "cell_type": "markdown",
   "metadata": {},
   "source": [
    "# 1. Imponer que las aeronaves esten todas en el sector al mismo tiempo\n",
    "Ahora se genera un función que hace las aeronaves pasen por el sector al mismo tiempo, es decir, que empiecen todas a la vez"
   ]
  },
  {
   "cell_type": "code",
   "execution_count": 28,
   "metadata": {},
   "outputs": [
    {
     "name": "stderr",
     "output_type": "stream",
     "text": [
      "/Users/jaimebowen/OneDrive/TFGSeptiembre/libros/biblio_herramienta/conflictos.py:12: DeprecationWarning: The default dtype for empty Series will be 'object' instead of 'float64' in a future version. Specify a dtype explicitly to silence this warning.\n",
      "  timestamp = pd.Series([])\n"
     ]
    },
    {
     "ename": "AttributeError",
     "evalue": "'Traffic' object has no attribute 'flight_id'",
     "output_type": "error",
     "traceback": [
      "\u001b[0;31m---------------------------------------------------------------------------\u001b[0m",
      "\u001b[0;31mAttributeError\u001b[0m                            Traceback (most recent call last)",
      "\u001b[0;32m<ipython-input-28-7ecf58bdfdb8>\u001b[0m in \u001b[0;36m<module>\u001b[0;34m()\u001b[0m\n\u001b[1;32m      1\u001b[0m \u001b[0mvuelosp\u001b[0m \u001b[0;34m=\u001b[0m \u001b[0mvuelos\u001b[0m\u001b[0;34m\u001b[0m\u001b[0;34m\u001b[0m\u001b[0m\n\u001b[0;32m----> 2\u001b[0;31m \u001b[0mvuelosp\u001b[0m \u001b[0;34m=\u001b[0m \u001b[0morigenmismoinstante\u001b[0m\u001b[0;34m(\u001b[0m\u001b[0mvuelosp\u001b[0m\u001b[0;34m)\u001b[0m\u001b[0;34m\u001b[0m\u001b[0;34m\u001b[0m\u001b[0m\n\u001b[0m\u001b[1;32m      3\u001b[0m \u001b[0mvuelosp\u001b[0m\u001b[0;34m.\u001b[0m\u001b[0mdata\u001b[0m\u001b[0;34m\u001b[0m\u001b[0;34m\u001b[0m\u001b[0m\n",
      "\u001b[0;32m/Users/jaimebowen/OneDrive/TFGSeptiembre/libros/biblio_herramienta/conflictos.py\u001b[0m in \u001b[0;36morigenmismoinstante\u001b[0;34m(datos)\u001b[0m\n\u001b[1;32m     11\u001b[0m     \u001b[0mdatos\u001b[0m \u001b[0;34m=\u001b[0m \u001b[0mTraffic\u001b[0m\u001b[0;34m(\u001b[0m\u001b[0mdatos\u001b[0m\u001b[0;34m)\u001b[0m\u001b[0;34m\u001b[0m\u001b[0;34m\u001b[0m\u001b[0m\n\u001b[1;32m     12\u001b[0m     \u001b[0mtimestamp\u001b[0m \u001b[0;34m=\u001b[0m \u001b[0mpd\u001b[0m\u001b[0;34m.\u001b[0m\u001b[0mSeries\u001b[0m\u001b[0;34m(\u001b[0m\u001b[0;34m[\u001b[0m\u001b[0;34m]\u001b[0m\u001b[0;34m)\u001b[0m\u001b[0;34m\u001b[0m\u001b[0;34m\u001b[0m\u001b[0m\n\u001b[0;32m---> 13\u001b[0;31m     \u001b[0mlistado_aves\u001b[0m \u001b[0;34m=\u001b[0m \u001b[0mdatos\u001b[0m\u001b[0;34m.\u001b[0m\u001b[0mdata\u001b[0m\u001b[0;34m.\u001b[0m\u001b[0mflight_id\u001b[0m\u001b[0;34m.\u001b[0m\u001b[0munique\u001b[0m\u001b[0;34m(\u001b[0m\u001b[0;34m)\u001b[0m\u001b[0;34m\u001b[0m\u001b[0;34m\u001b[0m\u001b[0m\n\u001b[0m\u001b[1;32m     14\u001b[0m     \u001b[0;32mfor\u001b[0m \u001b[0mave\u001b[0m \u001b[0;32min\u001b[0m \u001b[0mlistado_aves\u001b[0m\u001b[0;34m:\u001b[0m\u001b[0;34m\u001b[0m\u001b[0;34m\u001b[0m\u001b[0m\n\u001b[1;32m     15\u001b[0m     \u001b[0;31m# Seleccionamos la trayectoria de la aeronave y creamos una copia\u001b[0m\u001b[0;34m\u001b[0m\u001b[0;34m\u001b[0m\u001b[0;34m\u001b[0m\u001b[0m\n",
      "\u001b[0;31mAttributeError\u001b[0m: 'Traffic' object has no attribute 'flight_id'"
     ]
    }
   ],
   "source": [
    "vuelosp = vuelos\n",
    "vuelosp = origenmismoinstante(vuelosp)\n",
    "vuelosp.data"
   ]
  },
  {
   "cell_type": "code",
   "execution_count": null,
   "metadata": {},
   "outputs": [],
   "source": [
    "vuelosp.data.info()"
   ]
  },
  {
   "cell_type": "raw",
   "metadata": {},
   "source": [
    "vuelosp = vuelosp.data.drop(['Unnamed: 0','Unnamed: 0.1','Unnamed: 0.1.1' ],axis = 1)"
   ]
  },
  {
   "cell_type": "code",
   "execution_count": null,
   "metadata": {},
   "outputs": [],
   "source": [
    "vuelosp = Traffic(vuelosp) "
   ]
  },
  {
   "cell_type": "markdown",
   "metadata": {},
   "source": [
    "# 2. Creación de conflictos\n",
    "A continuación, se va modificar la BBDD para que cada fila contenga la información de cada conflicto o potencial conflicto"
   ]
  },
  {
   "cell_type": "code",
   "execution_count": null,
   "metadata": {},
   "outputs": [],
   "source": [
    "pairs = crearparejas(vuelosp)"
   ]
  },
  {
   "cell_type": "code",
   "execution_count": null,
   "metadata": {},
   "outputs": [],
   "source": [
    "pairs"
   ]
  },
  {
   "cell_type": "code",
   "execution_count": null,
   "metadata": {},
   "outputs": [],
   "source": [
    "def generadorDFconflictos(datos,pares):\n",
    "    if not isinstance(datos,Traffic):\n",
    "        datos = Traffic(datos)\n",
    "    Datos_ave1 = datos.data.iloc[0:0]\n",
    "    Datos_ave2 = datos.data.iloc[0:0]\n",
    "    for index, row in pairs.iterrows():\n",
    "        # Seleccionamos cada una de las aeronaves que aparecen en las parejas\n",
    "        tray_ave1 = datos[row['ave1']].data\n",
    "        tray_ave2 = datos[row['ave2']].data\n",
    "        #Obtenemos los datos de entrada de cada aeronave\n",
    "        init_values_ave1 = tray_ave1.iloc[0]\n",
    "        init_values_ave2 = tray_ave2.iloc[0]\n",
    "        # Metemos esta información en un DataFrame para cada aeronave\n",
    "        Datos_ave1 = Datos_ave1.append(init_values_ave1)\n",
    "        Datos_ave2 = Datos_ave2.append(init_values_ave2)\n",
    "    return Datos_ave1, Datos_ave2\n",
    "datos1 , datos2 = generadorDFconflictos(vuelosp,pairs)"
   ]
  },
  {
   "cell_type": "code",
   "execution_count": null,
   "metadata": {},
   "outputs": [],
   "source": []
  },
  {
   "cell_type": "code",
   "execution_count": null,
   "metadata": {},
   "outputs": [],
   "source": []
  },
  {
   "cell_type": "code",
   "execution_count": null,
   "metadata": {},
   "outputs": [],
   "source": [
    " \"\"\"\"\n",
    "    #Obtenemos los datos de entrada de cada aeronave\n",
    "    init_values_ave1 = tray_ave1.iloc[0]\n",
    "    init_values_ave2 = tray_ave2.iloc[0]\n",
    "\n",
    "    # Metemos esta información en un DataFrame para cada aeronave\n",
    "    Datos_ave1 = Datos_ave1.append(init_values_ave1)\n",
    "    Datos_ave2 = Datos_ave2.append(init_values_ave2)"
   ]
  }
 ],
 "metadata": {
  "kernelspec": {
   "display_name": "Python 3",
   "language": "python",
   "name": "python3"
  },
  "language_info": {
   "codemirror_mode": {
    "name": "ipython",
    "version": 3
   },
   "file_extension": ".py",
   "mimetype": "text/x-python",
   "name": "python",
   "nbconvert_exporter": "python",
   "pygments_lexer": "ipython3",
   "version": "3.7.8"
  }
 },
 "nbformat": 4,
 "nbformat_minor": 4
}
