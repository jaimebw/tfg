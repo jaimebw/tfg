{
 "cells": [
  {
   "cell_type": "code",
   "execution_count": 1,
   "metadata": {},
   "outputs": [],
   "source": [
    "import traffic\n",
    "import pandas as pd \n",
    "import os\n",
    "from traffic.core import Traffic\n",
    "from biblio_herramienta.herramienta import *\n",
    "from biblio_herramienta.tratardatos import *"
   ]
  },
  {
   "cell_type": "code",
   "execution_count": 2,
   "metadata": {},
   "outputs": [
    {
     "data": {
      "text/html": [
       "<b>Traffic with 1705 identifiers</b><style  type=\"text/css\" >\n",
       "#T_7908aa0c_e0af_11ea_a3a8_acde48001122row0_col0{\n",
       "            width:  10em;\n",
       "             height:  80%;\n",
       "            background:  linear-gradient(90deg,#5fba7d 100.0%, transparent 100.0%);\n",
       "        }#T_7908aa0c_e0af_11ea_a3a8_acde48001122row1_col0{\n",
       "            width:  10em;\n",
       "             height:  80%;\n",
       "            background:  linear-gradient(90deg,#5fba7d 80.7%, transparent 80.7%);\n",
       "        }#T_7908aa0c_e0af_11ea_a3a8_acde48001122row2_col0{\n",
       "            width:  10em;\n",
       "             height:  80%;\n",
       "            background:  linear-gradient(90deg,#5fba7d 63.6%, transparent 63.6%);\n",
       "        }#T_7908aa0c_e0af_11ea_a3a8_acde48001122row3_col0{\n",
       "            width:  10em;\n",
       "             height:  80%;\n",
       "            background:  linear-gradient(90deg,#5fba7d 59.1%, transparent 59.1%);\n",
       "        }#T_7908aa0c_e0af_11ea_a3a8_acde48001122row4_col0{\n",
       "            width:  10em;\n",
       "             height:  80%;\n",
       "            background:  linear-gradient(90deg,#5fba7d 55.7%, transparent 55.7%);\n",
       "        }#T_7908aa0c_e0af_11ea_a3a8_acde48001122row5_col0{\n",
       "            width:  10em;\n",
       "             height:  80%;\n",
       "            background:  linear-gradient(90deg,#5fba7d 55.3%, transparent 55.3%);\n",
       "        }#T_7908aa0c_e0af_11ea_a3a8_acde48001122row6_col0{\n",
       "            width:  10em;\n",
       "             height:  80%;\n",
       "            background:  linear-gradient(90deg,#5fba7d 52.3%, transparent 52.3%);\n",
       "        }#T_7908aa0c_e0af_11ea_a3a8_acde48001122row7_col0{\n",
       "            width:  10em;\n",
       "             height:  80%;\n",
       "            background:  linear-gradient(90deg,#5fba7d 51.2%, transparent 51.2%);\n",
       "        }#T_7908aa0c_e0af_11ea_a3a8_acde48001122row8_col0{\n",
       "            width:  10em;\n",
       "             height:  80%;\n",
       "            background:  linear-gradient(90deg,#5fba7d 49.3%, transparent 49.3%);\n",
       "        }#T_7908aa0c_e0af_11ea_a3a8_acde48001122row9_col0{\n",
       "            width:  10em;\n",
       "             height:  80%;\n",
       "            background:  linear-gradient(90deg,#5fba7d 49.0%, transparent 49.0%);\n",
       "        }</style><table id=\"T_7908aa0c_e0af_11ea_a3a8_acde48001122\" ><thead>    <tr>        <th class=\"blank\" ></th>        <th class=\"blank level0\" ></th>        <th class=\"col_heading level0 col0\" >count</th>    </tr>    <tr>        <th class=\"index_name level0\" >icao24</th>        <th class=\"index_name level1\" >callsign</th>        <th class=\"blank\" ></th>    </tr></thead><tbody>\n",
       "                <tr>\n",
       "                        <th id=\"T_7908aa0c_e0af_11ea_a3a8_acde48001122level0_row0\" class=\"row_heading level0 row0\" >4ca60f</th>\n",
       "                        <th id=\"T_7908aa0c_e0af_11ea_a3a8_acde48001122level1_row0\" class=\"row_heading level1 row0\" >IBK5BV</th>\n",
       "                        <td id=\"T_7908aa0c_e0af_11ea_a3a8_acde48001122row0_col0\" class=\"data row0 col0\" >3683</td>\n",
       "            </tr>\n",
       "            <tr>\n",
       "                        <th id=\"T_7908aa0c_e0af_11ea_a3a8_acde48001122level0_row1\" class=\"row_heading level0 row1\" rowspan=2>4cace5</th>\n",
       "                        <th id=\"T_7908aa0c_e0af_11ea_a3a8_acde48001122level1_row1\" class=\"row_heading level1 row1\" >IBK6054</th>\n",
       "                        <td id=\"T_7908aa0c_e0af_11ea_a3a8_acde48001122row1_col0\" class=\"data row1 col0\" >2974</td>\n",
       "            </tr>\n",
       "            <tr>\n",
       "                                <th id=\"T_7908aa0c_e0af_11ea_a3a8_acde48001122level1_row2\" class=\"row_heading level1 row2\" >IBK6055</th>\n",
       "                        <td id=\"T_7908aa0c_e0af_11ea_a3a8_acde48001122row2_col0\" class=\"data row2 col0\" >2343</td>\n",
       "            </tr>\n",
       "            <tr>\n",
       "                        <th id=\"T_7908aa0c_e0af_11ea_a3a8_acde48001122level0_row3\" class=\"row_heading level0 row3\" >49514c</th>\n",
       "                        <th id=\"T_7908aa0c_e0af_11ea_a3a8_acde48001122level1_row3\" class=\"row_heading level1 row3\" >TAP434M</th>\n",
       "                        <td id=\"T_7908aa0c_e0af_11ea_a3a8_acde48001122row3_col0\" class=\"data row3 col0\" >2175</td>\n",
       "            </tr>\n",
       "            <tr>\n",
       "                        <th id=\"T_7908aa0c_e0af_11ea_a3a8_acde48001122level0_row4\" class=\"row_heading level0 row4\" >344495</th>\n",
       "                        <th id=\"T_7908aa0c_e0af_11ea_a3a8_acde48001122level1_row4\" class=\"row_heading level1 row4\" >GES381L</th>\n",
       "                        <td id=\"T_7908aa0c_e0af_11ea_a3a8_acde48001122row4_col0\" class=\"data row4 col0\" >2052</td>\n",
       "            </tr>\n",
       "            <tr>\n",
       "                        <th id=\"T_7908aa0c_e0af_11ea_a3a8_acde48001122level0_row5\" class=\"row_heading level0 row5\" >4cacc6</th>\n",
       "                        <th id=\"T_7908aa0c_e0af_11ea_a3a8_acde48001122level1_row5\" class=\"row_heading level1 row5\" >RYR3PE</th>\n",
       "                        <td id=\"T_7908aa0c_e0af_11ea_a3a8_acde48001122row5_col0\" class=\"data row5 col0\" >2036</td>\n",
       "            </tr>\n",
       "            <tr>\n",
       "                        <th id=\"T_7908aa0c_e0af_11ea_a3a8_acde48001122level0_row6\" class=\"row_heading level0 row6\" >4853d1</th>\n",
       "                        <th id=\"T_7908aa0c_e0af_11ea_a3a8_acde48001122level1_row6\" class=\"row_heading level1 row6\" >TRA6845</th>\n",
       "                        <td id=\"T_7908aa0c_e0af_11ea_a3a8_acde48001122row6_col0\" class=\"data row6 col0\" >1926</td>\n",
       "            </tr>\n",
       "            <tr>\n",
       "                        <th id=\"T_7908aa0c_e0af_11ea_a3a8_acde48001122level0_row7\" class=\"row_heading level0 row7\" >4cabae</th>\n",
       "                        <th id=\"T_7908aa0c_e0af_11ea_a3a8_acde48001122level1_row7\" class=\"row_heading level1 row7\" >RYR4Z</th>\n",
       "                        <td id=\"T_7908aa0c_e0af_11ea_a3a8_acde48001122row7_col0\" class=\"data row7 col0\" >1886</td>\n",
       "            </tr>\n",
       "            <tr>\n",
       "                        <th id=\"T_7908aa0c_e0af_11ea_a3a8_acde48001122level0_row8\" class=\"row_heading level0 row8\" >3c56f7</th>\n",
       "                        <th id=\"T_7908aa0c_e0af_11ea_a3a8_acde48001122level1_row8\" class=\"row_heading level1 row8\" >EWG4TP</th>\n",
       "                        <td id=\"T_7908aa0c_e0af_11ea_a3a8_acde48001122row8_col0\" class=\"data row8 col0\" >1814</td>\n",
       "            </tr>\n",
       "            <tr>\n",
       "                        <th id=\"T_7908aa0c_e0af_11ea_a3a8_acde48001122level0_row9\" class=\"row_heading level0 row9\" >4ca8da</th>\n",
       "                        <th id=\"T_7908aa0c_e0af_11ea_a3a8_acde48001122level1_row9\" class=\"row_heading level1 row9\" >RYR6BM</th>\n",
       "                        <td id=\"T_7908aa0c_e0af_11ea_a3a8_acde48001122row9_col0\" class=\"data row9 col0\" >1805</td>\n",
       "            </tr>\n",
       "    </tbody></table>"
      ],
      "text/plain": [
       "                 count\n",
       "icao24 callsign       \n",
       "4ca60f IBK5BV     3683\n",
       "4cace5 IBK6054    2974\n",
       "       IBK6055    2343\n",
       "49514c TAP434M    2175\n",
       "344495 GES381L    2052\n",
       "4cacc6 RYR3PE     2036\n",
       "4853d1 TRA6845    1926\n",
       "4cabae RYR4Z      1886\n",
       "3c56f7 EWG4TP     1814\n",
       "4ca8da RYR6BM     1805"
      ]
     },
     "execution_count": 2,
     "metadata": {},
     "output_type": "execute_result"
    }
   ],
   "source": [
    "carpetaDatos = r'datos_sectores/' # carpeta que contiene los datos\n",
    "nombreDatos = \"datos_filtrados.csv\" \n",
    "vuelos = cargardatosfiltrados(carpetaDatos,nombreDatos)\n",
    "vuelos"
   ]
  },
  {
   "cell_type": "code",
   "execution_count": 3,
   "metadata": {},
   "outputs": [],
   "source": [
    "vuelos_un = vuelos.assign_id().unwrap().eval(max_workers=4)"
   ]
  },
  {
   "cell_type": "code",
   "execution_count": 4,
   "metadata": {},
   "outputs": [],
   "source": [
    "from sklearn.cluster import KMeans\n",
    "from sklearn.preprocessing import StandardScaler\n",
    "\n",
    "\n",
    "vuelos_kmeans = vuelos_un.clustering(\n",
    "    nb_samples=15, # divide en 15 puntos las trayecorias\n",
    "    features=[\"longitude\", \"latitude\", \"track_unwrapped\"], # datos cebados al algorimto de ML\n",
    "    clustering=KMeans(init = \"random\",\n",
    "                     n_clusters = 14,\n",
    "                     n_init = 10,\n",
    "                     random_state = 7), # algoritmo de ML utilizado, con los parámetros del mismo\n",
    "    transform=StandardScaler(), # lo que hace esto es escalar los datos dentro de una distribuciñ¡ón Gausiana\n",
    ").fit_predict()\n"
   ]
  },
  {
   "cell_type": "code",
   "execution_count": 5,
   "metadata": {},
   "outputs": [
    {
     "data": {
      "text/plain": [
       "13"
      ]
     },
     "execution_count": 5,
     "metadata": {},
     "output_type": "execute_result"
    }
   ],
   "source": [
    "vuelos_kmeans.data.cluster.max()"
   ]
  },
  {
   "cell_type": "code",
   "execution_count": 6,
   "metadata": {},
   "outputs": [
    {
     "ename": "AttributeError",
     "evalue": "'NoneType' object has no attribute 'plot'",
     "output_type": "error",
     "traceback": [
      "\u001b[0;31m---------------------------------------------------------------------------\u001b[0m",
      "\u001b[0;31mAttributeError\u001b[0m                            Traceback (most recent call last)",
      "\u001b[0;32m<ipython-input-6-ce6dc5c6aea1>\u001b[0m in \u001b[0;36m<module>\u001b[0;34m()\u001b[0m\n\u001b[0;32m----> 1\u001b[0;31m \u001b[0mrepresentarcluster\u001b[0m\u001b[0;34m(\u001b[0m\u001b[0mvuelos_kmeans\u001b[0m\u001b[0;34m,\u001b[0m\u001b[0;34m\"cluster_kmeans.png\"\u001b[0m\u001b[0;34m)\u001b[0m\u001b[0;34m\u001b[0m\u001b[0;34m\u001b[0m\u001b[0m\n\u001b[0m",
      "\u001b[0;32m/Users/jaimebowen/OneDrive/TFGSeptiembre/libros/biblio_herramienta/herramienta.py\u001b[0m in \u001b[0;36mrepresentarcluster\u001b[0;34m(datos_cluster, nombre_cluster)\u001b[0m\n\u001b[1;32m     76\u001b[0m             \u001b[0mnm_airspaces\u001b[0m\u001b[0;34m[\u001b[0m\u001b[0;34m'LECMBLU'\u001b[0m\u001b[0;34m]\u001b[0m\u001b[0;34m.\u001b[0m\u001b[0mplot\u001b[0m\u001b[0;34m(\u001b[0m\u001b[0max_\u001b[0m\u001b[0;34m,\u001b[0m\u001b[0malpha\u001b[0m \u001b[0;34m=\u001b[0m \u001b[0;36m1\u001b[0m\u001b[0;34m)\u001b[0m\u001b[0;34m\u001b[0m\u001b[0;34m\u001b[0m\u001b[0m\n\u001b[1;32m     77\u001b[0m \u001b[0;34m\u001b[0m\u001b[0m\n\u001b[0;32m---> 78\u001b[0;31m             datos_cluster.query(f\"cluster == {cluster}\").plot(\n\u001b[0m\u001b[1;32m     79\u001b[0m                 \u001b[0max_\u001b[0m\u001b[0;34m,\u001b[0m \u001b[0mcolor\u001b[0m\u001b[0;34m=\u001b[0m\u001b[0mcolors\u001b[0m\u001b[0;34m[\u001b[0m\u001b[0mcluster\u001b[0m\u001b[0;34m]\u001b[0m\u001b[0;34m,\u001b[0m \u001b[0malpha\u001b[0m\u001b[0;34m=\u001b[0m\u001b[0;36m0.1\u001b[0m \u001b[0;32mif\u001b[0m \u001b[0mcluster\u001b[0m \u001b[0;34m==\u001b[0m \u001b[0;34m-\u001b[0m\u001b[0;36m1\u001b[0m \u001b[0;32melse\u001b[0m \u001b[0;36m1\u001b[0m\u001b[0;34m\u001b[0m\u001b[0;34m\u001b[0m\u001b[0m\n\u001b[1;32m     80\u001b[0m             )\n",
      "\u001b[0;31mAttributeError\u001b[0m: 'NoneType' object has no attribute 'plot'"
     ]
    },
    {
     "data": {
      "image/png": "[encoded data removed]",
      "text/plain": [
       "<Figure size 720x1080 with 15 Axes>"
      ]
     },
     "metadata": {},
     "output_type": "display_data"
    }
   ],
   "source": [
    "representarcluster(vuelos_kmeans,\"cluster_kmeans.png\")"
   ]
  },
  {
   "cell_type": "markdown",
   "metadata": {},
   "source": [
    "No consigo representar el k-means, paso a otro algoritmo"
   ]
  },
  {
   "cell_type": "code",
   "execution_count": null,
   "metadata": {},
   "outputs": [],
   "source": []
  }
 ],
 "metadata": {
  "kernelspec": {
   "display_name": "Python 3",
   "language": "python",
   "name": "python3"
  },
  "language_info": {
   "codemirror_mode": {
    "name": "ipython",
    "version": 3
   },
   "file_extension": ".py",
   "mimetype": "text/x-python",
   "name": "python",
   "nbconvert_exporter": "python",
   "pygments_lexer": "ipython3",
   "version": "3.7.8"
  }
 },
 "nbformat": 4,
 "nbformat_minor": 4
}
