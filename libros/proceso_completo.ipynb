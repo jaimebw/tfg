{
 "cells": [
  {
   "cell_type": "code",
   "execution_count": 32,
   "metadata": {},
   "outputs": [],
   "source": [
    "import traffic\n",
    "import pandas as pd \n",
    "import os\n",
    "from traffic.core import Traffic\n",
    "from traffic.data import opensky \n",
    "from biblio_herramienta.herramienta import *\n",
    "from biblio_herramienta.tratardatos import *\n",
    "from biblio_herramienta.conflictos import *"
   ]
  },
  {
   "cell_type": "code",
   "execution_count": 33,
   "metadata": {},
   "outputs": [],
   "source": [
    "carpetaDatos = r'datos_sectores/' # carpeta que contiene los datos\n",
    "#nombreDatos = r\"bilbao_f_cluster.csv\"\n",
    "nombreDatos = r\"datos_javi.csv\"\n",
    "carpetaImagenes = r\"generacion_conflictos/\""
   ]
  },
  {
   "cell_type": "code",
   "execution_count": 34,
   "metadata": {},
   "outputs": [
    {
     "name": "stderr",
     "output_type": "stream",
     "text": [
      "/Users/jaimebowen/opt/miniconda3/envs/tfgpaquetes/lib/python3.7/site-packages/ipykernel_launcher.py:1: DtypeWarning: Columns (7) have mixed types.Specify dtype option on import or set low_memory=False.\n",
      "  \"\"\"Entry point for launching an IPython kernel.\n"
     ]
    },
    {
     "name": "stdout",
     "output_type": "stream",
     "text": [
      "<class 'pandas.core.frame.DataFrame'>\n",
      "RangeIndex: 196706 entries, 0 to 196705\n",
      "Data columns (total 17 columns):\n",
      " #   Column         Non-Null Count   Dtype              \n",
      "---  ------         --------------   -----              \n",
      " 0   Unnamed: 0     196706 non-null  int64              \n",
      " 1   alert          196706 non-null  bool               \n",
      " 2   altitude       137034 non-null  float64            \n",
      " 3   callsign       190053 non-null  object             \n",
      " 4   geoaltitude    120760 non-null  float64            \n",
      " 5   groundspeed    166308 non-null  float64            \n",
      " 6   hour           196706 non-null  datetime64[ns, UTC]\n",
      " 7   icao24         196706 non-null  object             \n",
      " 8   last_position  196706 non-null  datetime64[ns, UTC]\n",
      " 9   latitude       196706 non-null  float64            \n",
      " 10  longitude      196706 non-null  float64            \n",
      " 11  onground       196706 non-null  bool               \n",
      " 12  spi            196706 non-null  bool               \n",
      " 13  squawk         169615 non-null  float64            \n",
      " 14  timestamp      196706 non-null  datetime64[ns, UTC]\n",
      " 15  track          166308 non-null  float64            \n",
      " 16  vertical_rate  166516 non-null  float64            \n",
      "dtypes: bool(3), datetime64[ns, UTC](3), float64(8), int64(1), object(2)\n",
      "memory usage: 21.6+ MB\n"
     ]
    }
   ],
   "source": [
    "vuelos = cargardatos(carpetaDatos,nombreDatos)\n",
    "vuelos.data.info()"
   ]
  },
  {
   "cell_type": "code",
   "execution_count": 35,
   "metadata": {},
   "outputs": [],
   "source": [
    "def filtrardatos2(datos):\n",
    "    if not isinstance(datos,Traffic):\n",
    "        datos = Traffic(datos)\n",
    "    # condiciones del sector\n",
    "    aviones_entierra =  datos.data[datos.data[\"onground\"] == True].index \n",
    "    datos.data.drop(aviones_entierra,inplace = True)\n",
    "    \n",
    "\n",
    "    # filtrado de datos no validos\n",
    "    datos = datos.clean_invalid()\n",
    "    datos = datos.drop_duplicates()\n",
    "\n",
    "    # filtrado de datos incompletos\n",
    "    Var_huecos = datos.data.columns[datos.data.isnull().any()]\n",
    "    # identificacion de filas con NaN\n",
    "    nan_rows = datos.data[datos.data.isnull().any(1)]\n",
    "\n",
    "    # identificacion de aeronaves con NaN\n",
    "    ave_huecos = nan_rows.callsign.value_counts()\n",
    "    list_ave = []\n",
    "    # identificacion de aeronaves con >10 fallos de recepción ADS-B\n",
    "    v_filtrado = datos\n",
    "    for count, values in enumerate(ave_huecos):\n",
    "        if values > 10:\n",
    "            list_ave.append(ave_huecos.index[count])\n",
    "            # se identifican las filas de las aeronaves y las eliminamos\n",
    "            rows = datos.data.loc[datos.data.callsign == ave_huecos.index[count]].index\n",
    "            v_filtrado = v_filtrado.drop(rows)\n",
    "\n",
    "    # se eliminan todas las filas que tienen NaN\n",
    "    v_filtrado = v_filtrado.data.dropna() # OJO devuelve un df no un Traffic\n",
    "    v_filtrado = traffic.core.Traffic(v_filtrado)\n",
    "    Var_huecos = []\n",
    "    # identificación de aeronaves con huecos\n",
    "    aves_huecos = []\n",
    "    # se cambian los nans por la media enter los dos valores\n",
    "    from sklearn.impute import SimpleImputer\n",
    "    my_imputer = SimpleImputer(missing_values=np.nan, strategy='mean')\n",
    "\n",
    "    #Aplicamos el método a cada aeronave:\n",
    "    for count, name in enumerate(aves_huecos):\n",
    "        ave_impute = pd.DataFrame(my_imputer.fit_transform(vuelos_prueba))\n",
    "    return v_filtrado"
   ]
  },
  {
   "cell_type": "code",
   "execution_count": 36,
   "metadata": {},
   "outputs": [],
   "source": [
    "vuelos = filtrardatos2(vuelos)\n",
    "vuelos = vuelos.assign_id().unwrap().eval(max_workers=4)\n",
    "guardarcsv(vuelos,\"datos_javi_filtrado\")\n"
   ]
  },
  {
   "cell_type": "code",
   "execution_count": 37,
   "metadata": {},
   "outputs": [
    {
     "name": "stdout",
     "output_type": "stream",
     "text": [
      "<class 'pandas.core.frame.DataFrame'>\n",
      "Int64Index: 66743 entries, 0 to 276\n",
      "Data columns (total 19 columns):\n",
      " #   Column           Non-Null Count  Dtype              \n",
      "---  ------           --------------  -----              \n",
      " 0   Unnamed: 0       66743 non-null  int64              \n",
      " 1   alert            66743 non-null  bool               \n",
      " 2   altitude         66743 non-null  float64            \n",
      " 3   callsign         66743 non-null  object             \n",
      " 4   geoaltitude      66743 non-null  float64            \n",
      " 5   groundspeed      66743 non-null  float64            \n",
      " 6   hour             66743 non-null  datetime64[ns, UTC]\n",
      " 7   icao24           66743 non-null  object             \n",
      " 8   last_position    66743 non-null  datetime64[ns, UTC]\n",
      " 9   latitude         66743 non-null  float64            \n",
      " 10  longitude        66743 non-null  float64            \n",
      " 11  onground         66743 non-null  bool               \n",
      " 12  spi              66743 non-null  bool               \n",
      " 13  squawk           66743 non-null  float64            \n",
      " 14  timestamp        66743 non-null  datetime64[ns, UTC]\n",
      " 15  track            66743 non-null  float64            \n",
      " 16  vertical_rate    66743 non-null  float64            \n",
      " 17  flight_id        66743 non-null  object             \n",
      " 18  track_unwrapped  66743 non-null  float64            \n",
      "dtypes: bool(3), datetime64[ns, UTC](3), float64(9), int64(1), object(3)\n",
      "memory usage: 8.8+ MB\n"
     ]
    }
   ],
   "source": [
    "vuelos.data.info()"
   ]
  },
  {
   "cell_type": "code",
   "execution_count": null,
   "metadata": {},
   "outputs": [],
   "source": []
  }
 ],
 "metadata": {
  "kernelspec": {
   "display_name": "Python 3",
   "language": "python",
   "name": "python3"
  },
  "language_info": {
   "codemirror_mode": {
    "name": "ipython",
    "version": 3
   },
   "file_extension": ".py",
   "mimetype": "text/x-python",
   "name": "python",
   "nbconvert_exporter": "python",
   "pygments_lexer": "ipython3",
   "version": "3.7.8"
  }
 },
 "nbformat": 4,
 "nbformat_minor": 4
}
